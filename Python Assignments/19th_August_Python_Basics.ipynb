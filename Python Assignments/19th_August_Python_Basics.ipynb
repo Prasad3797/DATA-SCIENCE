{
 "cells": [
  {
   "cell_type": "markdown",
   "id": "7b44905a-e96b-4dcd-af68-3bfea4783451",
   "metadata": {},
   "source": [
    "### **TOPIC: Python Basics Variable**"
   ]
  },
  {
   "cell_type": "markdown",
   "id": "8fb29269-b523-4647-ac1e-77c2ae2df03b",
   "metadata": {},
   "source": [
    "#### 1. Declare two variables, `x` and `y`, and assign them integer values. Swap the values of these variables without using any temporary variable."
   ]
  },
  {
   "cell_type": "code",
   "execution_count": 1,
   "id": "42cfe1a1-9e21-46a3-9cca-f7e827138e98",
   "metadata": {},
   "outputs": [
    {
     "name": "stdout",
     "output_type": "stream",
     "text": [
      "After Swapping\n",
      "x = 20\n",
      "y = 10\n"
     ]
    }
   ],
   "source": [
    "# Step 1: Declaring the two variables\n",
    "x = 10\n",
    "y = 20\n",
    "\n",
    "# Step2: Swapping the values\n",
    "x = x + y\n",
    "y = x - y\n",
    "x = x - y\n",
    "\n",
    "# Step3: printing the resut\n",
    "print(\"After Swapping\")\n",
    "print(\"x =\", x)\n",
    "print(\"y =\", y)"
   ]
  },
  {
   "cell_type": "markdown",
   "id": "073a4139-098e-4a53-bf05-4cf34a7aafb1",
   "metadata": {},
   "source": [
    "- x = 10: This line declares a variable x and assigns it the value 10.\n",
    "\n",
    "- y = 20: This line declares a variable y and assigns it the value 20.\n",
    "\n",
    "- x = x + y: This line adds the value of y to the value of x and assigns the result to x. After this line, the value of x is 30.\n",
    "\n",
    "- y = x - y: This line subtracts the value of y from the value of x and assigns the result to y. After this line, the value of y is 10.\n",
    "\n",
    "- x = x - y: This line subtracts the value of y from the value of x and assigns the result to x. After this line, the value of x is 20.\n",
    "\n",
    "- print(\"After Swapping\") : This line prints the string \"After Swapping\" to the console.\n",
    "\n",
    "- print(\"x =\", x): This line prints the string \"x =\" followed by the value of x, which is now 20.\n",
    "\n",
    "- print(\"y =\", y): This line prints the string \"y =\" followed by the value of y, which is now 10."
   ]
  },
  {
   "cell_type": "markdown",
   "id": "5496ec69-ae60-46ef-a229-948aaae23254",
   "metadata": {},
   "source": [
    "#### 2. Create a program that calculates the area of a rectangle. Take the length and width as inputs from the user and store them in variables. Calculate and display the area."
   ]
  },
  {
   "cell_type": "code",
   "execution_count": 1,
   "id": "d07aff52-bab0-4a59-a5ad-298feea43705",
   "metadata": {},
   "outputs": [
    {
     "name": "stdin",
     "output_type": "stream",
     "text": [
      "Enter the Length: 5\n",
      "Enter the Width: 10\n"
     ]
    },
    {
     "name": "stdout",
     "output_type": "stream",
     "text": [
      "The Area of Rectangle is: 50.0\n"
     ]
    }
   ],
   "source": [
    "# Step 1: Taking Width and length from user \n",
    "Length = float(input(\"Enter the Length:\")) \n",
    "Width = float(input(\"Enter the Width:\"))\n",
    "\n",
    "# Step 2: calculating the area\n",
    "Area = Length * Width \n",
    "\n",
    "# Step 3: printing the result\n",
    "print(\"The Area of Rectangle is:\",Area)            "
   ]
  },
  {
   "cell_type": "markdown",
   "id": "9349e7cf-866f-4d02-9e89-ee2527022c0a",
   "metadata": {},
   "source": [
    "- We start by using the input() function to receive input from the user for the length and width of the rectangle. The input() function returns a string, so we use float() to convert the input to floating-point numbers since length and width can have decimal values.\n",
    "\n",
    "- By multiplying its length and width. We have calculated the area using the formula Area = Length * Width.\n",
    "\n",
    "- Finally, we display the calculated area to the user using the print() function. We concatenate the string \"The Area of Rectangle is:\" with the calculated Area variable to present the result to the user."
   ]
  },
  {
   "cell_type": "markdown",
   "id": "cdf1919b-a6d4-42bf-8ae6-ab99399ebd83",
   "metadata": {},
   "source": [
    "#### 3. Write a Python program that converts temperatures from Celsius to Fahrenheit. Take the temperature in Celsius as input, store it in a variable, convert it to Fahrenheit, and display the result."
   ]
  },
  {
   "cell_type": "code",
   "execution_count": 2,
   "id": "37ab9ce5-b67d-46fe-b22b-f320cdbc81a6",
   "metadata": {},
   "outputs": [
    {
     "name": "stdin",
     "output_type": "stream",
     "text": [
      "Temperature in Celsius: 27\n"
     ]
    },
    {
     "name": "stdout",
     "output_type": "stream",
     "text": [
      "Temperature in Fahrenheit: 80.6\n"
     ]
    }
   ],
   "source": [
    "# Step 1: Taking Temperature in Celsius from user\n",
    "Celsius = float(input(\"Temperature in Celsius:\"))\n",
    "\n",
    "# Step 2: converting temperature from Celsius to Fahrenheit\n",
    "Fahrenheit = (Celsius * 9/5) + 32\n",
    "\n",
    "# Step 3: printing the temperature converted to celsius\n",
    "print(\"Temperature in Fahrenheit:\",Fahrenheit)"
   ]
  },
  {
   "cell_type": "markdown",
   "id": "89d32f6d-c015-47e2-9348-5e780811ba50",
   "metadata": {},
   "source": [
    "- First we have taken the temperature in Celsius from the user using the input() function. we have used the The float() function to convert the input to a floating-point number because temperature can have decimal values.\n",
    "\n",
    "- By using this formula \"Fahrenheit = (Celsius * 9/5) + 32\" we have made a conversion from Celsius to Fahrenheit and store the result in a variable called as Fahrenheit.\n",
    "\n",
    "- Finally, we have used print() function to display the temperature that is converted from Celsius to Fahrenheit.\n",
    "\n",
    "\n"
   ]
  },
  {
   "cell_type": "markdown",
   "id": "12539e3a-00c2-41b7-a38c-83ffe6f9564c",
   "metadata": {},
   "source": [
    "### **TOPIC: String Based Questions**"
   ]
  },
  {
   "cell_type": "markdown",
   "id": "1733a351-6495-4ac2-80f6-320684808878",
   "metadata": {},
   "source": [
    "#### 1. Write a Python program that takes a string as input and prints the length of the string."
   ]
  },
  {
   "cell_type": "code",
   "execution_count": 27,
   "id": "0cdb2a63-8f1d-4e5e-ac06-7271cb1105f4",
   "metadata": {},
   "outputs": [
    {
     "name": "stdin",
     "output_type": "stream",
     "text": [
      "Enter the String: Prasad\n"
     ]
    },
    {
     "name": "stdout",
     "output_type": "stream",
     "text": [
      "The Length of String is: 6\n"
     ]
    }
   ],
   "source": [
    "# Step 1: Taking input from the user\n",
    "S = input(\"Enter the String:\")\n",
    "\n",
    "# Step 2: Calculating the length of the input string using the built-in len() function\n",
    "Length = len(S)\n",
    "\n",
    "# Step 3: Printing the length of the string\n",
    "print(\"The Length of String is:\",Length)"
   ]
  },
  {
   "cell_type": "markdown",
   "id": "04aa8ee2-e7d6-4a75-b29e-8153ff4e94bb",
   "metadata": {},
   "source": [
    "- S = input(\"Enter the String:\") :- This line prompts the user to enter a string. The input() function takes a string as an argument, which is displayed as a message to the user. The entered string is then stored in the variable S.\n",
    "\n",
    "- Length = len(S) :- This line calculates the length of the string stored in the variable S using the len() function and stores it in the    variable Length.\n",
    "\n",
    "- print(\"The Length of String is:\",Length) :- This line prints a message to the user that displays the length of the entered string. \n",
    "  The print() function takes two arguments: a string and the value of the variable Length, separated by a comma. The string and the value of   Length are concatenated and displayed as output."
   ]
  },
  {
   "cell_type": "markdown",
   "id": "11978382-51bd-447a-9015-e94d867eb424",
   "metadata": {},
   "source": [
    "#### 2. Create a program that takes a sentence from the user and counts the number of vowels (a, e, i, o, u) in the string."
   ]
  },
  {
   "cell_type": "code",
   "execution_count": 37,
   "id": "18204863-5f2b-4f07-a2d3-fa7d342d435d",
   "metadata": {},
   "outputs": [
    {
     "name": "stdin",
     "output_type": "stream",
     "text": [
      "Enter a Sentence: Fun To Learn Data Science With PW Skills\n"
     ]
    },
    {
     "name": "stdout",
     "output_type": "stream",
     "text": [
      "Number of vowels:  11\n"
     ]
    }
   ],
   "source": [
    "# Step 1: Take a sentence as input from the user\n",
    "sentence = input(\"Enter a Sentence:\")\n",
    "\n",
    "# Step 2: Initialize a count variable to 0\n",
    "count = 0\n",
    "\n",
    "# Step 3: Use a for loop to iterate over each character in the sentence\n",
    "for i in sentence :\n",
    "    \n",
    "    # Step 4: Convert the character to lowercase\n",
    "    i = i.lower()\n",
    "    \n",
    "    # Step 5: Check if the character is a vowel\n",
    "    if i in \"aeiou\":\n",
    "        \n",
    "        # Step 6: If it is a vowel, increment the count variable by 1\n",
    "        count = count + 1 \n",
    "\n",
    "# Step 7: Print the total number of vowels in the sentence\n",
    "print(\"Number of vowels: \" , count)"
   ]
  },
  {
   "cell_type": "markdown",
   "id": "7f094922-b51a-4518-9490-d679f08bf749",
   "metadata": {},
   "source": [
    "- Firstly, the code prompts the user to enter a sentence and stores the input in a variable called sentence with the line sentence = input(\"Enter a Sentence:\").\n",
    "\n",
    "- After that, the code initializes a variable called count to 0 with the line count = 0. This variable will be used to keep track of the number of vowels in the sentence.\n",
    "\n",
    "- Next, the code starts a for loop that will iterate over each character in the sentence with the line for i in sentence :. Inside the loop, the current character is converted to lowercase using the lower() method with the line i = i.lower(). This is done so that the code can correctly identify vowels regardless of their case (i.e., upper or lower).\n",
    "\n",
    "- The code then checks if the current character is a vowel by checking if it is one of the characters in the string \"aeiou\" with the line if i in \"aeiou\":.\n",
    " - If the current character is a vowel, the count variable is incremented by 1 with the line count = count + 1. After the for loop has finished iterating over all the characters in the sentence, the code prints the total number of vowels in the sentence with the line print(\"Number of vowels: \" , count)"
   ]
  },
  {
   "cell_type": "markdown",
   "id": "8659937d-ac99-490f-9724-f01e4cbe822b",
   "metadata": {},
   "source": [
    "#### 3. Given a string, reverse the order of characters using string slicing and print the reversed string."
   ]
  },
  {
   "cell_type": "code",
   "execution_count": 47,
   "id": "aebef55b-c30d-4c4d-8dfa-adc3e45965c3",
   "metadata": {},
   "outputs": [
    {
     "name": "stdin",
     "output_type": "stream",
     "text": [
      "Enter a String: Prasad\n"
     ]
    },
    {
     "name": "stdout",
     "output_type": "stream",
     "text": [
      "Reversed_String: dasarP\n"
     ]
    }
   ],
   "source": [
    "# Step 1: Take a string as input from the user\n",
    "Input_String = input(\"Enter a String:\")\n",
    "\n",
    "# Step 2: Reverse the string using slicing\n",
    "Reversed_String = Input_String[::-1]\n",
    "\n",
    "# Step 3: Print the reversed string\n",
    "print(\"Reversed_String:\",Reversed_String)"
   ]
  },
  {
   "cell_type": "markdown",
   "id": "572ce053-e48a-45b1-af51-c82bad47e7a4",
   "metadata": {},
   "source": [
    "- Firstly, we have used the input() function to take a string as input from the user: Input_String = input(\"Enter a String:\").\n",
    "  The string entered by the user is stored in the variable Input_String.\n",
    "\n",
    "- After that, we have used slicing syntax to reverse the string stored in the Input_String variable: Reversed_String = Input_String[::-1]. \n",
    "  The slicing syntax [::-1] means to start from the end of the string (-1) and move towards the beginning of the string with a step of -1. \n",
    "  The reversed string is stored in the variable Reversed_String.\n",
    "\n",
    "- Finally, we have used the print() function to display the reversed string stored in the Reversed_String variable:    print(\"Reversed_String:\",Reversed_String)."
   ]
  },
  {
   "cell_type": "markdown",
   "id": "e9963412-9553-4b17-9fac-b304ebdcdb61",
   "metadata": {},
   "source": [
    "#### 4. Write a program that takes a string as input and checks if it is a palindrome (reads the same forwards and backwards)."
   ]
  },
  {
   "cell_type": "code",
   "execution_count": 23,
   "id": "79a78089-ef40-4e76-be9b-415f1c0e88f2",
   "metadata": {},
   "outputs": [
    {
     "name": "stdin",
     "output_type": "stream",
     "text": [
      "Enter a string:  Madam\n"
     ]
    },
    {
     "name": "stdout",
     "output_type": "stream",
     "text": [
      "Madam is a palindrome\n"
     ]
    }
   ],
   "source": [
    "# Step 1: Take an input string from the user\n",
    "input_string = input(\"Enter a string: \")\n",
    "\n",
    "# Step 2: Remove all spaces from the input string and convert it to lowercase\n",
    "new_string = input_string.replace(\" \",\"\").lower()\n",
    "\n",
    "# Step 3: Reverse the new string\n",
    "new_string = new_string[::-1]\n",
    "\n",
    "# Step 4: Check if the reversed string is equal to the original string\n",
    "if new_string == new_string[::-1]:\n",
    "    # If it is, print that the input string is a palindrome\n",
    "    print(input_string, \"is a palindrome\")\n",
    "else:\n",
    "    # Otherwise, print that the input string is not a palindrome\n",
    "    print(input_string, \"is not a palindrome\")"
   ]
  },
  {
   "cell_type": "markdown",
   "id": "acb9d961-6714-4ad6-9105-54d3649a635f",
   "metadata": {},
   "source": [
    "- Firstly, we have used the line input_string = input(\"Enter a string: \") to prompt the user to enter a string and store the input in the variable input_string.\n",
    "\n",
    "- Next, we have used the line new_string = input_string.replace(\" \",\"\").lower() to remove all spaces from the input_string using the replace method, convert it to lowercase using the lower method, and store the result in the variable new_string.\n",
    "\n",
    "- Then, we have used the line new_string = new_string[::-1] to reverse the new_string using slicing and store the result back in the variable new_string.\n",
    "\n",
    "- After that, we have used the line if new_string == new_string[::-1]: to check if the reversed new_string is equal to the original new_string. \n",
    "  If it is, then we execute the following line of code: print(input_string, \"is a palindrome\"): This line of code prints that the input string is a palindrome.\n",
    "\n",
    "- Otherwise, if the reversed new_string is not equal to the original new_string, then we execute the following line of code: print(input_string, \"is not a palindrome\"): This line of code prints that the input string is not a palindrome."
   ]
  },
  {
   "cell_type": "markdown",
   "id": "254f8b0b-82a7-4b78-b5ac-9858ce95c30b",
   "metadata": {},
   "source": [
    "#### 5. Create a program that takes a string as input and removes all the spaces from it. Print the modified string without spaces."
   ]
  },
  {
   "cell_type": "code",
   "execution_count": 27,
   "id": "9eb6adbd-b1e1-44f5-a473-ce5e7db7f278",
   "metadata": {},
   "outputs": [
    {
     "name": "stdin",
     "output_type": "stream",
     "text": [
      "Enter a string:  Never          Give         Up\n"
     ]
    },
    {
     "name": "stdout",
     "output_type": "stream",
     "text": [
      "Modified string without spaces: NeverGiveUp\n"
     ]
    }
   ],
   "source": [
    "# Step 1: Take a string as input from the user\n",
    "input_string = input(\"Enter a string: \")\n",
    "\n",
    "# Step 2: Remove all spaces from the input string using the replace method\n",
    "modified_string = input_string.replace(\" \", \"\")\n",
    "\n",
    "# Step 3: Print the modified string without spaces\n",
    "print(\"Modified string without spaces:\", modified_string)"
   ]
  },
  {
   "cell_type": "markdown",
   "id": "eecd1cb5-2feb-458d-8b10-bd549b313cf6",
   "metadata": {},
   "source": [
    "- Firstly, we have used the line input_string = input(\"Enter a string: \") to prompt the user to enter a string and store the input in the variable input_string.\n",
    "\n",
    "- Next, we have used the line modified_string = input_string.replace(\" \", \"\") to remove all spaces from the input_string using the replace method and store the result in the variable modified_string.\n",
    "\n",
    "- Then, we have used the line print(\"Modified string without spaces:\", modified_string) to print the modified string without spaces."
   ]
  },
  {
   "cell_type": "code",
   "execution_count": null,
   "id": "59c2ae99-cd2e-41fd-861d-2b35858a987c",
   "metadata": {},
   "outputs": [],
   "source": []
  }
 ],
 "metadata": {
  "kernelspec": {
   "display_name": "Python 3 (ipykernel)",
   "language": "python",
   "name": "python3"
  },
  "language_info": {
   "codemirror_mode": {
    "name": "ipython",
    "version": 3
   },
   "file_extension": ".py",
   "mimetype": "text/x-python",
   "name": "python",
   "nbconvert_exporter": "python",
   "pygments_lexer": "ipython3",
   "version": "3.10.8"
  }
 },
 "nbformat": 4,
 "nbformat_minor": 5
}
