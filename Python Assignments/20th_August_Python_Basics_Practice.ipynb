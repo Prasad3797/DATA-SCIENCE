{
 "cells": [
  {
   "cell_type": "markdown",
   "id": "12bb4b8a-3be6-48bd-8f98-419c05a90d9d",
   "metadata": {},
   "source": [
    "# **TOPIC: String Based Assignment Problem**\n",
    "---"
   ]
  },
  {
   "cell_type": "markdown",
   "id": "8246ba7e-8003-4cbc-bc13-a16059e5c214",
   "metadata": {},
   "source": [
    "### 1. Write a program to reverse a string."
   ]
  },
  {
   "cell_type": "code",
   "execution_count": null,
   "id": "5d55420f-7324-4d29-9b54-ba26460df2fc",
   "metadata": {},
   "outputs": [
    {
     "name": "stdin",
     "output_type": "stream",
     "text": [
      "Input String: Prasad\n"
     ]
    },
    {
     "name": "stdout",
     "output_type": "stream",
     "text": [
      "Reversed String: dasarP\n"
     ]
    }
   ],
   "source": [
    "string = input(\"Input String:\")\n",
    "reversed_string = string[::-1]\n",
    "print(\"Reversed String:\", reversed_string)"
   ]
  },
  {
   "cell_type": "markdown",
   "id": "b9797dbd-1e55-4312-9d5f-ab5059e6299c",
   "metadata": {},
   "source": [
    "### 2. Check if a string is a palindrome."
   ]
  },
  {
   "cell_type": "code",
   "execution_count": 94,
   "id": "36709af2-6802-4fcd-ae49-c62f336c88b5",
   "metadata": {},
   "outputs": [
    {
     "name": "stdin",
     "output_type": "stream",
     "text": [
      "Enter a string: Was it a car or a cat I saw\n"
     ]
    },
    {
     "name": "stdout",
     "output_type": "stream",
     "text": [
      "Was it a car or a cat I saw is a palindrome\n"
     ]
    }
   ],
   "source": [
    "input_string = input(\"Enter a string:\")\n",
    "new_string = input_string.replace(\" \", \"\").lower()\n",
    "if new_string == new_string[::-1] :\n",
    "    print(input_string, \"is a palindrome\")\n",
    "else :\n",
    "    print(input_string, \"is not a palindrome\")"
   ]
  },
  {
   "cell_type": "markdown",
   "id": "a5a56635-6988-40a8-ba8b-52d0df39b50c",
   "metadata": {},
   "source": [
    "### 3. Convert a string to uppercase."
   ]
  },
  {
   "cell_type": "code",
   "execution_count": 1,
   "id": "b4d72ece-14f9-4e76-ae76-78fe8a910cfb",
   "metadata": {},
   "outputs": [
    {
     "name": "stdin",
     "output_type": "stream",
     "text": [
      "Enter a String: prasad\n"
     ]
    },
    {
     "name": "stdout",
     "output_type": "stream",
     "text": [
      "String in Uppercase: PRASAD\n"
     ]
    }
   ],
   "source": [
    "string = input(\"Enter a String:\")\n",
    "uppercase = string.upper()\n",
    "print(\"String in Uppercase:\", uppercase)"
   ]
  },
  {
   "cell_type": "markdown",
   "id": "04343cb3-6d69-4b4b-84f0-3d0e6d166290",
   "metadata": {},
   "source": [
    "### 4. Convert a string to lowercase."
   ]
  },
  {
   "cell_type": "code",
   "execution_count": 2,
   "id": "7f9c697f-04f9-4014-b025-3d5096e6c027",
   "metadata": {},
   "outputs": [
    {
     "name": "stdin",
     "output_type": "stream",
     "text": [
      "Enter a String: PRASAD\n"
     ]
    },
    {
     "name": "stdout",
     "output_type": "stream",
     "text": [
      "String in lowercase: prasad\n"
     ]
    }
   ],
   "source": [
    "string = input(\"Enter a String:\")\n",
    "lowercase = string.lower()\n",
    "print(\"String in lowercase:\", lowercase)"
   ]
  },
  {
   "cell_type": "markdown",
   "id": "88705334-83ff-4f1f-b283-f2964f1a165a",
   "metadata": {},
   "source": [
    "### 5. Count the number of vowels in a string."
   ]
  },
  {
   "cell_type": "code",
   "execution_count": 96,
   "id": "f314c811-61ee-406e-aa6d-8bab6b1f72f4",
   "metadata": {},
   "outputs": [
    {
     "name": "stdin",
     "output_type": "stream",
     "text": [
      "Enter a string: Data Science Pro\n"
     ]
    },
    {
     "name": "stdout",
     "output_type": "stream",
     "text": [
      "Number of Vowels: 6\n"
     ]
    }
   ],
   "source": [
    "string = input(\"Enter a string:\")\n",
    "count = 0\n",
    "for i in string :\n",
    "    i = i.lower()\n",
    "    if i in \"aeiou\" :\n",
    "        count = count + 1\n",
    "print(\"Number of Vowels:\", count)"
   ]
  },
  {
   "cell_type": "markdown",
   "id": "c2a8fefc-02a4-4a62-a056-a2c7bb91792f",
   "metadata": {},
   "source": [
    "### 6. Count the number of consonants in a string."
   ]
  },
  {
   "cell_type": "code",
   "execution_count": 28,
   "id": "9d54f00e-7dc0-4fff-815f-26edb904efd7",
   "metadata": {},
   "outputs": [
    {
     "name": "stdin",
     "output_type": "stream",
     "text": [
      "Enter a string: Data Science Pro\n"
     ]
    },
    {
     "name": "stdout",
     "output_type": "stream",
     "text": [
      "Number of consonants: 8\n"
     ]
    }
   ],
   "source": [
    "string = input(\"Enter a string:\")\n",
    "count = 0\n",
    "for i in string :\n",
    "    i = i.lower()\n",
    "    if i not in \"aeiou\" and i != ' ':\n",
    "        count = count + 1\n",
    "print(\"Number of consonants:\", count)"
   ]
  },
  {
   "cell_type": "markdown",
   "id": "2313c9df-87a8-4a59-ab7b-f0a84bd66b8f",
   "metadata": {},
   "source": [
    "### 7. Remove all whitespaces from a string."
   ]
  },
  {
   "cell_type": "code",
   "execution_count": 39,
   "id": "4066a329-6598-4d0c-837e-6a6cc55dd92a",
   "metadata": {},
   "outputs": [
    {
     "name": "stdin",
     "output_type": "stream",
     "text": [
      "Enter a String:  D     a       t        a\n"
     ]
    },
    {
     "name": "stdout",
     "output_type": "stream",
     "text": [
      "String After Removing All Spaces: Data\n"
     ]
    }
   ],
   "source": [
    "string = input(\"Enter a String: \")\n",
    "new_string = string.replace(' ', '')\n",
    "print(\"String After Removing All Spaces:\", new_string)"
   ]
  },
  {
   "cell_type": "markdown",
   "id": "0f41282c-cebe-46cb-8d3c-ce2472b63ae0",
   "metadata": {},
   "source": [
    "### 8. Find the length of a string without using the `len()` function."
   ]
  },
  {
   "cell_type": "code",
   "execution_count": 5,
   "id": "cdf55fb0-84a3-4d6b-afa2-dd42488b2526",
   "metadata": {},
   "outputs": [
    {
     "name": "stdin",
     "output_type": "stream",
     "text": [
      "Enter a String: Nice\n"
     ]
    },
    {
     "name": "stdout",
     "output_type": "stream",
     "text": [
      "The Length of a String is: 4\n"
     ]
    }
   ],
   "source": [
    "string = input(\"Enter a String:\")\n",
    "count = 0\n",
    "for i in string :\n",
    "    count += 1\n",
    "print(\"The Length of a String is:\", count)"
   ]
  },
  {
   "cell_type": "markdown",
   "id": "65eef8ff-1c88-4c54-a85d-0e3a51ff63f4",
   "metadata": {},
   "source": [
    "### 9. Check if a string contains a specific word."
   ]
  },
  {
   "cell_type": "code",
   "execution_count": 13,
   "id": "1aa8f17e-bc07-4b83-9451-3326b93f7585",
   "metadata": {},
   "outputs": [
    {
     "name": "stdin",
     "output_type": "stream",
     "text": [
      "Enter a String: the weather looks humid\n",
      "Enter the specific word to check for: humid\n"
     ]
    },
    {
     "name": "stdout",
     "output_type": "stream",
     "text": [
      "The word contains the 'humid'\n"
     ]
    }
   ],
   "source": [
    "string = input(\"Enter a String:\")\n",
    "specific_word =input(\"Enter the specific word to check for:\")\n",
    "if specific_word in string :\n",
    "    print(f\"The word contains the '{specific_word}'\")\n",
    "else :\n",
    "    print(f\"The word does not contains '{specific_word}'\")"
   ]
  },
  {
   "cell_type": "markdown",
   "id": "8cdfe949-5b41-4ff7-a3cf-b252b16e2452",
   "metadata": {},
   "source": [
    "### 10. Replace a word in a string with another word."
   ]
  },
  {
   "cell_type": "code",
   "execution_count": 15,
   "id": "a7fc24c8-67f3-4b4e-85aa-80145f530eb4",
   "metadata": {},
   "outputs": [
    {
     "name": "stdin",
     "output_type": "stream",
     "text": [
      "Enter a sentence: This Class Is Amazing\n",
      "Enter the word to be replaced: Amazing\n",
      "Enter the new word: Superb\n"
     ]
    },
    {
     "name": "stdout",
     "output_type": "stream",
     "text": [
      "Modified String: This Class Is Superb\n"
     ]
    }
   ],
   "source": [
    "string = input(\"Enter a sentence:\")\n",
    "old_word = input(\"Enter the word to be replaced:\")\n",
    "new_word = input(\"Enter the new word:\")\n",
    "modified_string = string.replace(old_word, new_word)\n",
    "print(\"Modified String:\", modified_string)"
   ]
  },
  {
   "cell_type": "markdown",
   "id": "8a11f003-11d2-4f4e-a5a1-3b40e739a34d",
   "metadata": {},
   "source": [
    "### 11. Count the occurrences of a word in a string."
   ]
  },
  {
   "cell_type": "code",
   "execution_count": 42,
   "id": "9a5319f5-3cc2-4515-833b-72e8176ebfe9",
   "metadata": {},
   "outputs": [
    {
     "name": "stdin",
     "output_type": "stream",
     "text": [
      "Enter a string: Data is important Data needs to be protected.\n",
      "Enter a word to check for: Data\n"
     ]
    },
    {
     "name": "stdout",
     "output_type": "stream",
     "text": [
      "The Occurrences of a word 'Data' in a string is 2 times\n"
     ]
    }
   ],
   "source": [
    "string = input(\"Enter a string:\")\n",
    "word = input(\"Enter a word to check for:\")\n",
    "count = string.count(word)\n",
    "print(f\"The Occurrences of a word '{word}' in a string is {count} times\")"
   ]
  },
  {
   "cell_type": "markdown",
   "id": "464da2b9-28cf-4142-b410-79288b87c8b3",
   "metadata": {},
   "source": [
    "### 12. Find the first occurrence of a word in a string."
   ]
  },
  {
   "cell_type": "code",
   "execution_count": 9,
   "id": "f9e9abfe-cf12-430c-a1e5-982a30f0e7cc",
   "metadata": {},
   "outputs": [
    {
     "name": "stdin",
     "output_type": "stream",
     "text": [
      "Enter a String: Data is important. Data needs to be protected.\n",
      "Enter a word to check for: Data\n"
     ]
    },
    {
     "name": "stdout",
     "output_type": "stream",
     "text": [
      "The first occurance of a word 'Data' in a string is at index 0\n"
     ]
    }
   ],
   "source": [
    "string = input(\"Enter a String:\")\n",
    "word = input(\"Enter a word to check for:\")\n",
    "count = string.index(word)\n",
    "print(f\"The first occurance of a word '{word}' in a string is at index {count}\")"
   ]
  },
  {
   "cell_type": "markdown",
   "id": "f393f2eb-c507-47c3-ae4e-66e77de0b1c2",
   "metadata": {},
   "source": [
    "### 13. Find the last occurrence of a word in a string."
   ]
  },
  {
   "cell_type": "code",
   "execution_count": 10,
   "id": "7dc4ca93-6577-4d53-b977-443632bc056d",
   "metadata": {},
   "outputs": [
    {
     "name": "stdin",
     "output_type": "stream",
     "text": [
      "Enter a String: Data is important. Data needs to be protected.\n",
      "Enter a word to check for: Data\n"
     ]
    },
    {
     "name": "stdout",
     "output_type": "stream",
     "text": [
      "The last occurrence of a word 'Data' in a string is at index 19\n"
     ]
    }
   ],
   "source": [
    "string = input(\"Enter a String:\")\n",
    "word = input(\"Enter a word to check for:\")\n",
    "count = string.rindex(word)\n",
    "print(f\"The last occurrence of a word '{word}' in a string is at index {count}\")"
   ]
  },
  {
   "cell_type": "markdown",
   "id": "aa850efb-040b-4570-a2ca-fd052ab6206a",
   "metadata": {},
   "source": [
    "### 14. Split a string into a list of words."
   ]
  },
  {
   "cell_type": "code",
   "execution_count": 1,
   "id": "2f22bfd4-198c-41f0-ba74-9358244d5582",
   "metadata": {},
   "outputs": [
    {
     "name": "stdin",
     "output_type": "stream",
     "text": [
      "Enter a string:  Data Science Pro\n"
     ]
    },
    {
     "name": "stdout",
     "output_type": "stream",
     "text": [
      "Splitted String: ['Data', 'Science', 'Pro']\n"
     ]
    }
   ],
   "source": [
    "string = input(\"Enter a string: \")\n",
    "words = string.split()\n",
    "print(\"Splitted String:\", words)"
   ]
  },
  {
   "cell_type": "markdown",
   "id": "698383f6-57da-4151-b548-298b7503e535",
   "metadata": {},
   "source": [
    "### 15. Join a list of words into a string."
   ]
  },
  {
   "cell_type": "code",
   "execution_count": 2,
   "id": "903a0685-151e-43d4-859f-eca63674efb0",
   "metadata": {},
   "outputs": [
    {
     "name": "stdout",
     "output_type": "stream",
     "text": [
      "Original List: ['Name', 'Course', 'Date', 'Time']\n",
      "Joined String: Name Course Date Time\n"
     ]
    }
   ],
   "source": [
    "List = [\"Name\", \"Course\", \"Date\", \"Time\"]\n",
    "String = \" \".join(List)\n",
    "print(\"Original List:\", List)\n",
    "print(\"Joined String:\", String )"
   ]
  },
  {
   "cell_type": "markdown",
   "id": "7ee15934-c2a7-4ead-8f55-46a85214da6f",
   "metadata": {},
   "source": [
    "### 16. Convert a string where words are separated by spaces to one where words are separated by underscores."
   ]
  },
  {
   "cell_type": "code",
   "execution_count": 11,
   "id": "94932cc9-7478-433f-a32a-744c774ce82d",
   "metadata": {},
   "outputs": [
    {
     "name": "stdout",
     "output_type": "stream",
     "text": [
      "Oringinal String: Fun to learn Data Science\n",
      "Coverted String: Fun_to_learn_Data_Science\n"
     ]
    }
   ],
   "source": [
    "string = \"Fun to learn Data Science\"\n",
    "converted_str = string.replace(\" \", \"_\")\n",
    "print(\"Oringinal String:\", string)\n",
    "print(\"Coverted String:\", converted_str)"
   ]
  },
  {
   "cell_type": "markdown",
   "id": "efc567e6-5c4a-48d7-a2c9-04e364209fb4",
   "metadata": {},
   "source": [
    "### 17. Check if a string starts with a specific word or phrase."
   ]
  },
  {
   "cell_type": "code",
   "execution_count": 10,
   "id": "77e53093-9b8a-4c1a-b032-7737a630cdc4",
   "metadata": {},
   "outputs": [
    {
     "name": "stdin",
     "output_type": "stream",
     "text": [
      "Enter a string: Fantastic\n",
      "Enter a word: F\n"
     ]
    },
    {
     "name": "stdout",
     "output_type": "stream",
     "text": [
      "The String starts with the word 'F'\n"
     ]
    }
   ],
   "source": [
    "string = input(\"Enter a string:\")\n",
    "word = input(\"Enter a word:\")\n",
    "if string.startswith(word) :\n",
    "    print(f\"The String starts with the word '{word}'\")\n",
    "else :\n",
    "    print(f\"The String does not starts with the word '{word}'\")"
   ]
  },
  {
   "cell_type": "markdown",
   "id": "2ce56c4a-b4ba-4ab3-a6d1-036484a32966",
   "metadata": {},
   "source": [
    "### 18. Check if a string ends with a specific word or phrase."
   ]
  },
  {
   "cell_type": "code",
   "execution_count": 4,
   "id": "260500c8-964c-49e5-8430-8b8bbb23b766",
   "metadata": {},
   "outputs": [
    {
     "name": "stdin",
     "output_type": "stream",
     "text": [
      "Enter a string: Fantastic\n",
      "Enter a Word: c\n"
     ]
    },
    {
     "name": "stdout",
     "output_type": "stream",
     "text": [
      "The string ends with the Word 'c'\n"
     ]
    }
   ],
   "source": [
    "string = input(\"Enter a string:\")\n",
    "word = input(\"Enter a Word:\")\n",
    "if string.endswith(word) :\n",
    "    print(f\"The string ends with the Word '{word}'\")\n",
    "else :\n",
    "    print(f\"The string does not ends with the word '{word}'\")"
   ]
  },
  {
   "cell_type": "markdown",
   "id": "317e66cb-a2d6-4743-9ee8-36669dcde38f",
   "metadata": {},
   "source": [
    "### 19. Convert a string to title case (e.g., \"hello world\" to \"Hello World\")."
   ]
  },
  {
   "cell_type": "code",
   "execution_count": 9,
   "id": "a2cde478-e5e4-465b-9fba-5ff58bb968c1",
   "metadata": {},
   "outputs": [
    {
     "name": "stdout",
     "output_type": "stream",
     "text": [
      "Original String: hello world\n",
      "Converted String: Hello World\n"
     ]
    }
   ],
   "source": [
    "Original_str = \"hello world\"\n",
    "coverted_str = Original_str.title()\n",
    "print(\"Original String:\", Original_str)\n",
    "print(\"Converted String:\", coverted_str)"
   ]
  },
  {
   "cell_type": "markdown",
   "id": "75e5d4d7-72ba-44ec-8d93-8812644cbf3a",
   "metadata": {},
   "source": [
    "### 20. Find the longest word in a string."
   ]
  },
  {
   "cell_type": "code",
   "execution_count": 6,
   "id": "18f212e4-d514-45ae-b044-44fc14d1ff37",
   "metadata": {},
   "outputs": [
    {
     "name": "stdin",
     "output_type": "stream",
     "text": [
      "Enter a String: This is the Python Program to Find the longest word in a string.\n"
     ]
    },
    {
     "name": "stdout",
     "output_type": "stream",
     "text": [
      "The Longest Word in a String is: Program\n"
     ]
    }
   ],
   "source": [
    "string = input(\"Enter a String:\")\n",
    "word = string.split()\n",
    "longest_word = max(word, key = len)\n",
    "print(\"The Longest Word in a String is:\", longest_word)"
   ]
  },
  {
   "cell_type": "markdown",
   "id": "9e9a74b8-a24e-4c5d-b9a9-6305f2aadd1f",
   "metadata": {},
   "source": [
    "### 21. Find the shortest word in a string."
   ]
  },
  {
   "cell_type": "code",
   "execution_count": 7,
   "id": "c47f3b7d-e72d-4dfd-8894-092377a703bd",
   "metadata": {},
   "outputs": [
    {
     "name": "stdin",
     "output_type": "stream",
     "text": [
      "Enter a String: This is the Python program to Find the shortest word in a string.\n"
     ]
    },
    {
     "name": "stdout",
     "output_type": "stream",
     "text": [
      "The Shortest Word in a String is: a\n"
     ]
    }
   ],
   "source": [
    "string = input(\"Enter a String:\")\n",
    "word = string.split()\n",
    "shortest_word = min(word, key = len)\n",
    "print(\"The Shortest Word in a String is:\",shortest_word)"
   ]
  },
  {
   "cell_type": "markdown",
   "id": "8b4872c7-6c54-4d28-a201-fa5961f8fddb",
   "metadata": {},
   "source": [
    "### 22. Reverse the order of words in a string."
   ]
  },
  {
   "cell_type": "code",
   "execution_count": 9,
   "id": "f47e015f-66b8-4c5e-9746-36c24e3a6707",
   "metadata": {},
   "outputs": [
    {
     "name": "stdin",
     "output_type": "stream",
     "text": [
      "Enter a String: Cricket is a Sport\n"
     ]
    },
    {
     "name": "stdout",
     "output_type": "stream",
     "text": [
      "Reversed String: Sport a is Cricket\n"
     ]
    }
   ],
   "source": [
    "string = input(\"Enter a String:\")\n",
    "word = string.split()\n",
    "reversed_str = \" \".join(word[::-1])\n",
    "print(\"Reversed String:\", reversed_str)"
   ]
  },
  {
   "cell_type": "markdown",
   "id": "8ba86e8c-4387-4925-99d4-8406f9124583",
   "metadata": {},
   "source": [
    "### 23. Check if a string is alphanumeric."
   ]
  },
  {
   "cell_type": "code",
   "execution_count": 6,
   "id": "f1f8a327-7b30-41c7-91cc-3f67cc7e737d",
   "metadata": {},
   "outputs": [
    {
     "name": "stdin",
     "output_type": "stream",
     "text": [
      "Enter a String: P8ie92ewe20k\n"
     ]
    },
    {
     "name": "stdout",
     "output_type": "stream",
     "text": [
      "'P8ie92ewe20k' is alphanumeric\n"
     ]
    }
   ],
   "source": [
    "string = input(\"Enter a String:\")\n",
    "if string.isalnum() :\n",
    "    print(f\"'{string}' is alphanumeric\")\n",
    "else :\n",
    "    print(f\"'{string}' is not alphanumeric\")"
   ]
  },
  {
   "cell_type": "markdown",
   "id": "55c56cbe-b02b-4a80-bc82-4aaa5947d17f",
   "metadata": {},
   "source": [
    "### 24. Extract all digits from a string."
   ]
  },
  {
   "cell_type": "code",
   "execution_count": 10,
   "id": "7a25d76f-72bb-4518-b12a-ff33456a8d6c",
   "metadata": {},
   "outputs": [
    {
     "name": "stdin",
     "output_type": "stream",
     "text": [
      "Enter a String:  The Price of a Mobile is Rs 20000\n"
     ]
    },
    {
     "name": "stdout",
     "output_type": "stream",
     "text": [
      "Extracted Digits: 20000\n"
     ]
    }
   ],
   "source": [
    "string = input(\"Enter a String: \")\n",
    "digits = ''\n",
    "for char in string:\n",
    "    if char.isdigit():\n",
    "        digits += char\n",
    "if digits:\n",
    "    print(\"Extracted Digits:\", digits)\n",
    "else:\n",
    "    print(string, \"does not contain any digits\")"
   ]
  },
  {
   "cell_type": "markdown",
   "id": "35d45600-fed4-4b3d-9614-56f507adf2b3",
   "metadata": {},
   "source": [
    "### 25. Extract all alphabets from a string."
   ]
  },
  {
   "cell_type": "code",
   "execution_count": 17,
   "id": "99c807cb-fb4c-4f47-a216-a9e743014372",
   "metadata": {},
   "outputs": [
    {
     "name": "stdin",
     "output_type": "stream",
     "text": [
      "Enter a String: The Price of a Mobile is Rs 20000\n"
     ]
    },
    {
     "name": "stdout",
     "output_type": "stream",
     "text": [
      "Extracted Alphabates: ThePriceofaMobileisRs\n"
     ]
    }
   ],
   "source": [
    "string = input(\"Enter a String:\")\n",
    "alphabates = \"\"\n",
    "for char in string :\n",
    "    if char.isalpha() :\n",
    "        alphabates += char\n",
    "if alphabates :\n",
    "    print(\"Extracted Alphabates:\", alphabates)\n",
    "else :\n",
    "    print(string, \"does not contain any alphabates\")"
   ]
  },
  {
   "cell_type": "markdown",
   "id": "4f927b6c-7c8f-4dd1-8492-c7382795e4a6",
   "metadata": {},
   "source": [
    "### 26. Count the number of uppercase letters in a string."
   ]
  },
  {
   "cell_type": "code",
   "execution_count": 41,
   "id": "352a6f82-819d-434d-bd92-a1d3e9649764",
   "metadata": {},
   "outputs": [
    {
     "name": "stdin",
     "output_type": "stream",
     "text": [
      "Enter a String: Sunday\n"
     ]
    },
    {
     "name": "stdout",
     "output_type": "stream",
     "text": [
      "The Number of Uppercase Letters in a String: 1\n"
     ]
    }
   ],
   "source": [
    "string = input(\"Enter a String:\")\n",
    "count = 0\n",
    "for i in string:\n",
    "    if i.isupper():\n",
    "        count += 1\n",
    "print(\"The Number of Uppercase Letters in a String:\", count)"
   ]
  },
  {
   "cell_type": "markdown",
   "id": "67cca745-7d96-485c-aaec-081e175ed1f2",
   "metadata": {},
   "source": [
    "### 27. Count the number of lowercase letters in a string."
   ]
  },
  {
   "cell_type": "code",
   "execution_count": 45,
   "id": "99a5374b-95bf-4c71-8a38-0d009876a346",
   "metadata": {},
   "outputs": [
    {
     "name": "stdin",
     "output_type": "stream",
     "text": [
      "Enter a String: Sunday\n"
     ]
    },
    {
     "name": "stdout",
     "output_type": "stream",
     "text": [
      "The Number of Lowercase Letters in a String: 5\n"
     ]
    }
   ],
   "source": [
    "string = input(\"Enter a String:\")\n",
    "count = 0\n",
    "for i in string :\n",
    "    if i.islower() :\n",
    "        count += 1\n",
    "print(\"The Number of Lowercase Letters in a String:\", count)"
   ]
  },
  {
   "cell_type": "markdown",
   "id": "723c1b99-dc3a-4aa3-b692-4e8b268f5f3b",
   "metadata": {},
   "source": [
    "### 28. Swap the case of each character in a string."
   ]
  },
  {
   "cell_type": "code",
   "execution_count": 68,
   "id": "99ce4a18-ad8f-4eae-b56a-704eb2f67afd",
   "metadata": {},
   "outputs": [
    {
     "name": "stdin",
     "output_type": "stream",
     "text": [
      "Enter a String: abcd\n"
     ]
    },
    {
     "name": "stdout",
     "output_type": "stream",
     "text": [
      "Swapped String: ABCD\n"
     ]
    }
   ],
   "source": [
    "string = input(\"Enter a String:\")\n",
    "new_str = \"\"\n",
    "for i in string :\n",
    "    if i.isupper() :\n",
    "        new_str += i.lower()\n",
    "    elif i.islower() :\n",
    "        new_str += i.upper()\n",
    "    else :\n",
    "        new_str += 1\n",
    "print(\"Swapped String:\", new_str)"
   ]
  },
  {
   "cell_type": "markdown",
   "id": "9e8398f8-a3d0-4a8d-8316-73d8c9931acb",
   "metadata": {},
   "source": [
    "### 29. Remove a specific word from a string."
   ]
  },
  {
   "cell_type": "code",
   "execution_count": 81,
   "id": "ba38a305-85e5-4017-b466-2edaf22f13de",
   "metadata": {},
   "outputs": [
    {
     "name": "stdin",
     "output_type": "stream",
     "text": [
      "Enter a String: James Baburao Bond\n",
      "Enter a Specific Word to Remove: Baburao\n"
     ]
    },
    {
     "name": "stdout",
     "output_type": "stream",
     "text": [
      "Modified String: James  Bond\n"
     ]
    }
   ],
   "source": [
    "string = input(\"Enter a String:\")\n",
    "specific_word = input(\"Enter a Specific Word to Remove:\")\n",
    "new_str = string.replace(specific_word, \"\")\n",
    "print(\"Modified String:\", new_str)"
   ]
  },
  {
   "cell_type": "markdown",
   "id": "a974a9e3-5ee3-4036-8c6b-1f00e98dfe95",
   "metadata": {},
   "source": [
    "### 30. Check if a string is a valid email address."
   ]
  },
  {
   "cell_type": "code",
   "execution_count": 15,
   "id": "61116e0b-2a9f-42a7-b3a3-b4c5cf0783a9",
   "metadata": {},
   "outputs": [
    {
     "name": "stdin",
     "output_type": "stream",
     "text": [
      "Enter a String: person@gmail.com\n"
     ]
    },
    {
     "name": "stdout",
     "output_type": "stream",
     "text": [
      "Valid email\n"
     ]
    }
   ],
   "source": [
    "import re\n",
    "email = input(\"Enter a String:\")\n",
    "if re.match(r'^[a-zA-Z0-9._%+-]+@[a-zA-Z0-9.-]+\\.[a-zA-Z]{2,}$', email):\n",
    "    print(\"Valid email\")\n",
    "else:\n",
    "    print(\"Invalid email\")"
   ]
  },
  {
   "cell_type": "markdown",
   "id": "4a3bc7f0-453c-4e7d-bdff-5e8c617460e8",
   "metadata": {},
   "source": [
    "### 31. Extract the username from an email address string."
   ]
  },
  {
   "cell_type": "code",
   "execution_count": 5,
   "id": "f2186f32-97c4-4ea8-ba56-6e336608e574",
   "metadata": {},
   "outputs": [
    {
     "name": "stdin",
     "output_type": "stream",
     "text": [
      "Enter the Email Address : person@gmail.com\n"
     ]
    },
    {
     "name": "stdout",
     "output_type": "stream",
     "text": [
      "Username : person\n"
     ]
    }
   ],
   "source": [
    "email = input(\"Enter the Email Address :\")\n",
    "username = email.split('@')[0]\n",
    "print(\"Username :\", username)"
   ]
  },
  {
   "cell_type": "markdown",
   "id": "2cdb00a6-cdf1-458b-b99d-6eb290c073a4",
   "metadata": {},
   "source": [
    "### 32. Extract the domain name from an email address string."
   ]
  },
  {
   "cell_type": "code",
   "execution_count": 6,
   "id": "77c9f050-b52a-4a4e-99f6-ac576c560c5e",
   "metadata": {},
   "outputs": [
    {
     "name": "stdin",
     "output_type": "stream",
     "text": [
      "Enter the Email Address : person@gmail.com\n"
     ]
    },
    {
     "name": "stdout",
     "output_type": "stream",
     "text": [
      "Domain Name : gmail.com\n"
     ]
    }
   ],
   "source": [
    "email = input(\"Enter the Email Address :\")\n",
    "domain = email.split('@')[1]\n",
    "print(\"Domain Name :\", domain)"
   ]
  },
  {
   "cell_type": "markdown",
   "id": "271b5804-87a8-45f2-b451-7d35d67b99e5",
   "metadata": {},
   "source": [
    "### 33. Replace multiple spaces in a string with a single space."
   ]
  },
  {
   "cell_type": "code",
   "execution_count": 6,
   "id": "7dff8c2d-28f3-4178-bd6f-17f7b899ea6d",
   "metadata": {},
   "outputs": [
    {
     "name": "stdin",
     "output_type": "stream",
     "text": [
      "Enter a String : S                 P                    A              C                 E\n"
     ]
    },
    {
     "name": "stdout",
     "output_type": "stream",
     "text": [
      "String After Removing Multiple Spaces : S P A C E\n"
     ]
    }
   ],
   "source": [
    "string = input(\"Enter a String :\")\n",
    "string_with_single_spaces = ' '.join(string.split())\n",
    "print(\"String After Removing Multiple Spaces :\",string_with_single_spaces)"
   ]
  },
  {
   "cell_type": "markdown",
   "id": "00aa279b-a84f-49a9-9e61-3cdd2194b3af",
   "metadata": {},
   "source": [
    "### 34. Check if a string is a valid URL."
   ]
  },
  {
   "cell_type": "code",
   "execution_count": 13,
   "id": "d4e95082-94c5-4268-a55e-4e04c56f4459",
   "metadata": {},
   "outputs": [
    {
     "name": "stdin",
     "output_type": "stream",
     "text": [
      "Enter a String : https://gooogle.com/\n"
     ]
    },
    {
     "name": "stdout",
     "output_type": "stream",
     "text": [
      "Valid URL: https://gooogle.com/\n"
     ]
    }
   ],
   "source": [
    "import re\n",
    "\n",
    "string = input(\"Enter a String :\")\n",
    "match = re.search(r'http[s]?://(?:[a-zA-Z]|[0-9]|[$-_@.&+]|[!*\\(\\),]|(?:%[0-9a-fA-F][0-9a-fA-F]))+', string)\n",
    "if match:\n",
    "    valid_url = match.group()\n",
    "    print(\"Valid URL:\", valid_url)\n",
    "else:\n",
    "    print(\"No valid URL found\")"
   ]
  },
  {
   "cell_type": "markdown",
   "id": "212528c0-2630-4ad5-a7fe-d4e66d6b3550",
   "metadata": {},
   "source": [
    "### 35. Extract the protocol (http or https) from a URL string."
   ]
  },
  {
   "cell_type": "code",
   "execution_count": 14,
   "id": "bd2170c8-2f63-48c6-b7c4-b1120074a556",
   "metadata": {},
   "outputs": [
    {
     "name": "stdin",
     "output_type": "stream",
     "text": [
      "Enter a String : https://gooogle.com/\n"
     ]
    },
    {
     "name": "stdout",
     "output_type": "stream",
     "text": [
      "Protocol : https\n"
     ]
    }
   ],
   "source": [
    "url = input(\"Enter a String :\")\n",
    "protocol = url.split(\":\")[0]\n",
    "print(\"Protocol :\", protocol)"
   ]
  },
  {
   "cell_type": "markdown",
   "id": "be6d046d-79aa-4838-b98d-d0c4c6665d84",
   "metadata": {},
   "source": [
    "### 36. Find the frequency of each character in a string."
   ]
  },
  {
   "cell_type": "code",
   "execution_count": 3,
   "id": "3b14893d-522e-42d9-9740-0ebc63ebf54b",
   "metadata": {},
   "outputs": [
    {
     "name": "stdin",
     "output_type": "stream",
     "text": [
      "Enter a string : Data Science\n"
     ]
    },
    {
     "name": "stdout",
     "output_type": "stream",
     "text": [
      "Character : ''D, Frequency : '1'\n",
      "Character : ''a, Frequency : '2'\n",
      "Character : ''t, Frequency : '1'\n",
      "Character : '' , Frequency : '1'\n",
      "Character : ''S, Frequency : '1'\n",
      "Character : ''c, Frequency : '2'\n",
      "Character : ''i, Frequency : '1'\n",
      "Character : ''e, Frequency : '2'\n",
      "Character : ''n, Frequency : '1'\n"
     ]
    }
   ],
   "source": [
    "string = input(\"Enter a string :\")\n",
    "frequency = {}\n",
    "for char in string :\n",
    "    if char in frequency :\n",
    "        frequency[char] += 1\n",
    "    else :\n",
    "        frequency[char] = 1\n",
    "for char, count in frequency.items() :\n",
    "    print(f\"Character : ''{char}, Frequency : '{count}'\")"
   ]
  },
  {
   "cell_type": "markdown",
   "id": "fbb8984e-1099-4369-97c8-a00c2c6da902",
   "metadata": {},
   "source": [
    "### 37. Remove all punctuation from a string."
   ]
  },
  {
   "cell_type": "code",
   "execution_count": 39,
   "id": "b1806979-1d17-438a-bfd4-f75502488af3",
   "metadata": {},
   "outputs": [
    {
     "name": "stdin",
     "output_type": "stream",
     "text": [
      "Enter a String : Yeah! That's Great\n"
     ]
    },
    {
     "name": "stdout",
     "output_type": "stream",
     "text": [
      "After Removing Punctuation : Yeah Thats Great\n"
     ]
    }
   ],
   "source": [
    "import string\n",
    "\n",
    "input_string = input(\"Enter a String :\")\n",
    "modified_str = input_string.translate(str.maketrans('', '', string.punctuation))\n",
    "print(\"After Removing Punctuation :\" , modified_str)"
   ]
  },
  {
   "cell_type": "markdown",
   "id": "3f226508-12c7-4f9d-879e-f6b070a1a47e",
   "metadata": {},
   "source": [
    "### 38. Check if a string contains only digits."
   ]
  },
  {
   "cell_type": "code",
   "execution_count": 1,
   "id": "394bb4c2-0b9a-4268-a94f-c078963c60c7",
   "metadata": {},
   "outputs": [
    {
     "name": "stdin",
     "output_type": "stream",
     "text": [
      "Enter a String : 123456\n"
     ]
    },
    {
     "name": "stdout",
     "output_type": "stream",
     "text": [
      "String Contains Only Digits\n"
     ]
    }
   ],
   "source": [
    "string = input(\"Enter a String :\")\n",
    "if string.isdigit():\n",
    "    print(\"String Contains Only Digits\")\n",
    "else:\n",
    "    print(\"String Contains Non Digit Characters\")"
   ]
  },
  {
   "cell_type": "markdown",
   "id": "2acd3999-c387-4989-811a-b526737e4b8a",
   "metadata": {},
   "source": [
    "### 39. Check if a string contains only alphabets."
   ]
  },
  {
   "cell_type": "code",
   "execution_count": 6,
   "id": "b80ef955-a539-434d-9c88-96a11f64a561",
   "metadata": {},
   "outputs": [
    {
     "name": "stdin",
     "output_type": "stream",
     "text": [
      "Enter a String : ABCDEF\n"
     ]
    },
    {
     "name": "stdout",
     "output_type": "stream",
     "text": [
      "String Contains Only Alphabates\n"
     ]
    }
   ],
   "source": [
    "string = input(\"Enter a String :\")\n",
    "if string.isalpha() :\n",
    "    print(\"String Contains Only Alphabates\")\n",
    "else :\n",
    "    print(\"String contain Non Alphabatic Characters\")"
   ]
  },
  {
   "cell_type": "markdown",
   "id": "dc8e6db8-bad3-4eac-b393-92cfd7443a80",
   "metadata": {},
   "source": [
    "### 40. Convert a string to a list of characters."
   ]
  },
  {
   "cell_type": "code",
   "execution_count": 10,
   "id": "f9b8a5c3-ec26-4ca3-b4d7-55473ec5bd39",
   "metadata": {},
   "outputs": [
    {
     "name": "stdin",
     "output_type": "stream",
     "text": [
      "Enter a String : ORANGE\n"
     ]
    },
    {
     "name": "stdout",
     "output_type": "stream",
     "text": [
      "Converted List : ['O', 'R', 'A', 'N', 'G', 'E']\n"
     ]
    }
   ],
   "source": [
    "string = input(\"Enter a String :\")\n",
    "char_list = list(string)\n",
    "print(\"Converted List :\", char_list)"
   ]
  },
  {
   "cell_type": "markdown",
   "id": "890c3c54-1391-45d5-b02d-bbd70b7fb932",
   "metadata": {},
   "source": [
    "### 41. Check if two strings are anagrams."
   ]
  },
  {
   "cell_type": "code",
   "execution_count": 24,
   "id": "80f903ad-e5b3-44d7-97e0-cd67daeb10c4",
   "metadata": {},
   "outputs": [
    {
     "name": "stdin",
     "output_type": "stream",
     "text": [
      "Enter a String : Silent\n",
      "Enter a String : Listen\n"
     ]
    },
    {
     "name": "stdout",
     "output_type": "stream",
     "text": [
      "'silent and listen',are Anagram : True\n"
     ]
    }
   ],
   "source": [
    "string1 = input(\"Enter a String :\").replace(\" \", \"\").lower()\n",
    "string2 = input(\"Enter a String :\").replace(\" \", \"\").lower()\n",
    "if sorted(string1) == sorted(string2) :\n",
    "    print(f\"'{string1} and {string2}',are Anagram :\",True)\n",
    "else :\n",
    "    print(f\"'{string1} and {string2}' are not anagrams :\",False)"
   ]
  },
  {
   "cell_type": "markdown",
   "id": "473edfdf-cbf4-4f81-b01d-9737f9ca2cb9",
   "metadata": {},
   "source": [
    "### 42. Encode a string using a Caesar cipher."
   ]
  },
  {
   "cell_type": "code",
   "execution_count": 41,
   "id": "4ecb26dc-2d91-4970-8666-7abaf9b0bbf0",
   "metadata": {},
   "outputs": [
    {
     "name": "stdout",
     "output_type": "stream",
     "text": [
      "Text: PYTHON PROGRAMMING\n",
      "Shift: 3\n",
      "Cipher: SBWKRQqSURJUDPPLQJ\n"
     ]
    }
   ],
   "source": [
    "def caesar_cipher(text, shift):\n",
    "    result = \"\"\n",
    "    for i in range(len(text)):\n",
    "        char = text[i]\n",
    "        if (char.isupper()):\n",
    "            result += chr((ord(char) + shift - 65) % 26 + 65)\n",
    "        else:\n",
    "            result += chr((ord(char) + shift - 97) % 26 + 97)\n",
    "    return result\n",
    "\n",
    "text = \"PYTHON PROGRAMMING\"\n",
    "shift = 3\n",
    "print(\"Text: \" + text)\n",
    "print(\"Shift: \" + str(shift))\n",
    "print(\"Cipher: \" + caesar_cipher(text, shift))"
   ]
  },
  {
   "cell_type": "markdown",
   "id": "8c732c8e-1c86-48e2-8ac1-a3b0da66bf78",
   "metadata": {},
   "source": [
    "### 43. Decode a Caesar cipher encoded string."
   ]
  },
  {
   "cell_type": "code",
   "execution_count": 45,
   "id": "c40f4541-9591-4022-a7b3-82915d7789a0",
   "metadata": {},
   "outputs": [
    {
     "name": "stdout",
     "output_type": "stream",
     "text": [
      "Text: SBWKRQqSURJUDPPLQJ\n",
      "Shift: 3\n",
      "Decipher: PYTHONnPROGRAMMING\n"
     ]
    }
   ],
   "source": [
    "def caesar_decipher(text, shift):\n",
    "    result = \"\"\n",
    "\n",
    "    for i in range(len(text)):\n",
    "        char = text[i]\n",
    "\n",
    "        if (char.isupper()):\n",
    "            result += chr((ord(char) - shift - 65) % 26 + 65)\n",
    "        else:\n",
    "            result += chr((ord(char) - shift - 97) % 26 + 97)\n",
    "\n",
    "    return result\n",
    "\n",
    "\n",
    "if __name__ == \"__main__\":\n",
    "    text = \"SBWKRQqSURJUDPPLQJ\"\n",
    "    shift = 3\n",
    "\n",
    "    print(\"Text: \" + text)\n",
    "    print(\"Shift: \" + str(shift))\n",
    "    print(\"Decipher: \" + caesar_decipher(text, shift))"
   ]
  },
  {
   "cell_type": "markdown",
   "id": "f9e45d03-ff87-49f1-ad76-e474c53c6088",
   "metadata": {},
   "source": [
    "### 44. Find the most frequent word in a string."
   ]
  },
  {
   "cell_type": "code",
   "execution_count": 57,
   "id": "1a68fb0c-26c0-455d-9cfc-a236aa82c61b",
   "metadata": {},
   "outputs": [
    {
     "name": "stdin",
     "output_type": "stream",
     "text": [
      "Enter a String : Data Science, Data Engineering, Big Data, Data Analytics\n"
     ]
    },
    {
     "name": "stdout",
     "output_type": "stream",
     "text": [
      "Most Frequent Word in a String : Data\n"
     ]
    }
   ],
   "source": [
    "from collections import Counter\n",
    "\n",
    "string = input(\"Enter a String :\")\n",
    "word_count = Counter(string.split())\n",
    "most_frequent_word = word_count.most_common(1)[0][0]\n",
    "print(\"Most Frequent Word in a String :\", most_frequent_word)"
   ]
  },
  {
   "cell_type": "markdown",
   "id": "11f16cd7-1525-4012-92e8-c96612ff2cee",
   "metadata": {},
   "source": [
    "### 45. Find all unique words in a string."
   ]
  },
  {
   "cell_type": "code",
   "execution_count": 77,
   "id": "34f536b1-3a88-4c19-9d53-16fedb7bc0f7",
   "metadata": {},
   "outputs": [
    {
     "name": "stdin",
     "output_type": "stream",
     "text": [
      "Enter a String : Good Morning, Good Afternoon, Good Evening\n"
     ]
    },
    {
     "name": "stdout",
     "output_type": "stream",
     "text": [
      "Unique Words in a String : {'Afternoon,', 'Good', 'Evening', 'Morning,'}\n"
     ]
    }
   ],
   "source": [
    "string = input(\"Enter a String :\")\n",
    "unique_words = set(string.split())\n",
    "print(\"Unique Words in a String :\" ,unique_words)"
   ]
  },
  {
   "cell_type": "markdown",
   "id": "5413d961-3ae6-48df-a20c-52ca479a50c5",
   "metadata": {},
   "source": [
    "### 46. Count the number of syllables in a string."
   ]
  },
  {
   "cell_type": "code",
   "execution_count": 80,
   "id": "8ab913b9-492f-45fd-a6df-30b7a0601877",
   "metadata": {},
   "outputs": [
    {
     "name": "stdin",
     "output_type": "stream",
     "text": [
      "Enter a String : Electricity\n"
     ]
    },
    {
     "name": "stdout",
     "output_type": "stream",
     "text": [
      "Number of Syllables : 4\n"
     ]
    }
   ],
   "source": [
    "def count_syllables(word):\n",
    "    vowels = \"aeiouAEIOU\"\n",
    "    count = 0\n",
    "    for char in word:\n",
    "        if char in vowels:\n",
    "            count += 1\n",
    "    return count\n",
    "\n",
    "string = input(\"Enter a String :\")\n",
    "words = string.split()\n",
    "syllable_count = sum(count_syllables(word) for word in words)\n",
    "print(\"Number of Syllables :\", syllable_count)"
   ]
  },
  {
   "cell_type": "markdown",
   "id": "a5b4f17a-821d-4717-9651-c7823b7e5d39",
   "metadata": {},
   "source": [
    "### 47. Check if a string contains any special characters."
   ]
  },
  {
   "cell_type": "code",
   "execution_count": 85,
   "id": "5227bc55-346f-4387-bc2a-ff99ad4a9b72",
   "metadata": {},
   "outputs": [
    {
     "name": "stdin",
     "output_type": "stream",
     "text": [
      "Enter a String:  special@iad**022e\n"
     ]
    },
    {
     "name": "stdout",
     "output_type": "stream",
     "text": [
      "special@iad**022e Contains special characters\n"
     ]
    }
   ],
   "source": [
    "import re\n",
    "\n",
    "string = input(\"Enter a String: \")\n",
    "if re.search(r'[!@#$%^&*(),.?\":{}|<>]', string):\n",
    "    print(string, \"Contains special characters\")\n",
    "else:\n",
    "    print(string, \"Does not contain special characters\")"
   ]
  },
  {
   "cell_type": "markdown",
   "id": "371ab113-74b9-424f-bf22-ac7ba24c92fd",
   "metadata": {},
   "source": [
    "### 48. Remove the nth word from a string."
   ]
  },
  {
   "cell_type": "code",
   "execution_count": 93,
   "id": "c969195a-5be9-4556-900a-19f57389f669",
   "metadata": {},
   "outputs": [
    {
     "name": "stdin",
     "output_type": "stream",
     "text": [
      "Enter a String : Monday, Tuesday, Wednesday\n"
     ]
    },
    {
     "name": "stdout",
     "output_type": "stream",
     "text": [
      "Modified String : Monday, Tuesday,\n"
     ]
    }
   ],
   "source": [
    "def remove_nth_word(text, n):\n",
    "    words = text.split()\n",
    "    if n <= len(words):\n",
    "        del words[n-1]\n",
    "    return ' '.join(words)\n",
    "\n",
    "\n",
    "text = input(\"Enter a String :\")\n",
    "n = 3\n",
    "new_text = remove_nth_word(text, n)\n",
    "print(\"Modified String :\", new_text)"
   ]
  },
  {
   "cell_type": "markdown",
   "id": "3354c7f2-62bf-4c60-90cb-c7ed66e7242d",
   "metadata": {},
   "source": [
    "### 49. Insert a word at the nth position in a string."
   ]
  },
  {
   "cell_type": "code",
   "execution_count": 97,
   "id": "8cd38a44-cc71-4b3e-89a5-1138056993dc",
   "metadata": {},
   "outputs": [
    {
     "name": "stdin",
     "output_type": "stream",
     "text": [
      "Enter a String : This is Sufficient\n",
      "Enter a word : Than More\n"
     ]
    },
    {
     "name": "stdout",
     "output_type": "stream",
     "text": [
      "Modified String : This is Sufficient Than More\n"
     ]
    }
   ],
   "source": [
    "def insert_word_at_position(text, word, position):\n",
    "    words = text.split()\n",
    "    words.insert(position, word)\n",
    "    return ' '.join(words)\n",
    "\n",
    "\n",
    "text = input(\"Enter a String :\")\n",
    "word = input(\"Enter a word :\")\n",
    "position = 3\n",
    "new_text = insert_word_at_position(text, word, position)\n",
    "print(\"Modified String :\", new_text)"
   ]
  },
  {
   "cell_type": "markdown",
   "id": "87397d28-7f7a-4d44-ac7b-fd3950ae2fd2",
   "metadata": {},
   "source": [
    "### 50. Convert a CSV string to a list of lists."
   ]
  },
  {
   "cell_type": "code",
   "execution_count": 100,
   "id": "553f9fbc-aa60-4eb4-9ae1-3faf3d2a71bf",
   "metadata": {},
   "outputs": [
    {
     "name": "stdout",
     "output_type": "stream",
     "text": [
      "['Name', ' Age', ' Country']\n",
      "['Thomas', ' 32', ' Germany']\n",
      "['Aurther', ' 30', ' Italy']\n",
      "['John', ' 25', ' France']\n"
     ]
    }
   ],
   "source": [
    "def csv_string_to_list(csv_string):\n",
    "    lines = csv_string.split('\\n')\n",
    "    result = []\n",
    "    for line in lines:\n",
    "        fields = line.split(',')\n",
    "        result.append(fields)\n",
    "    return result\n",
    "\n",
    "csv_data = \"Name, Age, Country\\nThomas, 32, Germany\\nAurther, 30, Italy\\nJohn, 25, France\"\n",
    "list_of_lists = csv_string_to_list(csv_data)\n",
    "\n",
    "for row in list_of_lists:\n",
    "    print(row)"
   ]
  },
  {
   "cell_type": "markdown",
   "id": "0857c77c-e746-408e-be86-0ea49a5d4ee0",
   "metadata": {},
   "source": [
    "# **List Based Practice Problem :**\n",
    "---"
   ]
  },
  {
   "cell_type": "markdown",
   "id": "294b4149-fe4d-4475-b6e5-69f01c19d179",
   "metadata": {},
   "source": [
    "### 1. Create a list with integers from 1 to 10."
   ]
  },
  {
   "cell_type": "code",
   "execution_count": 3,
   "id": "9d46265f-597b-405d-aa9a-d1af32da4f82",
   "metadata": {},
   "outputs": [
    {
     "name": "stdout",
     "output_type": "stream",
     "text": [
      "[1, 2, 3, 4, 5, 6, 7, 8, 9, 10]\n"
     ]
    }
   ],
   "source": [
    "List = list(range(1,11))\n",
    "print(List) "
   ]
  },
  {
   "cell_type": "markdown",
   "id": "828785d9-7d51-4556-934b-e97adecdf876",
   "metadata": {},
   "source": [
    "### 2. Find the length of a list without using the `len()` function."
   ]
  },
  {
   "cell_type": "code",
   "execution_count": 7,
   "id": "d1a8b71e-232e-41b2-9f08-d97919b46288",
   "metadata": {},
   "outputs": [
    {
     "name": "stdout",
     "output_type": "stream",
     "text": [
      "Length of the List : 5\n"
     ]
    }
   ],
   "source": [
    "List = [1,2,3,4,5]\n",
    "count = 0\n",
    "for i in List :\n",
    "    count += 1\n",
    "print(\"Length of the List :\", count)"
   ]
  },
  {
   "cell_type": "markdown",
   "id": "c76d791a-9c67-4bff-95a3-a1ab14b5838f",
   "metadata": {},
   "source": [
    "### 3. Append an element to the end of a list."
   ]
  },
  {
   "cell_type": "code",
   "execution_count": 25,
   "id": "8f97485b-2774-41be-8925-4702a2e3b19b",
   "metadata": {},
   "outputs": [
    {
     "name": "stdout",
     "output_type": "stream",
     "text": [
      "Original List : [1, 2, 3, 4, 5, 6, 7, 8, 9]\n",
      "List After Appending an Element : [1, 2, 3, 4, 5, 6, 7, 8, 9, 10]\n"
     ]
    }
   ],
   "source": [
    "List = list(range(1,10))\n",
    "print(\"Original List :\", List)\n",
    "List.append(10)\n",
    "print(\"List After Appending an Element :\", List)"
   ]
  },
  {
   "cell_type": "markdown",
   "id": "4b7c20b0-eb45-484f-8b8b-f66f75070aec",
   "metadata": {},
   "source": [
    "### 4. Insert an element at a specific index in a list."
   ]
  },
  {
   "cell_type": "code",
   "execution_count": 36,
   "id": "a9a1b51f-8b3c-49ac-ba0e-3a08606b2897",
   "metadata": {},
   "outputs": [
    {
     "name": "stdout",
     "output_type": "stream",
     "text": [
      "Original List : [10, 20, 30, 40, 50, 60, 70, 80]\n",
      "Modified List : [10, 123, 20, 30, 40, 50, 60, 70, 80]\n"
     ]
    }
   ],
   "source": [
    "List = [10,20,30,40,50,60,70,80]\n",
    "print(\"Original List :\", List)\n",
    "List.insert(1,123)\n",
    "print(\"Modified List :\", List)"
   ]
  },
  {
   "cell_type": "markdown",
   "id": "ee7cecd9-f07a-4133-bda2-d725cc346a47",
   "metadata": {},
   "source": [
    "### 5. Remove an element from a list by its value."
   ]
  },
  {
   "cell_type": "code",
   "execution_count": 39,
   "id": "978b7a6c-4fd5-43af-8ee8-4da95f4c7c08",
   "metadata": {},
   "outputs": [
    {
     "name": "stdout",
     "output_type": "stream",
     "text": [
      "Original List : [10, 20, 30, 40, 50, 60, 70, 80]\n",
      "List After Removing an Element : [10, 20, 30, 50, 60, 70, 80]\n"
     ]
    }
   ],
   "source": [
    "List = [10,20,30,40,50,60,70,80]\n",
    "print(\"Original List :\", List)\n",
    "List.remove(40)\n",
    "print(\"List After Removing an Element :\", List)"
   ]
  },
  {
   "cell_type": "markdown",
   "id": "cf655cd9-d7b6-4970-b968-a83c0e83047a",
   "metadata": {},
   "source": [
    "### 6. Remove an element from a list by its index."
   ]
  },
  {
   "cell_type": "code",
   "execution_count": 53,
   "id": "99358301-7534-4aa0-85af-c91c7fdb641c",
   "metadata": {},
   "outputs": [
    {
     "name": "stdout",
     "output_type": "stream",
     "text": [
      "Original List : [10, 20, 30, 40, 50, 60, 70, 80]\n",
      "List After Removing an Element : [10, 20, 30, 40, 60, 70, 80]\n"
     ]
    }
   ],
   "source": [
    "List = [10,20,30,40,50,60,70,80]\n",
    "print(\"Original List :\", List)\n",
    "List.pop(4)\n",
    "print(\"List After Removing an Element :\", List)"
   ]
  },
  {
   "cell_type": "markdown",
   "id": "24b8d49a-a07f-410f-bf97-86bbfe0cc4b7",
   "metadata": {},
   "source": [
    "### 7. Check if an element exists in a list."
   ]
  },
  {
   "cell_type": "code",
   "execution_count": 58,
   "id": "dadd747f-54b3-4a2e-9d8b-ffac578a8948",
   "metadata": {},
   "outputs": [
    {
     "name": "stdout",
     "output_type": "stream",
     "text": [
      "List : [1, 2, 3, 4, 56, 85, 41, 23, 5]\n",
      " 85 Exists in a List\n"
     ]
    }
   ],
   "source": [
    "List =  [1,2,3,4,56,85,41,23,5]\n",
    "print(\"List :\", List)\n",
    "element = 85\n",
    "if element in List :\n",
    "    print(f\" {element} Exists in a List\")\n",
    "else :\n",
    "    print(f\" {element} Does Not Exists a List\")"
   ]
  },
  {
   "cell_type": "markdown",
   "id": "5c0ffb5f-a799-4392-8ff1-6ac3c1180a92",
   "metadata": {},
   "source": [
    "### 8. Find the index of the first occurrence of an element in a list."
   ]
  },
  {
   "cell_type": "code",
   "execution_count": 72,
   "id": "2f3b9839-6414-4bcd-938b-627dab30fbd5",
   "metadata": {},
   "outputs": [
    {
     "name": "stdout",
     "output_type": "stream",
     "text": [
      "The Index of 3 is 2 \n"
     ]
    }
   ],
   "source": [
    "List = [1,2,3,4,5,6,3]\n",
    "element = 3\n",
    "index = List.index(element)\n",
    "print(f\"The Index of {element} is {index} \")"
   ]
  },
  {
   "cell_type": "markdown",
   "id": "70cc5a6f-57ea-44ca-8838-258d1a1443ba",
   "metadata": {},
   "source": [
    "### 9. Count the occurrences of an element in a list."
   ]
  },
  {
   "cell_type": "code",
   "execution_count": 80,
   "id": "424cd4fc-0229-4d7b-9a1d-6f80cd0e4927",
   "metadata": {},
   "outputs": [
    {
     "name": "stdout",
     "output_type": "stream",
     "text": [
      "The Element 'Amazon' Occurs 3 Times in the List.\n"
     ]
    }
   ],
   "source": [
    "List = [\"Amazon\", \"Flipkart\", \"Walmart\", \"Amazon\", \"Myntra\", \"Amazon\"]\n",
    "element_to_count = \"Amazon\"\n",
    "count = List.count(element_to_count)\n",
    "print(f\"The Element '{element_to_count}' Occurs {count} Times in the List.\")"
   ]
  },
  {
   "cell_type": "markdown",
   "id": "7e7dd5d5-ea27-4693-a004-bd260a615188",
   "metadata": {},
   "source": [
    "### 10. Reverse the order of elements in a list."
   ]
  },
  {
   "cell_type": "code",
   "execution_count": 81,
   "id": "e35e0ff8-a622-47f0-8897-29fe3c7fc5b1",
   "metadata": {},
   "outputs": [
    {
     "name": "stdout",
     "output_type": "stream",
     "text": [
      "Origonal List : [45, 23, 69, 85, 7, 1, 44, 20, 75, 10]\n",
      "Reversed List : [10, 75, 20, 44, 1, 7, 85, 69, 23, 45]\n"
     ]
    }
   ],
   "source": [
    "List = [45,23,69,85,7,1,44,20,75,10]\n",
    "print(\"Origonal List :\", List)\n",
    "List.reverse()\n",
    "print(\"Reversed List :\", List)"
   ]
  },
  {
   "cell_type": "markdown",
   "id": "7976326e-2375-440a-b12f-128151ed465a",
   "metadata": {},
   "source": [
    "### 11. Sort a list in ascending order."
   ]
  },
  {
   "cell_type": "code",
   "execution_count": 3,
   "id": "c6717f65-fcd0-4ab9-b12a-1ce8e3e3a25a",
   "metadata": {},
   "outputs": [
    {
     "name": "stdout",
     "output_type": "stream",
     "text": [
      "Original List : [522, 96, 38, 74, 10, 25, 97, 32, 41, 85, 2417, 23, 62]\n",
      "Sorted List : [10, 23, 25, 32, 38, 41, 62, 74, 85, 96, 97, 522, 2417]\n"
     ]
    }
   ],
   "source": [
    "List = [522,96,38,74,10,25,97,32,41,85,2417,23,62]\n",
    "print(\"Original List :\", List)\n",
    "List.sort()\n",
    "print(\"Sorted List :\", List)"
   ]
  },
  {
   "cell_type": "markdown",
   "id": "35ebbaac-ea6b-44ec-9c5a-5f9356fab573",
   "metadata": {},
   "source": [
    "### 12. Sort a list in descending order."
   ]
  },
  {
   "cell_type": "code",
   "execution_count": 5,
   "id": "680097c5-dd28-4ef0-905b-67fd596c1995",
   "metadata": {},
   "outputs": [
    {
     "name": "stdout",
     "output_type": "stream",
     "text": [
      "Original List : [522, 96, 38, 74, 10, 25, 97, 32, 41, 85, 2417, 23, 62]\n",
      "Sorted List : [2417, 522, 97, 96, 85, 74, 62, 41, 38, 32, 25, 23, 10]\n"
     ]
    }
   ],
   "source": [
    "List = [522,96,38,74,10,25,97,32,41,85,2417,23,62]\n",
    "print(\"Original List :\", List)\n",
    "List.sort(reverse = True)\n",
    "print(\"Sorted List :\", List)"
   ]
  },
  {
   "cell_type": "markdown",
   "id": "65660415-1dc7-4085-b209-7458d752e0ff",
   "metadata": {},
   "source": [
    "### 13. Create a list of even numbers from 1 to 20."
   ]
  },
  {
   "cell_type": "code",
   "execution_count": 38,
   "id": "7c0bea79-1343-4fa7-aa3b-4ac5197e33e5",
   "metadata": {},
   "outputs": [
    {
     "name": "stdout",
     "output_type": "stream",
     "text": [
      "List of Even Numbers : [2, 4, 6, 8, 10, 12, 14, 16, 18, 20]\n"
     ]
    }
   ],
   "source": [
    "List = list(range(1,21))\n",
    "even_numbers = []\n",
    "for i in List :\n",
    "    if i%2 == 0 :\n",
    "        even_numbers.append(i)\n",
    "print(\"List of Even Numbers :\", even_numbers)"
   ]
  },
  {
   "cell_type": "markdown",
   "id": "6a78cfa2-78d3-4969-9452-d6be880e6b5e",
   "metadata": {},
   "source": [
    "### 14. Create a list of odd numbers from 1 to 20."
   ]
  },
  {
   "cell_type": "code",
   "execution_count": 3,
   "id": "520bc892-b3bb-4a2e-83c0-30380be6972c",
   "metadata": {},
   "outputs": [
    {
     "name": "stdout",
     "output_type": "stream",
     "text": [
      "List of Odd Numbers : [1, 3, 5, 7, 9, 11, 13, 15, 17, 19]\n"
     ]
    }
   ],
   "source": [
    "List = list(range(1,21))\n",
    "odd_numbers = []\n",
    "for i in List :\n",
    "    if i%2 == 1 :\n",
    "        odd_numbers.append(i)\n",
    "print(\"List of Odd Numbers :\", odd_numbers)"
   ]
  },
  {
   "cell_type": "markdown",
   "id": "0b804270-c0d4-46ca-82cb-776f8f5fca4b",
   "metadata": {},
   "source": [
    "### 15. Find the sum of all elements in a list."
   ]
  },
  {
   "cell_type": "code",
   "execution_count": 19,
   "id": "526211aa-f9cb-4651-890b-c490bba4ab1b",
   "metadata": {},
   "outputs": [
    {
     "name": "stdout",
     "output_type": "stream",
     "text": [
      "Sum of All Elements : 210\n"
     ]
    }
   ],
   "source": [
    "List = list(range(1,21))\n",
    "total_sum = sum(List)\n",
    "print(\"Sum of All Elements :\", total_sum)"
   ]
  },
  {
   "cell_type": "markdown",
   "id": "cdd3f88f-cbd3-45cf-842a-2112aa22d3d1",
   "metadata": {},
   "source": [
    "### 16. Find the maximum value in a list."
   ]
  },
  {
   "cell_type": "code",
   "execution_count": 27,
   "id": "3cdfe42f-5a7b-48d9-9b8a-ba13a9c91003",
   "metadata": {},
   "outputs": [
    {
     "name": "stdout",
     "output_type": "stream",
     "text": [
      "List : [1, 2, 3, 4, 5, 6, 7, 8, 9, 10, 11, 12, 13, 14, 15, 16, 17, 18, 19, 20]\n",
      "Maximum Value in a List : 20\n"
     ]
    }
   ],
   "source": [
    "List = list(range(1,21))\n",
    "print(\"List :\", List)\n",
    "max_value = max(List)\n",
    "print(\"Maximum Value in a List :\", max_value)"
   ]
  },
  {
   "cell_type": "markdown",
   "id": "d18e7c74-c2fd-4fcc-8140-806be4083ee5",
   "metadata": {},
   "source": [
    "### 17. Find the minimum value in a list."
   ]
  },
  {
   "cell_type": "code",
   "execution_count": 1,
   "id": "a918b29e-13e1-4c0d-9a6d-4fea217c48e1",
   "metadata": {},
   "outputs": [
    {
     "name": "stdout",
     "output_type": "stream",
     "text": [
      "List : [1, 2, 3, 4, 5, 6, 7, 8, 9, 10, 11, 12, 13, 14, 15, 16, 17, 18, 19, 20]\n",
      "Minimum Value in a List : 1\n"
     ]
    }
   ],
   "source": [
    "List = list(range(1,21))\n",
    "print(\"List :\", List)\n",
    "min_value = min(List)\n",
    "print(\"Minimum Value in a List :\", min_value)"
   ]
  },
  {
   "cell_type": "markdown",
   "id": "8e5421c0-18d2-4cc9-8f19-ca71766b2490",
   "metadata": {},
   "source": [
    "### 18. Create a list of squares of numbers from 1 to 10."
   ]
  },
  {
   "cell_type": "code",
   "execution_count": 38,
   "id": "051bf887-46df-4c16-b307-cbc8961fb019",
   "metadata": {},
   "outputs": [
    {
     "name": "stdout",
     "output_type": "stream",
     "text": [
      "List : [1, 2, 3, 4, 5, 6, 7, 8, 9, 10]\n",
      "List of Squares of Numbers : [1, 4, 9, 16, 25, 36, 49, 64, 81, 100]\n"
     ]
    }
   ],
   "source": [
    "List = list(range(1,11))\n",
    "print(\"List :\", List)\n",
    "squares = []\n",
    "for i in List :\n",
    "    squares.append(i**2)\n",
    "print(\"List of Squares of Numbers :\", squares)"
   ]
  },
  {
   "cell_type": "markdown",
   "id": "2effccd1-78cd-4c96-ac43-7d1342cdc11e",
   "metadata": {},
   "source": [
    "### 19. Create a list of random numbers."
   ]
  },
  {
   "cell_type": "code",
   "execution_count": 26,
   "id": "027d707c-eed4-4238-a9d5-683f8faaade9",
   "metadata": {},
   "outputs": [
    {
     "name": "stdout",
     "output_type": "stream",
     "text": [
      "List of random integers: [91, 66, 28, 94, 2, 97, 60, 46, 50, 58]\n"
     ]
    }
   ],
   "source": [
    "import random\n",
    "random_integers = [random.randint(1, 100) for _ in range(10)]\n",
    "print(\"List of random integers:\", random_integers)"
   ]
  },
  {
   "cell_type": "markdown",
   "id": "b186730c-d6fa-491a-a07d-8832a00c4934",
   "metadata": {},
   "source": [
    "### 20. Remove duplicates from a list."
   ]
  },
  {
   "cell_type": "code",
   "execution_count": 29,
   "id": "9be78a0a-83f9-4777-9ca0-d4009ce89dae",
   "metadata": {},
   "outputs": [
    {
     "name": "stdout",
     "output_type": "stream",
     "text": [
      "List : [10, 20, 10, 30, 40, 30, 40, 50, 10, 30]\n",
      "List Without Duplicates : [40, 10, 50, 20, 30]\n"
     ]
    }
   ],
   "source": [
    "List = [10,20,10,30,40,30,40,50,10,30]\n",
    "print(\"List :\", List)\n",
    "unique_list = list(set(List))\n",
    "print(\"List Without Duplicates :\", unique_list)"
   ]
  },
  {
   "cell_type": "markdown",
   "id": "c9ab2812-dff5-4028-b7c7-72a83c589d09",
   "metadata": {},
   "source": [
    "### 21. Find the common elements between two lists."
   ]
  },
  {
   "cell_type": "code",
   "execution_count": 34,
   "id": "9092d123-b3ab-4bed-9a14-a8a7be12b163",
   "metadata": {},
   "outputs": [
    {
     "name": "stdout",
     "output_type": "stream",
     "text": [
      "lst1 : [10, 20, 30, 40, 30, 50, 60, 50, 90]\n",
      "lst2 : [22, 41, 52, 50, 10, 30, 63, 90, 70]\n",
      "Common Elements : [10, 50, 90, 30]\n"
     ]
    }
   ],
   "source": [
    "lst1 = [10,20,30,40,30,50,60,50,90]\n",
    "print(\"lst1 :\", lst1)\n",
    "lst2 = [22,41,52,50,10,30,63,90,70]\n",
    "print(\"lst2 :\", lst2)\n",
    "common_lst = list(set(lst1) & set(lst2))\n",
    "print(\"Common Elements :\", common_lst)"
   ]
  },
  {
   "cell_type": "markdown",
   "id": "e9d8bf11-5c32-4f41-8b0a-5c300a8d642d",
   "metadata": {},
   "source": [
    "### 22. Find the difference between two lists."
   ]
  },
  {
   "cell_type": "code",
   "execution_count": 36,
   "id": "d1432fc1-d137-4343-b918-5fb59057405c",
   "metadata": {},
   "outputs": [
    {
     "name": "stdout",
     "output_type": "stream",
     "text": [
      "lst1 : [10, 20, 30, 40, 30, 50, 60, 50, 90]\n",
      "lst2 : [22, 41, 52, 50, 10, 30, 63, 90, 70]\n",
      "Difference Between Two Lists : [20, 40, 60]\n"
     ]
    }
   ],
   "source": [
    "lst1 = [10,20,30,40,30,50,60,50,90]\n",
    "print(\"lst1 :\", lst1)\n",
    "lst2 = [22,41,52,50,10,30,63,90,70]\n",
    "print(\"lst2 :\", lst2)\n",
    "difference = list(set(lst1).difference(lst2))\n",
    "print(\"Difference Between Two Lists :\", difference)"
   ]
  },
  {
   "cell_type": "markdown",
   "id": "ee6ab87d-ba89-416d-85dd-6f287fd4372f",
   "metadata": {},
   "source": [
    "### 23. Merge two lists."
   ]
  },
  {
   "cell_type": "code",
   "execution_count": 67,
   "id": "6667345c-2339-4c5a-ad8e-4bbbfb93c637",
   "metadata": {},
   "outputs": [
    {
     "name": "stdout",
     "output_type": "stream",
     "text": [
      "List 1 : [1, 2, 3, 4, 5]\n",
      "List 2 : [6, 7, 8, 9, 10]\n",
      "Merged List : [1, 2, 3, 4, 5, 6, 7, 8, 9, 10]\n"
     ]
    }
   ],
   "source": [
    "list1 = [1,2,3,4,5]\n",
    "print(\"List 1 :\", list1)\n",
    "list2 = [6,7,8,9,10]\n",
    "print(\"List 2 :\", list2)\n",
    "Merged_lst = list1 + list2\n",
    "print(\"Merged List :\", Merged_lst)"
   ]
  },
  {
   "cell_type": "markdown",
   "id": "548a30c6-1e27-41d6-bf4b-535e168eec0a",
   "metadata": {},
   "source": [
    "### 24. Multiply all elements in a list by 2."
   ]
  },
  {
   "cell_type": "code",
   "execution_count": 68,
   "id": "a7088c13-4420-4675-be26-637491edd26d",
   "metadata": {},
   "outputs": [
    {
     "name": "stdout",
     "output_type": "stream",
     "text": [
      "Original List : [1, 2, 3, 4, 5]\n",
      "Multiplied List : [2, 4, 6, 8, 10]\n"
     ]
    }
   ],
   "source": [
    "List = [1,2,3,4,5]\n",
    "print(\"Original List :\", List)\n",
    "Mul = []\n",
    "for i in List :\n",
    "    Mul.append(i * 2)\n",
    "print(\"Multiplied List :\", Mul)"
   ]
  },
  {
   "cell_type": "markdown",
   "id": "f827aef6-196e-473d-bd21-04e62463ac4a",
   "metadata": {},
   "source": [
    "### 25. Filter out all even numbers from a list."
   ]
  },
  {
   "cell_type": "code",
   "execution_count": 73,
   "id": "c06cbb7d-b1ba-44fa-83f1-03854efb26cf",
   "metadata": {},
   "outputs": [
    {
     "name": "stdout",
     "output_type": "stream",
     "text": [
      "Original List : [1, 2, 3, 4, 5, 6, 7, 8, 9, 10, 11, 12, 13, 14, 15, 16, 17, 18, 19, 20]\n",
      "\n",
      "List of All Even Numbers : [2, 4, 6, 8, 10, 12, 14, 16, 18, 20]\n"
     ]
    }
   ],
   "source": [
    "List = list(range(1,21))\n",
    "print(\"Original List :\", List)\n",
    "even_num = []\n",
    "for i in List :\n",
    "    if i%2 == 0 :\n",
    "        even_num.append(i)\n",
    "print(\"\\nList of All Even Numbers :\", even_num)"
   ]
  },
  {
   "cell_type": "markdown",
   "id": "d31131da-6db1-4fb9-b081-4dcee817c286",
   "metadata": {},
   "source": [
    "### 26. Convert a list of strings to a list of integers."
   ]
  },
  {
   "cell_type": "code",
   "execution_count": 77,
   "id": "73bf7250-ff56-4da4-8909-f7deb58dd339",
   "metadata": {},
   "outputs": [
    {
     "name": "stdout",
     "output_type": "stream",
     "text": [
      "Original List : ['1', '2', '3', '4', '5']\n",
      "Integer List : [1, 2, 3, 4, 5]\n"
     ]
    }
   ],
   "source": [
    "List = ['1', '2', '3', '4', '5']\n",
    "print(\"Original List :\", List)\n",
    "integer_list = []\n",
    "for i in List :\n",
    "    integer_list.append(int(i))\n",
    "print(\"Integer List :\", integer_list)"
   ]
  },
  {
   "cell_type": "markdown",
   "id": "61fee4bd-cc10-4380-81a5-15e4be6d1e08",
   "metadata": {},
   "source": [
    "### 27. Convert a list of integers to a list of strings."
   ]
  },
  {
   "cell_type": "code",
   "execution_count": 78,
   "id": "c1e15d51-72e1-4712-aae4-73b88be7d2bd",
   "metadata": {},
   "outputs": [
    {
     "name": "stdout",
     "output_type": "stream",
     "text": [
      "Original List : [1, 2, 3, 4, 5]\n",
      "List of String : ['1', '2', '3', '4', '5']\n"
     ]
    }
   ],
   "source": [
    "List = [1, 2, 3, 4, 5]\n",
    "print(\"Original List :\", List)\n",
    "str_list = []\n",
    "for i in List :\n",
    "    str_list.append(str(i))\n",
    "print(\"List of String :\", str_list)"
   ]
  },
  {
   "cell_type": "markdown",
   "id": "6d30cf54-e3e2-4932-aaee-af8462836c2f",
   "metadata": {},
   "source": [
    "### 28. Flatten a nested list."
   ]
  },
  {
   "cell_type": "code",
   "execution_count": 81,
   "id": "8d659683-59b9-41d5-aed4-96b3f2d86d92",
   "metadata": {},
   "outputs": [
    {
     "name": "stdout",
     "output_type": "stream",
     "text": [
      "Nested List : [[1, 2, 3], [4, 5, 6], [7, 8, 9]]\n",
      "Flattened List : [1, 2, 3, 4, 5, 6, 7, 8, 9]\n"
     ]
    }
   ],
   "source": [
    "nested_list = [[1, 2, 3], [4, 5, 6], [7, 8, 9]]\n",
    "print(\"Nested List :\", nested_list)\n",
    "flattened_list = [i for sublist in nested_list for i in sublist]\n",
    "print(\"Flattened List :\", flattened_list)"
   ]
  },
  {
   "cell_type": "markdown",
   "id": "6ce676b5-9797-4f7e-9fee-6628eda7b06b",
   "metadata": {},
   "source": [
    "### 29. Create a list of the first 10 Fibonacci numbers."
   ]
  },
  {
   "cell_type": "code",
   "execution_count": 83,
   "id": "c9d2ecaa-3853-4bf9-bf5d-a95a1ad95bb5",
   "metadata": {},
   "outputs": [
    {
     "name": "stdout",
     "output_type": "stream",
     "text": [
      "First 10 Fibonacci numbers: [0, 1, 1, 2, 3, 5, 8, 13, 21, 34]\n"
     ]
    }
   ],
   "source": [
    "fib1, fib2 = 0, 1\n",
    "fib_numbers = []\n",
    "for i in range(10):\n",
    "    fib_numbers.append(fib1)\n",
    "    fib1, fib2 = fib2, fib1 + fib2\n",
    "print(\"First 10 Fibonacci numbers:\", fib_numbers)"
   ]
  },
  {
   "cell_type": "markdown",
   "id": "3a100b67-0a3a-4a18-9f5c-30dac1c64185",
   "metadata": {},
   "source": [
    "### 30. Check if a list is sorted."
   ]
  },
  {
   "cell_type": "code",
   "execution_count": 85,
   "id": "e321d64c-7b7a-4756-9814-92fd7690029d",
   "metadata": {},
   "outputs": [
    {
     "name": "stdout",
     "output_type": "stream",
     "text": [
      "List is sorted: True\n",
      "List is sorted: False\n"
     ]
    }
   ],
   "source": [
    "lst = [1, 2, 3, 4, 5]\n",
    "print(\"List is sorted:\", lst == sorted(lst))\n",
    "\n",
    "lst = [5, 3, 2, 4, 1]\n",
    "print(\"List is sorted:\", lst == sorted(lst))"
   ]
  },
  {
   "cell_type": "markdown",
   "id": "6ca467c6-7e5c-4ded-a892-5fbf565656ca",
   "metadata": {},
   "source": [
    "### 31. Rotate a list to the left by `n` positions."
   ]
  },
  {
   "cell_type": "code",
   "execution_count": 23,
   "id": "a09953e3-69ad-4ef4-aca7-0f24880cf060",
   "metadata": {},
   "outputs": [
    {
     "name": "stdout",
     "output_type": "stream",
     "text": [
      "Rotated List : [4, 5, 6, 7, 8, 9, 10, 1, 2, 3]\n"
     ]
    }
   ],
   "source": [
    "def rotate_left(lst, n) :\n",
    "    n = n % len(lst)\n",
    "    rotated = lst[n:] + lst[:n]\n",
    "    return rotated\n",
    "\n",
    "List = [1,2,3,4,5,6,7,8,9,10]\n",
    "n= 3\n",
    "rotated_list = rotate_left(List, n)\n",
    "print(\"Rotated List :\", rotated_list)"
   ]
  },
  {
   "cell_type": "markdown",
   "id": "0c089723-2a21-4825-bdb6-a0e46b7972eb",
   "metadata": {},
   "source": [
    "### 32. Rotate a list to the right by `n` positions."
   ]
  },
  {
   "cell_type": "code",
   "execution_count": 24,
   "id": "a07b717b-13a4-496d-b52d-2957acfa854c",
   "metadata": {},
   "outputs": [
    {
     "name": "stdout",
     "output_type": "stream",
     "text": [
      "Rotated List : [8, 9, 10, 1, 2, 3, 4, 5, 6, 7]\n"
     ]
    }
   ],
   "source": [
    "def rotate_right(lst, n) :\n",
    "    n = n % len(lst)\n",
    "    rotated = lst[-n:] + lst[:-n]\n",
    "    return rotated\n",
    "\n",
    "List = [1,2,3,4,5,6,7,8,9,10]\n",
    "n= 3\n",
    "rotated_list = rotate_right(List, n)\n",
    "print(\"Rotated List :\", rotated_list)"
   ]
  },
  {
   "cell_type": "markdown",
   "id": "a2700efb-cc06-4da3-8bde-c3c2d227aedb",
   "metadata": {},
   "source": [
    "### 33. Create a list of prime numbers up to 50."
   ]
  },
  {
   "cell_type": "code",
   "execution_count": 5,
   "id": "c5cbeef6-b110-4a34-bec4-40f01d7c2293",
   "metadata": {},
   "outputs": [
    {
     "name": "stdout",
     "output_type": "stream",
     "text": [
      "Prime Numbers : [2, 3, 5, 7, 11, 13, 17, 19, 23, 29, 31, 37, 41, 43, 47]\n"
     ]
    }
   ],
   "source": [
    "List = list(range(1,51))\n",
    "prime_num = []\n",
    "for num in List :\n",
    "    if num > 1 :\n",
    "        for i in range(2,num) :\n",
    "            if(num % i) == 0 :\n",
    "                break\n",
    "        else :\n",
    "            prime_num.append(num)\n",
    "print(\"Prime Numbers :\", prime_num)"
   ]
  },
  {
   "cell_type": "markdown",
   "id": "16e3a58d-b551-4c0b-a440-c645b76ae891",
   "metadata": {},
   "source": [
    "### 34. Split a list into chunks of size `n`."
   ]
  },
  {
   "cell_type": "code",
   "execution_count": 2,
   "id": "993321d1-98e7-4e2f-83ce-fa4e664b9330",
   "metadata": {},
   "outputs": [
    {
     "name": "stdout",
     "output_type": "stream",
     "text": [
      "[[1, 2, 3, 4, 5], [6, 7, 8, 9, 10], [11, 12, 13, 14, 15], [16, 17, 18, 19, 20]]\n"
     ]
    }
   ],
   "source": [
    "def chunk_list(input_list, n):\n",
    "    return [input_list[i:i + n] for i in range(0, len(input_list), n)]\n",
    "\n",
    "numbers = list(range(1, 21))\n",
    "chunk_size = 5\n",
    "chunks = chunk_list(numbers, chunk_size)\n",
    "print(chunks)"
   ]
  },
  {
   "cell_type": "markdown",
   "id": "85547dec-b08d-4b40-ad07-b7ede833097f",
   "metadata": {},
   "source": [
    "### 35. Find the second largest number in a list."
   ]
  },
  {
   "cell_type": "code",
   "execution_count": 10,
   "id": "bccb6b52-6a5d-47fa-872b-4a75622d6a8c",
   "metadata": {},
   "outputs": [
    {
     "name": "stdout",
     "output_type": "stream",
     "text": [
      "List : [1, 2, 3, 4, 5, 6, 7, 8, 9, 10, 11, 12, 13, 14, 15, 16, 17, 18, 19, 20]\n",
      "Second Largest Number : 19\n"
     ]
    }
   ],
   "source": [
    "List = list(range(1, 21))\n",
    "print(\"List :\", List)\n",
    "sorted_list = sorted(List)\n",
    "second_largest = sorted_list[-2]\n",
    "print(\"Second Largest Number :\",second_largest)"
   ]
  },
  {
   "cell_type": "markdown",
   "id": "cef3ce2b-f068-44bf-b735-5c695c0bcede",
   "metadata": {},
   "source": [
    "### 36. Replace every element in a list with its square."
   ]
  },
  {
   "cell_type": "code",
   "execution_count": 9,
   "id": "14881e81-f0d5-4706-8d77-77c47edfb9df",
   "metadata": {},
   "outputs": [
    {
     "name": "stdout",
     "output_type": "stream",
     "text": [
      " Original List : [0, 1, 2, 3, 4, 5]\n",
      "Squared List : [0, 1, 4, 9, 16, 25]\n"
     ]
    }
   ],
   "source": [
    "List = list(range(6))\n",
    "print(\" Original List :\", List)\n",
    "squared_list = [i ** 2 for i in List]\n",
    "print(\"Squared List :\", squared_list)"
   ]
  },
  {
   "cell_type": "markdown",
   "id": "8f8e56b4-a6e1-43f9-97cc-0d434d19f023",
   "metadata": {},
   "source": [
    "### 37. Convert a list to a dictionary where list elements become keys and their indices become values."
   ]
  },
  {
   "cell_type": "code",
   "execution_count": 3,
   "id": "7cb7b533-fce8-4e42-b059-bb62d687a7b8",
   "metadata": {},
   "outputs": [
    {
     "name": "stdout",
     "output_type": "stream",
     "text": [
      "Original List : ['Apple', 'Samsung', 'Oneplus', 'Oppo', 'Vivo']\n",
      "converted Dictionary : {'Apple': 0, 'Samsung': 1, 'Oneplus': 2, 'Oppo': 3, 'Vivo': 4}\n"
     ]
    }
   ],
   "source": [
    "List = [\"Apple\", \"Samsung\", \"Oneplus\", \"Oppo\", \"Vivo\"]\n",
    "print(\"Original List :\", List)\n",
    "Dict = {element : index for index, element in enumerate(List)}\n",
    "print(\"converted Dictionary :\", Dict)"
   ]
  },
  {
   "cell_type": "markdown",
   "id": "a79a83a0-b712-49ca-9601-a250a2b4f988",
   "metadata": {},
   "source": [
    "### 38. Shuffle the elements of a list randomly."
   ]
  },
  {
   "cell_type": "code",
   "execution_count": 8,
   "id": "2ae0d518-5380-4b71-a952-82bc4bb580e9",
   "metadata": {},
   "outputs": [
    {
     "name": "stdout",
     "output_type": "stream",
     "text": [
      "Original List : [10, 20, 30, 40, 50, 60, 70, 80]\n",
      "Shuffled List : [20, 50, 70, 80, 60, 10, 40, 30]\n"
     ]
    }
   ],
   "source": [
    "import random\n",
    "\n",
    "List = [10,20,30,40,50,60,70,80]\n",
    "print(\"Original List :\", List)\n",
    "random.shuffle(List)\n",
    "print(\"Shuffled List :\", List)"
   ]
  },
  {
   "cell_type": "markdown",
   "id": "67a0c6ff-48ee-4b77-91fd-9de228921e27",
   "metadata": {},
   "source": [
    "### 39. Create a list of the first 10 factorial numbers."
   ]
  },
  {
   "cell_type": "code",
   "execution_count": 15,
   "id": "eba6a1da-dfa6-4e61-aef8-2c4ba689dced",
   "metadata": {},
   "outputs": [
    {
     "name": "stdout",
     "output_type": "stream",
     "text": [
      "List of the first 10 factorial numbers:  [1, 1, 2, 6, 24, 120, 720, 5040, 40320, 362880]\n"
     ]
    }
   ],
   "source": [
    "factorial_list = []\n",
    "for num in range(10):\n",
    "    factorial = 1\n",
    "    for i in range(1, num + 1):\n",
    "        factorial = factorial * i\n",
    "    factorial_list.append(factorial)\n",
    "print(\"List of the first 10 factorial numbers: \", factorial_list)"
   ]
  },
  {
   "cell_type": "markdown",
   "id": "697190aa-d62d-42bd-87d7-5d589c928023",
   "metadata": {},
   "source": [
    "### 40. Check if two lists have at least one element in common."
   ]
  },
  {
   "cell_type": "code",
   "execution_count": 7,
   "id": "58d8cff1-7989-419d-b67d-3c879bb97cd1",
   "metadata": {},
   "outputs": [
    {
     "name": "stdout",
     "output_type": "stream",
     "text": [
      "The Lists Have Atleast One Common Element\n"
     ]
    }
   ],
   "source": [
    "list1 = [1,2,3,4,5]\n",
    "list2 = [5,6,7,8,9]\n",
    "for i in list1 :\n",
    "    if i in list2 :\n",
    "        print(\"The Lists Have Atleast One Common Element\")\n",
    "        break \n",
    "else :\n",
    "    print(\"The Lists Do Not Have Any Common Element\")"
   ]
  },
  {
   "cell_type": "markdown",
   "id": "b8f33e8a-40aa-4e4c-b73e-bfca612d167c",
   "metadata": {},
   "source": [
    "### 41. Remove all elements from a list."
   ]
  },
  {
   "cell_type": "code",
   "execution_count": 12,
   "id": "f9387d0b-7ac3-4418-8736-f450119ed3b7",
   "metadata": {},
   "outputs": [
    {
     "name": "stdout",
     "output_type": "stream",
     "text": [
      "List : [1, 2, 3, 4, 5]\n",
      "Empty List : []\n"
     ]
    }
   ],
   "source": [
    "List = [1,2,3,4,5]\n",
    "print(\"List :\", List)\n",
    "List.clear()\n",
    "print(\"Empty List :\", List)"
   ]
  },
  {
   "cell_type": "markdown",
   "id": "499346a5-96ac-4ffe-8301-fef1df1e9da6",
   "metadata": {},
   "source": [
    "### 42. Replace negative numbers in a list with 0."
   ]
  },
  {
   "cell_type": "code",
   "execution_count": 6,
   "id": "ec57a69b-2b6a-4a74-91ac-d6e09c91ac0c",
   "metadata": {},
   "outputs": [
    {
     "name": "stdout",
     "output_type": "stream",
     "text": [
      "List After Replacing Negative Numbers With 0 : [1, 0, 0, 87, 0, 0, 0, 0]\n"
     ]
    }
   ],
   "source": [
    "List = [1,-9,-52,87,-63,-2,-8,-7]\n",
    "for i in range(len(List)) :\n",
    "    if List[i] < 0 :\n",
    "        List[i] = 0\n",
    "print(\"List After Replacing Negative Numbers With 0 :\", List)"
   ]
  },
  {
   "cell_type": "markdown",
   "id": "7ee3dcf0-69fe-47c9-9254-060b826f4a7e",
   "metadata": {},
   "source": [
    "### 43. Convert a string into a list of words."
   ]
  },
  {
   "cell_type": "code",
   "execution_count": 12,
   "id": "b2a9a275-566f-4347-97be-1fe0f134aa15",
   "metadata": {},
   "outputs": [
    {
     "name": "stdin",
     "output_type": "stream",
     "text": [
      "Enter the String : Python Programming Language\n"
     ]
    },
    {
     "name": "stdout",
     "output_type": "stream",
     "text": [
      "Converted List : ['Python', 'Programming', 'Language']\n"
     ]
    }
   ],
   "source": [
    "string = input(\"Enter the String :\")\n",
    "word_list = string.split()\n",
    "print(\"Converted List :\", word_list)"
   ]
  },
  {
   "cell_type": "markdown",
   "id": "b2cae6fc-34ac-487f-a7a8-9d2f995e8134",
   "metadata": {},
   "source": [
    "### 44. Convert a list of words into a string."
   ]
  },
  {
   "cell_type": "code",
   "execution_count": 13,
   "id": "a8f6f7b1-82b8-42d6-839d-22a16f9f5be5",
   "metadata": {},
   "outputs": [
    {
     "name": "stdout",
     "output_type": "stream",
     "text": [
      "List : ['Python', 'Programming', 'Language']\n",
      "Converted String : Python Programming Language\n"
     ]
    }
   ],
   "source": [
    "List = ['Python', 'Programming', 'Language']\n",
    "print(\"List :\", List)\n",
    "string = \" \".join(List)\n",
    "print(\"Converted String :\", string)"
   ]
  },
  {
   "cell_type": "markdown",
   "id": "4a7cc808-e3f8-4f5c-98de-6b16432d3cde",
   "metadata": {},
   "source": [
    "### 45. Create a list of the first `n` powers of 2."
   ]
  },
  {
   "cell_type": "code",
   "execution_count": 16,
   "id": "20b065cd-c534-46f0-a6e1-7153188c8aa6",
   "metadata": {},
   "outputs": [
    {
     "name": "stdout",
     "output_type": "stream",
     "text": [
      "List of First 5 Powers of 2 : [1, 2, 4, 8, 16]\n"
     ]
    }
   ],
   "source": [
    "n = 5\n",
    "List = [2 ** i for i in range(n)]\n",
    "print(\"List of First\", n, \"Powers of 2 :\", List)"
   ]
  },
  {
   "cell_type": "markdown",
   "id": "fd145108-58a9-4113-be45-5fb955669e9a",
   "metadata": {},
   "source": [
    "### 46. Find the longest string in a list of strings."
   ]
  },
  {
   "cell_type": "code",
   "execution_count": 18,
   "id": "70d1413a-e195-4035-879e-0d097c873ea4",
   "metadata": {},
   "outputs": [
    {
     "name": "stdout",
     "output_type": "stream",
     "text": [
      "List : ['Syllabus', 'Subject', 'Contents', 'Introduction']\n",
      "Longest String in a List : Introduction\n"
     ]
    }
   ],
   "source": [
    "List = [\"Syllabus\", \"Subject\", \"Contents\", \"Introduction\"]\n",
    "print(\"List :\", List)\n",
    "longest_string = max(List, key = len)\n",
    "print(\"Longest String in a List :\", longest_string)"
   ]
  },
  {
   "cell_type": "markdown",
   "id": "a54a8f01-5d0a-4516-a475-6e80078185b3",
   "metadata": {},
   "source": [
    "### 47. Find the shortest string in a list of strings."
   ]
  },
  {
   "cell_type": "code",
   "execution_count": 19,
   "id": "ceb31a60-3148-44c9-a200-4adcc07ef877",
   "metadata": {},
   "outputs": [
    {
     "name": "stdout",
     "output_type": "stream",
     "text": [
      "List : ['Syllabus', 'Subject', 'Contents', 'Introduction']\n",
      "Longest String in a List : Subject\n"
     ]
    }
   ],
   "source": [
    "List = [\"Syllabus\", \"Subject\", \"Contents\", \"Introduction\"]\n",
    "print(\"List :\", List)\n",
    "shortest_string = min(List, key = len)\n",
    "print(\"Longest String in a List :\", shortest_string)"
   ]
  },
  {
   "cell_type": "markdown",
   "id": "64add6ea-a773-4ed4-9601-20686599f319",
   "metadata": {},
   "source": [
    "### 48. Create a list of the first `n` triangular numbers."
   ]
  },
  {
   "cell_type": "code",
   "execution_count": 22,
   "id": "2db8c062-4ec2-492c-a3f5-52278cae9026",
   "metadata": {},
   "outputs": [
    {
     "name": "stdout",
     "output_type": "stream",
     "text": [
      "List of the first 10 triangular numbers: [1, 3, 6, 10, 15, 21, 28, 36, 45, 55]\n"
     ]
    }
   ],
   "source": [
    "def triangular_numbers(n):\n",
    "    return [i * (i + 1) // 2 for i in range(1, n + 1)]\n",
    "\n",
    "n = 10\n",
    "\n",
    "triangular_list = triangular_numbers(n)\n",
    "\n",
    "print(\"List of the first\", n, \"triangular numbers:\", triangular_list)"
   ]
  },
  {
   "cell_type": "markdown",
   "id": "4c864ce7-a448-4095-8aa8-ab509650fd33",
   "metadata": {},
   "source": [
    "### 49. Check if a list contains another list as a subsequence."
   ]
  },
  {
   "cell_type": "code",
   "execution_count": 24,
   "id": "361390bc-3eea-45eb-b431-2eb55abc9f32",
   "metadata": {},
   "outputs": [
    {
     "name": "stdout",
     "output_type": "stream",
     "text": [
      "Main list contains the subsequence.\n"
     ]
    }
   ],
   "source": [
    "def is_subsequence(subsequence, main_list):\n",
    "    subseq_index = 0\n",
    "    for element in main_list:\n",
    "        if element == subsequence[subseq_index]:\n",
    "            subseq_index += 1\n",
    "            if subseq_index == len(subsequence):\n",
    "                return True\n",
    "    return False\n",
    "\n",
    "main_list = [1, 2, 3, 4, 5, 6, 7, 8, 9, 10]\n",
    "subsequence = [5, 6, 7]\n",
    "\n",
    "if is_subsequence(subsequence, main_list):\n",
    "    print(\"Main list contains the subsequence.\")\n",
    "else:\n",
    "    print(\"Main list does not contain the subsequence.\")"
   ]
  },
  {
   "cell_type": "markdown",
   "id": "451d2700-5247-4eb7-be3c-7691b207e1f5",
   "metadata": {},
   "source": [
    "### 50. Swap two elements in a list by their indices."
   ]
  },
  {
   "cell_type": "code",
   "execution_count": 1,
   "id": "a42bd82f-6bc3-404c-ade1-ec92858e8377",
   "metadata": {},
   "outputs": [
    {
     "name": "stdout",
     "output_type": "stream",
     "text": [
      "List after swapping elements: [1, 4, 3, 2, 5]\n"
     ]
    }
   ],
   "source": [
    "my_list = [1, 2, 3, 4, 5]\n",
    "index1 = 1\n",
    "index2 = 3\n",
    "temp = my_list[index1]\n",
    "my_list[index1] = my_list[index2]\n",
    "my_list[index2] = temp\n",
    "print(\"List after swapping elements:\", my_list)"
   ]
  },
  {
   "cell_type": "markdown",
   "id": "a16fe213-0462-4931-bffa-d676546734b7",
   "metadata": {},
   "source": [
    "# **Tuple Based Practice Problem :**\n",
    "---"
   ]
  },
  {
   "cell_type": "markdown",
   "id": "57ccbfd5-5031-4c57-a65c-23109f15bb92",
   "metadata": {},
   "source": [
    "### 1. Create a tuple with integers from 1 to 5."
   ]
  },
  {
   "cell_type": "code",
   "execution_count": 7,
   "id": "8f8a0648-af33-4383-a810-08c829115be7",
   "metadata": {},
   "outputs": [
    {
     "name": "stdout",
     "output_type": "stream",
     "text": [
      "(1, 2, 3, 4, 5)\n"
     ]
    },
    {
     "data": {
      "text/plain": [
       "tuple"
      ]
     },
     "execution_count": 7,
     "metadata": {},
     "output_type": "execute_result"
    }
   ],
   "source": [
    "Tuple = (1,2,3,4,5)\n",
    "print(Tuple)\n",
    "type(Tuple)"
   ]
  },
  {
   "cell_type": "markdown",
   "id": "aca7e2b0-da79-4a6a-b19a-8b74e14c7a46",
   "metadata": {},
   "source": [
    "### 2. Access the third element of a tuple."
   ]
  },
  {
   "cell_type": "code",
   "execution_count": 9,
   "id": "7ad0e42f-f742-4e84-9e3d-f0a28fb1f529",
   "metadata": {},
   "outputs": [
    {
     "name": "stdout",
     "output_type": "stream",
     "text": [
      "Tuple : (1, 2, 3, 4, 5)\n",
      "The Third Element of a Tuple is : 3\n"
     ]
    }
   ],
   "source": [
    "Tuple = (1,2,3,4,5)\n",
    "third_element = Tuple[2]\n",
    "print(\"Tuple :\", Tuple)\n",
    "print(\"The Third Element of a Tuple is :\", third_element)"
   ]
  },
  {
   "cell_type": "markdown",
   "id": "d5d54488-3826-47ff-b8e5-77ad90644973",
   "metadata": {},
   "source": [
    "### 3. Find the length of a tuple without using the `len()` function."
   ]
  },
  {
   "cell_type": "code",
   "execution_count": 12,
   "id": "05660db4-7283-41ba-97c8-5eff93bc830d",
   "metadata": {},
   "outputs": [
    {
     "name": "stdout",
     "output_type": "stream",
     "text": [
      "Tuple : (1, 2, 3, 4, 5)\n",
      "The Length of a Tuple is : 5\n"
     ]
    }
   ],
   "source": [
    "Tuple = (1,2,3,4,5)\n",
    "count = 0\n",
    "for i in Tuple :\n",
    "    count += 1\n",
    "print(\"Tuple :\", Tuple)\n",
    "print(\"The Length of a Tuple is :\",count)"
   ]
  },
  {
   "cell_type": "markdown",
   "id": "a46ba691-25e9-4a20-9d67-81bec8229afd",
   "metadata": {},
   "source": [
    "### 4. Count the occurrences of an element in a tuple."
   ]
  },
  {
   "cell_type": "code",
   "execution_count": 14,
   "id": "6a3e0f89-5173-4a91-b1eb-a6150b745cba",
   "metadata": {},
   "outputs": [
    {
     "name": "stdout",
     "output_type": "stream",
     "text": [
      "Tuple : (10, 20, 30, 40, 50, 30, 50, 20, 30)\n",
      "The occurance of an Element 50 in a Tuple is : 2\n"
     ]
    }
   ],
   "source": [
    "Tuple = (10,20,30,40,50,30,50,20,30)\n",
    "occurance = Tuple.count(50)\n",
    "print(\"Tuple :\", Tuple)\n",
    "print(\"The occurance of an Element 50 in a Tuple is :\", occurance)"
   ]
  },
  {
   "cell_type": "markdown",
   "id": "000a3f4d-d96a-4305-838a-b866e2fb96e2",
   "metadata": {},
   "source": [
    "### 5. Find the index of the first occurrence of an element in a tuple."
   ]
  },
  {
   "cell_type": "code",
   "execution_count": 22,
   "id": "4b77a594-5bfa-4476-8a9c-bf73e66cf3dd",
   "metadata": {},
   "outputs": [
    {
     "name": "stdout",
     "output_type": "stream",
     "text": [
      "The first occurrence of 30 is at index 2.\n"
     ]
    }
   ],
   "source": [
    "Tuple = (10,20,30,40,50,30,50,20,30)\n",
    "element = 30\n",
    "index = Tuple.index(element)\n",
    "(print(f\"The first occurrence of {element} is at index {index}.\"))"
   ]
  },
  {
   "cell_type": "markdown",
   "id": "c0373f66-dc51-422e-b326-d60c654bbc05",
   "metadata": {},
   "source": [
    "### 6. Check if an element exists in a tuple."
   ]
  },
  {
   "cell_type": "code",
   "execution_count": 32,
   "id": "b7863dbc-d409-4285-abfb-bcb2ea405fb8",
   "metadata": {},
   "outputs": [
    {
     "name": "stdout",
     "output_type": "stream",
     "text": [
      "20 Exists in a Tuple.\n"
     ]
    }
   ],
   "source": [
    "Tuple = (10,20,30,40,50)\n",
    "element_to_check = 20 \n",
    "if element_to_check in Tuple:\n",
    "    print(f\"{element_to_check} Exists in a Tuple.\")\n",
    "else:\n",
    "    print(f\"{element_to_check} Does Not Exists in Tuple.\")"
   ]
  },
  {
   "cell_type": "markdown",
   "id": "e20e6871-3b15-4b08-9fb7-33439d7ee948",
   "metadata": {},
   "source": [
    "### 7. Convert a tuple to a list."
   ]
  },
  {
   "cell_type": "code",
   "execution_count": 33,
   "id": "1d786c44-56d7-4bd1-8351-b456f59aac8a",
   "metadata": {},
   "outputs": [
    {
     "name": "stdout",
     "output_type": "stream",
     "text": [
      "Tuple : (10, 20, 30, 40, 50)\n",
      "Converted List : [10, 20, 30, 40, 50]\n"
     ]
    }
   ],
   "source": [
    "Tuple = (10,20,30,40,50)\n",
    "List = list(Tuple)\n",
    "print(\"Tuple :\", Tuple)\n",
    "print(\"Converted List :\", List)"
   ]
  },
  {
   "cell_type": "markdown",
   "id": "7b81f35b-f213-4ade-ae93-3b22ef9e2a6e",
   "metadata": {},
   "source": [
    "### 8. Convert a list to a tuple."
   ]
  },
  {
   "cell_type": "code",
   "execution_count": 34,
   "id": "e1ec46fd-fe12-47cf-815e-feb6ed52f40e",
   "metadata": {},
   "outputs": [
    {
     "name": "stdout",
     "output_type": "stream",
     "text": [
      "List : [10, 20, 30, 40, 50]\n",
      "Converted Tuple : (10, 20, 30, 40, 50)\n"
     ]
    }
   ],
   "source": [
    "List = [10,20,30,40,50]\n",
    "Tuple = tuple(List)\n",
    "print(\"List :\", List)\n",
    "print(\"Converted Tuple :\", Tuple)"
   ]
  },
  {
   "cell_type": "markdown",
   "id": "285803c5-2901-4268-b863-c90605afc88f",
   "metadata": {},
   "source": [
    "### 9. Unpack the elements of a tuple into variables."
   ]
  },
  {
   "cell_type": "code",
   "execution_count": 35,
   "id": "860d5b06-f447-4472-8aa6-c0dcdbc799d8",
   "metadata": {},
   "outputs": [
    {
     "name": "stdout",
     "output_type": "stream",
     "text": [
      "Var1 : 10\n",
      "Var2 : 20\n",
      "Var3 : 30\n"
     ]
    }
   ],
   "source": [
    "Tuple = (10,20,30)\n",
    "Var1, Var2, Var3 = Tuple\n",
    "print(\"Var1 :\",Var1)\n",
    "print(\"Var2 :\",Var2)\n",
    "print(\"Var3 :\",Var3)"
   ]
  },
  {
   "cell_type": "markdown",
   "id": "66bba021-7911-41a6-8c53-a0237e15478f",
   "metadata": {},
   "source": [
    "### 10. Create a tuple of even numbers from 1 to 10."
   ]
  },
  {
   "cell_type": "code",
   "execution_count": 4,
   "id": "87fdda73-5abe-48fa-83f4-36137cc6bb12",
   "metadata": {},
   "outputs": [
    {
     "name": "stdout",
     "output_type": "stream",
     "text": [
      "Tuple of Even Numbers : (2, 4, 6, 8, 10)\n"
     ]
    }
   ],
   "source": [
    "even_num_list = [num for num in range (2,11,2)]\n",
    "even_num_tuples = tuple(even_num_list)\n",
    "print(\"Tuple of Even Numbers :\", even_num_tuples)"
   ]
  },
  {
   "cell_type": "markdown",
   "id": "35b81993-984b-4d63-b3ae-38cbce23ca0e",
   "metadata": {},
   "source": [
    "### 11. Create a tuple of odd numbers from 1 to 10."
   ]
  },
  {
   "cell_type": "code",
   "execution_count": 12,
   "id": "35360714-1f1e-4acd-8f4e-875eeffe3cdc",
   "metadata": {},
   "outputs": [
    {
     "name": "stdout",
     "output_type": "stream",
     "text": [
      "Tuple of Odd Numbers : (1, 3, 5, 7, 9)\n"
     ]
    }
   ],
   "source": [
    "odd_num_list = [num for num in range (1,11,2)]\n",
    "odd_num_tuples = tuple(odd_num_list)\n",
    "print(\"Tuple of Odd Numbers :\", odd_num_tuples)"
   ]
  },
  {
   "cell_type": "markdown",
   "id": "28e07e37-a7a0-48a7-90aa-21cef919ec5c",
   "metadata": {},
   "source": [
    "### 12. Concatenate two tuples."
   ]
  },
  {
   "cell_type": "code",
   "execution_count": 13,
   "id": "3cf7a499-4e72-4ba8-8398-55755bf7a1df",
   "metadata": {},
   "outputs": [
    {
     "name": "stdout",
     "output_type": "stream",
     "text": [
      "Concatenated Tuple : (1, 2, 3, 4, 5, 6, 7, 8, 9, 10)\n"
     ]
    }
   ],
   "source": [
    "tuple1 = (1,2,3,4,5)\n",
    "tuple2 = (6,7,8,9,10)\n",
    "concatenated_tuple = tuple1 + tuple2\n",
    "print(\"Concatenated Tuple :\", concatenated_tuple)"
   ]
  },
  {
   "cell_type": "markdown",
   "id": "701a2f39-b46d-4a7f-9112-7ac4e38bccae",
   "metadata": {},
   "source": [
    "### 13. Repeat a tuple three times."
   ]
  },
  {
   "cell_type": "code",
   "execution_count": 14,
   "id": "c29e67e9-6532-44b1-a1fc-e678a6db3a38",
   "metadata": {},
   "outputs": [
    {
     "name": "stdout",
     "output_type": "stream",
     "text": [
      "Repeated Tuple : (1, 2, 3, 4, 5, 1, 2, 3, 4, 5, 1, 2, 3, 4, 5)\n"
     ]
    }
   ],
   "source": [
    "Tuple = (1,2,3,4,5)\n",
    "repeated_tuple = Tuple * 3\n",
    "print(\"Repeated Tuple :\", repeated_tuple)"
   ]
  },
  {
   "cell_type": "markdown",
   "id": "dfc80a49-0152-4427-8169-3115679a4287",
   "metadata": {},
   "source": [
    "### 14. Check if a tuple is empty."
   ]
  },
  {
   "cell_type": "code",
   "execution_count": null,
   "id": "495dadb2-de7c-4c99-92a3-efe47d2e2b12",
   "metadata": {},
   "outputs": [
    {
     "name": "stdout",
     "output_type": "stream",
     "text": [
      "Tuple : (1, 2, 3, 4, 5)\n",
      "Tuple iS Not Empty\n"
     ]
    }
   ],
   "source": [
    "Tuple = (1,2,3,4,5)\n",
    "print(\"Tuple :\", Tuple)\n",
    "if len(Tuple) == 0 :\n",
    "    print(\"Tuple is Empty\")\n",
    "else :\n",
    "    print(\"Tuple iS Not Empty\")"
   ]
  },
  {
   "cell_type": "markdown",
   "id": "18787c18-bff1-438c-8de0-a7ad61ca6e65",
   "metadata": {},
   "source": [
    "### 15. Create a nested tuple."
   ]
  },
  {
   "cell_type": "code",
   "execution_count": 29,
   "id": "493038a8-ff70-4e54-936d-312ba2f421e1",
   "metadata": {},
   "outputs": [
    {
     "name": "stdout",
     "output_type": "stream",
     "text": [
      "Nested Tuple : ((1, 2, 3), ('a', 'b', 'c'), (True, False))\n"
     ]
    }
   ],
   "source": [
    "nested_tuple = ((1,2,3),('a','b','c'),(True,False))\n",
    "print(\"Nested Tuple :\", nested_tuple)"
   ]
  },
  {
   "cell_type": "markdown",
   "id": "a42960f0-26b4-4fe8-a35f-7d47db4a8d15",
   "metadata": {},
   "source": [
    "### 16. Access the first element of a nested tuple."
   ]
  },
  {
   "cell_type": "code",
   "execution_count": 30,
   "id": "14a478c9-a1fe-4eec-b63c-87be0ad3fcaf",
   "metadata": {},
   "outputs": [
    {
     "name": "stdout",
     "output_type": "stream",
     "text": [
      "First Element of the Nested Tuple : (1, 2, 3)\n"
     ]
    }
   ],
   "source": [
    "nested_tuple = ((1,2,3),('a','b','c'),(True,False))\n",
    "first_element = nested_tuple[0]\n",
    "print(\"First Element of the Nested Tuple :\", first_element)"
   ]
  },
  {
   "cell_type": "markdown",
   "id": "e8698e7f-5dc9-4df8-99f4-340081c89125",
   "metadata": {},
   "source": [
    "### 17. Create a tuple with a single element."
   ]
  },
  {
   "cell_type": "code",
   "execution_count": 37,
   "id": "62dd3fd8-0231-4f02-b821-a9f82e4c97bc",
   "metadata": {},
   "outputs": [
    {
     "name": "stdout",
     "output_type": "stream",
     "text": [
      "Single Element Tuple : (27,)\n"
     ]
    }
   ],
   "source": [
    "single_element_tuple = (27,)\n",
    "print(\"Single Element Tuple :\",single_element_tuple)"
   ]
  },
  {
   "cell_type": "markdown",
   "id": "805ebcd8-703a-4e09-9fb3-96894c337fe4",
   "metadata": {},
   "source": [
    "### 18. Compare two tuples."
   ]
  },
  {
   "cell_type": "code",
   "execution_count": 41,
   "id": "5dece281-6ad3-440b-852f-68186607a00d",
   "metadata": {},
   "outputs": [
    {
     "name": "stdout",
     "output_type": "stream",
     "text": [
      "tuple1 == tuple2: False\n",
      "tuple1 != tuple2: True\n",
      "tuple1 < tuple2: True\n",
      "tuple1 <= tuple2: True\n",
      "tuple1 > tuple2: False\n",
      "tuple1 >= tuple2: False\n"
     ]
    }
   ],
   "source": [
    "tuple1 = (10, 20, 30)\n",
    "tuple2 = (20, 40, 60)\n",
    "print(\"tuple1 == tuple2:\", tuple1 == tuple2)  \n",
    "print(\"tuple1 != tuple2:\", tuple1 != tuple2)  \n",
    "print(\"tuple1 < tuple2:\", tuple1 < tuple2)    \n",
    "print(\"tuple1 <= tuple2:\", tuple1 <= tuple2)  \n",
    "print(\"tuple1 > tuple2:\", tuple1 > tuple2)    \n",
    "print(\"tuple1 >= tuple2:\", tuple1 >= tuple2)  "
   ]
  },
  {
   "cell_type": "markdown",
   "id": "e41e53a4-a0aa-4b39-b77a-8bdc40784ad8",
   "metadata": {},
   "source": [
    "### 19. Delete a tuple."
   ]
  },
  {
   "cell_type": "code",
   "execution_count": 48,
   "id": "589404a3-389a-43d1-b3b6-acadf5687e32",
   "metadata": {},
   "outputs": [
    {
     "ename": "NameError",
     "evalue": "name 'Tuple' is not defined",
     "output_type": "error",
     "traceback": [
      "\u001b[0;31m---------------------------------------------------------------------------\u001b[0m",
      "\u001b[0;31mNameError\u001b[0m                                 Traceback (most recent call last)",
      "Cell \u001b[0;32mIn[48], line 3\u001b[0m\n\u001b[1;32m      1\u001b[0m Tuple \u001b[38;5;241m=\u001b[39m (\u001b[38;5;241m1\u001b[39m,\u001b[38;5;241m2\u001b[39m,\u001b[38;5;241m3\u001b[39m,\u001b[38;5;241m4\u001b[39m,\u001b[38;5;241m5\u001b[39m,\u001b[38;5;241m6\u001b[39m)\n\u001b[1;32m      2\u001b[0m \u001b[38;5;28;01mdel\u001b[39;00m Tuple\n\u001b[0;32m----> 3\u001b[0m \u001b[38;5;28mprint\u001b[39m(\u001b[43mTuple\u001b[49m)\n",
      "\u001b[0;31mNameError\u001b[0m: name 'Tuple' is not defined"
     ]
    }
   ],
   "source": [
    "Tuple = (1,2,3,4,5,6)\n",
    "del Tuple\n",
    "print(Tuple)"
   ]
  },
  {
   "cell_type": "markdown",
   "id": "0a18c6f2-25b2-4393-97a8-0a2ab2bb742b",
   "metadata": {},
   "source": [
    "### 20. Slice a tuple."
   ]
  },
  {
   "cell_type": "code",
   "execution_count": 53,
   "id": "974f6b11-5758-439e-84cc-e2dda6271e3b",
   "metadata": {},
   "outputs": [
    {
     "name": "stdout",
     "output_type": "stream",
     "text": [
      "Tuple : (1, 2, 3, 4, 5, 6)\n",
      "Sliced Tuple : (2, 3, 4, 5)\n"
     ]
    }
   ],
   "source": [
    "Tuple = (1,2,3,4,5,6)\n",
    "sliced_tuple = Tuple[1:5]\n",
    "print(\"Tuple :\", Tuple)\n",
    "print(\"Sliced Tuple :\",sliced_tuple)"
   ]
  },
  {
   "cell_type": "markdown",
   "id": "ff07df50-c146-4fae-abc6-79876d9df823",
   "metadata": {},
   "source": [
    "### 21. Find the maximum value in a tuple."
   ]
  },
  {
   "cell_type": "code",
   "execution_count": 3,
   "id": "d9fce180-0f62-4fad-936e-ed537b4036cc",
   "metadata": {},
   "outputs": [
    {
     "name": "stdout",
     "output_type": "stream",
     "text": [
      "Tuple : (10, 20, 50, 60, 92, 75, 40)\n",
      "Maximum Value : 92\n"
     ]
    }
   ],
   "source": [
    "Tuple = (10,20,50,60,92,75,40)\n",
    "max_value = max(Tuple)\n",
    "print(\"Tuple :\", Tuple)\n",
    "print(\"Maximum Value :\", max_value)"
   ]
  },
  {
   "cell_type": "markdown",
   "id": "54075e4d-3cc9-43e1-b740-a9bc31088eca",
   "metadata": {},
   "source": [
    "### 22. Find the minimum value in a tuple."
   ]
  },
  {
   "cell_type": "code",
   "execution_count": 4,
   "id": "9a2e5280-0310-4566-b68a-5e15978591b4",
   "metadata": {},
   "outputs": [
    {
     "name": "stdout",
     "output_type": "stream",
     "text": [
      "Tuple : (10, 20, 50, 60, 92, 75, 40)\n",
      "Minimum Value : 10\n"
     ]
    }
   ],
   "source": [
    "Tuple = (10,20,50,60,92,75,40)\n",
    "min_value = min(Tuple)\n",
    "print(\"Tuple :\", Tuple)\n",
    "print(\"Minimum Value :\", min_value)"
   ]
  },
  {
   "cell_type": "markdown",
   "id": "6ba095fc-de24-47b9-bb58-a4a289ff901e",
   "metadata": {},
   "source": [
    "### 23. Convert a string to a tuple of characters."
   ]
  },
  {
   "cell_type": "code",
   "execution_count": 13,
   "id": "751613ef-134b-4ed6-873a-664f4a16e5d0",
   "metadata": {},
   "outputs": [
    {
     "name": "stdout",
     "output_type": "stream",
     "text": [
      "String : Student\n",
      "Tuple of Characters : ('S', 't', 'u', 'd', 'e', 'n', 't')\n"
     ]
    }
   ],
   "source": [
    "string = \"Student\"\n",
    "tuple_of_characters = tuple(string)\n",
    "print(\"String :\", string)\n",
    "print(\"Tuple of Characters :\", tuple_of_characters)"
   ]
  },
  {
   "cell_type": "markdown",
   "id": "731a393e-2e37-4f07-89c2-1f64385efedb",
   "metadata": {},
   "source": [
    "### 24. Convert a tuple of characters to a string."
   ]
  },
  {
   "cell_type": "code",
   "execution_count": 16,
   "id": "d275d081-b897-48a4-b13d-af951b93c754",
   "metadata": {},
   "outputs": [
    {
     "name": "stdout",
     "output_type": "stream",
     "text": [
      "Tuple of Characters : ('S', 't', 'u', 'd', 'e', 'n', 't')\n",
      "Converted string : Student\n"
     ]
    }
   ],
   "source": [
    "tuple_of_characters = ('S', 't', 'u', 'd', 'e', 'n', 't')\n",
    "string = \"\".join(tuple_of_characters)\n",
    "print(\"Tuple of Characters :\", tuple_of_characters)\n",
    "print(\"Converted string :\", string)"
   ]
  },
  {
   "cell_type": "markdown",
   "id": "8018c3e3-e9b7-4597-9f36-f8ed777191af",
   "metadata": {},
   "source": [
    "### 25. Create a tuple from multiple data types."
   ]
  },
  {
   "cell_type": "code",
   "execution_count": 18,
   "id": "14f8db84-e241-45be-8ea1-0be25ba41171",
   "metadata": {},
   "outputs": [
    {
     "name": "stdout",
     "output_type": "stream",
     "text": [
      "Mixed Tuple : (1, True, 3.24, 'Welcome')\n"
     ]
    }
   ],
   "source": [
    "mixed_tuple = (1, True, 3.24, \"Welcome\")\n",
    "print(\"Mixed Tuple :\", mixed_tuple)"
   ]
  },
  {
   "cell_type": "markdown",
   "id": "99c769d9-7aea-417e-9fda-82a0331ff1e0",
   "metadata": {},
   "source": [
    "### 26. Check if two tuples are identical."
   ]
  },
  {
   "cell_type": "code",
   "execution_count": 28,
   "id": "28f98284-d718-4412-96b1-51612160d0fd",
   "metadata": {},
   "outputs": [
    {
     "name": "stdout",
     "output_type": "stream",
     "text": [
      "tuple1 and tuple2 are Identical : True\n",
      "tuple1 and tuple3 are Identical : False\n"
     ]
    }
   ],
   "source": [
    "tuple1 = (1,2,3)\n",
    "tuple2 = (1,2,3)\n",
    "tuple3 = (4,5,6)\n",
    "are_identical1 = tuple1 == tuple2\n",
    "are_identical2 = tuple1 == tuple3\n",
    "print(\"tuple1 and tuple2 are Identical :\", are_identical1)\n",
    "print(\"tuple1 and tuple3 are Identical :\", are_identical2)"
   ]
  },
  {
   "cell_type": "markdown",
   "id": "f55b9e8a-d05f-4b29-a776-387f1ed47b98",
   "metadata": {},
   "source": [
    "### 27. Sort the elements of a tuple."
   ]
  },
  {
   "cell_type": "code",
   "execution_count": 34,
   "id": "023f885e-b798-4b6a-a3df-466275466edd",
   "metadata": {},
   "outputs": [
    {
     "name": "stdout",
     "output_type": "stream",
     "text": [
      "Tuple : (50, 30, 10, 20, 40)\n",
      "Sorted Tuple : (10, 20, 30, 40, 50)\n"
     ]
    }
   ],
   "source": [
    "Tuple = (50,30,10,20,40,)\n",
    "sorted_tuple = tuple(sorted(Tuple))\n",
    "print(\"Tuple :\", Tuple)\n",
    "print(\"Sorted Tuple :\", sorted_tuple)"
   ]
  },
  {
   "cell_type": "markdown",
   "id": "ce4756dd-67bb-40cb-9485-a53311f60620",
   "metadata": {},
   "source": [
    "### 28. Convert a tuple of integers to a tuple of strings."
   ]
  },
  {
   "cell_type": "code",
   "execution_count": 49,
   "id": "daaf7e64-b826-438f-838d-80693e1d41b5",
   "metadata": {},
   "outputs": [
    {
     "name": "stdout",
     "output_type": "stream",
     "text": [
      "Tuple of Integers : (1, 2, 3, 4, 5, 6, 7, 8)\n",
      "Tuple of Strings : ('1', '2', '3', '4', '6', '7', '8')\n"
     ]
    }
   ],
   "source": [
    "tuple_of_integers = (1,2,3,4,5,6,7,8)\n",
    "tuple_of_strings = tuple(str(item) for item in tuple_of_integers)\n",
    "print(\"Tuple of Integers :\", tuple_of_integers)\n",
    "print(\"Tuple of Strings :\", tuple_of_string)"
   ]
  },
  {
   "cell_type": "markdown",
   "id": "1caae57f-cd85-4271-911d-805b4ce3004b",
   "metadata": {},
   "source": [
    "### 29. Convert a tuple of strings to a tuple of integers."
   ]
  },
  {
   "cell_type": "code",
   "execution_count": 3,
   "id": "8475a0f8-6c02-4d03-970d-ba0a61e4bfe4",
   "metadata": {},
   "outputs": [
    {
     "name": "stdout",
     "output_type": "stream",
     "text": [
      "Tuple of Strings : ('1', '2', '3', '4', '5', '6', '7', '8')\n",
      "Tuple of Integers  : (1, 2, 3, 4, 5, 6, 7, 8)\n"
     ]
    }
   ],
   "source": [
    "tuple_of_strings = ('1','2','3','4','5','6','7','8')\n",
    "tuple_of_integers = tuple(int(item) for item in tuple_of_strings)\n",
    "print(\"Tuple of Strings :\", tuple_of_strings)\n",
    "print(\"Tuple of Integers  :\", tuple_of_integers)"
   ]
  },
  {
   "cell_type": "markdown",
   "id": "fb044cfc-85e2-4d6a-a5ee-7449222063b8",
   "metadata": {},
   "source": [
    "### 30. Merge two tuples."
   ]
  },
  {
   "cell_type": "code",
   "execution_count": 55,
   "id": "c82325c3-50b1-46ea-a73d-68ec38c37abb",
   "metadata": {},
   "outputs": [
    {
     "name": "stdout",
     "output_type": "stream",
     "text": [
      "Tuple 1 : (1, 2, 3)\n",
      "Tuple 2 : (4, 5, 6)\n",
      "Merged Tuple : (1, 2, 3, 4, 5, 6)\n"
     ]
    }
   ],
   "source": [
    "tuple1 = (1,2,3)\n",
    "tuple2 = (4,5,6)\n",
    "merged_tuple = tuple1 + tuple2\n",
    "print(\"Tuple 1 :\", tuple1)\n",
    "print(\"Tuple 2 :\", tuple2)\n",
    "print(\"Merged Tuple :\", merged_tuple)"
   ]
  },
  {
   "cell_type": "markdown",
   "id": "08c5baf5-5d1a-4539-96f9-08e0695bdde6",
   "metadata": {},
   "source": [
    "### 31. Flatten a nested tuple."
   ]
  },
  {
   "cell_type": "code",
   "execution_count": 59,
   "id": "290b5ce4-386e-4ae6-bbcc-e7418a40e109",
   "metadata": {},
   "outputs": [
    {
     "name": "stdout",
     "output_type": "stream",
     "text": [
      "Nested Tuple : (1, (2, 3), (4, (5, 6)), 7)\n",
      "Flattened Tuple : (1, 2, 3, 4, 5, 6, 7)\n"
     ]
    }
   ],
   "source": [
    "def flatten_tuple(nested_tuple):\n",
    "    result = []\n",
    "    for i in nested_tuple:\n",
    "        if isinstance(i, tuple):\n",
    "            result.extend(flatten_tuple(i))\n",
    "        else:\n",
    "            result.append(i)\n",
    "    return tuple(result)\n",
    "\n",
    "# Test the function\n",
    "nested_tuple = (1, (2, 3), (4, (5, 6)), 7)\n",
    "print(\"Nested Tuple :\", nested_tuple)\n",
    "print(\"Flattened Tuple :\", flatten_tuple(nested_tuple))"
   ]
  },
  {
   "cell_type": "markdown",
   "id": "4f14e80b-27a7-49ed-a769-1035f4781654",
   "metadata": {},
   "source": [
    "### 32. Create a tuple of the first 5 prime numbers."
   ]
  },
  {
   "cell_type": "code",
   "execution_count": 19,
   "id": "87847c50-a7c9-415d-85c5-603f7e0ada65",
   "metadata": {},
   "outputs": [
    {
     "name": "stdout",
     "output_type": "stream",
     "text": [
      "Tuple of the First 5 Prime Numbers : (2, 3, 5, 7, 11)\n"
     ]
    }
   ],
   "source": [
    "primes = []\n",
    "num = 2\n",
    "while len(primes) < 5 :\n",
    "    for i in primes :\n",
    "        if num % i == 0 :\n",
    "            break\n",
    "    else :\n",
    "        primes.append(num)\n",
    "    num += 1\n",
    "prime_numbers = tuple(primes)\n",
    "print(\"Tuple of the First 5 Prime Numbers :\", prime_numbers)"
   ]
  },
  {
   "cell_type": "markdown",
   "id": "2e608e07-2fb9-4a6a-b789-c9bbb63b6843",
   "metadata": {},
   "source": [
    "### 33. Check if a tuple is a palindrome."
   ]
  },
  {
   "cell_type": "code",
   "execution_count": 28,
   "id": "a647da7c-910c-4211-9974-ccc1d191c780",
   "metadata": {},
   "outputs": [
    {
     "name": "stdout",
     "output_type": "stream",
     "text": [
      "palindrome_tuple is a Palindrome : True\n",
      "non_palindrome_tuple is a palindrome : False\n"
     ]
    }
   ],
   "source": [
    "def is_palindrome(tup) :\n",
    "    return tup == tup[::-1]\n",
    "\n",
    "palindrome_tuple = (1, 2, 3, 2, 1)\n",
    "non_palindrome_tuple = (1, 2, 3, 4, 5)\n",
    "\n",
    "is_palindrome1 = is_palindrome(palindrome_tuple)\n",
    "is_palindrome2 = is_palindrome(non_palindrome_tuple)\n",
    "\n",
    "print(\"palindrome_tuple is a Palindrome :\", is_palindrome1)\n",
    "print(\"non_palindrome_tuple is a palindrome :\", is_palindrome2)"
   ]
  },
  {
   "cell_type": "markdown",
   "id": "ebbeefd5-1503-408e-86a1-5cf64b7477db",
   "metadata": {},
   "source": [
    "### 34. Create a tuple of squares of numbers from 1 to 5."
   ]
  },
  {
   "cell_type": "code",
   "execution_count": 47,
   "id": "c81fa17d-0025-4c7f-8531-308eaa0b3be9",
   "metadata": {},
   "outputs": [
    {
     "name": "stdout",
     "output_type": "stream",
     "text": [
      "Tuple of Squares : (1, 4, 9, 16, 25)\n"
     ]
    }
   ],
   "source": [
    "Tuple = tuple(i ** 2 for i in range(1,6))\n",
    "print(\"Tuple of Squares :\" ,Tuple)"
   ]
  },
  {
   "cell_type": "markdown",
   "id": "030f4d21-7415-4cd1-a398-e1b3b488bc51",
   "metadata": {},
   "source": [
    "### 35. Filter out all even numbers from a tuple."
   ]
  },
  {
   "cell_type": "code",
   "execution_count": 49,
   "id": "4d7077f3-f98e-42d9-a1e6-446301ebca4a",
   "metadata": {},
   "outputs": [
    {
     "name": "stdout",
     "output_type": "stream",
     "text": [
      "Filtered Tuple : (1, 3, 5, 7, 9)\n"
     ]
    }
   ],
   "source": [
    "Tuple = (1, 2, 3, 4, 5, 6, 7, 8, 9, 10)\n",
    "filtered_tuple = tuple(num for num in Tuple if num % 2 != 0)\n",
    "print(\"Filtered Tuple :\" ,filtered_tuple)"
   ]
  },
  {
   "cell_type": "markdown",
   "id": "29d945c2-a6d3-4513-801c-8f7b0faa3c84",
   "metadata": {},
   "source": [
    "### 36. Multiply all elements in a tuple by 2."
   ]
  },
  {
   "cell_type": "code",
   "execution_count": 54,
   "id": "2f2fd13d-1535-429d-a894-d052ac738df9",
   "metadata": {},
   "outputs": [
    {
     "name": "stdout",
     "output_type": "stream",
     "text": [
      "Multiplied Tuple : (2, 4, 6, 8, 10)\n"
     ]
    }
   ],
   "source": [
    "Tuple = (1, 2, 3, 4, 5)\n",
    "multiplied_tuple = tuple(num * 2 for num in Tuple)\n",
    "print(\"Multiplied Tuple :\" ,multiplied_tuple)"
   ]
  },
  {
   "cell_type": "markdown",
   "id": "af8a4d48-4208-4830-9858-a240cee039e5",
   "metadata": {},
   "source": [
    "### 37. Create a tuple of random numbers."
   ]
  },
  {
   "cell_type": "code",
   "execution_count": 90,
   "id": "5816f640-410c-461c-87e0-71f0e9a689d1",
   "metadata": {},
   "outputs": [
    {
     "name": "stdout",
     "output_type": "stream",
     "text": [
      "Random Tuple : (97, 48, 20, 17, 90, 71, 16, 17, 40, 37)\n"
     ]
    }
   ],
   "source": [
    "import random\n",
    "random_tuple = tuple(random.randint(1,100) for i in range(10))\n",
    "print(\"Random Tuple :\" ,random_tuple)"
   ]
  },
  {
   "cell_type": "markdown",
   "id": "c519b080-d1ce-4455-b7bb-36b5eb491e2c",
   "metadata": {},
   "source": [
    "### 38. Check if a tuple is sorted."
   ]
  },
  {
   "cell_type": "code",
   "execution_count": 92,
   "id": "5bab57d9-4308-472a-a670-a18fe4b98bc4",
   "metadata": {},
   "outputs": [
    {
     "name": "stdout",
     "output_type": "stream",
     "text": [
      "sorted_tuple is Sorted : True\n",
      "unsorted_tuple is Sorted : False\n"
     ]
    }
   ],
   "source": [
    "def is_sorted(tup) :\n",
    "    return tup == tuple(sorted(tup))\n",
    "\n",
    "sorted_tuple = (1, 2, 3, 4, 5)\n",
    "unsorted_tuple = (5, 4, 3, 2, 1)\n",
    "\n",
    "is_sorted1 = is_sorted(sorted_tuple)\n",
    "is_sorted2 = is_sorted(unsorted_tuple)\n",
    "\n",
    "print(\"sorted_tuple is Sorted :\" ,is_sorted1)\n",
    "print(\"unsorted_tuple is Sorted :\" ,is_sorted2)"
   ]
  },
  {
   "cell_type": "markdown",
   "id": "c83cda62-b7c7-4477-ab97-1f215268906b",
   "metadata": {},
   "source": [
    "### 39. Rotate a tuple to the left by `n` positions."
   ]
  },
  {
   "cell_type": "code",
   "execution_count": 93,
   "id": "a20f4670-1a32-471d-abf9-bf0712e8369f",
   "metadata": {},
   "outputs": [
    {
     "name": "stdout",
     "output_type": "stream",
     "text": [
      "(3, 4, 5, 1, 2)\n"
     ]
    }
   ],
   "source": [
    "def rotate_tuple_left(tup, n):\n",
    "    n = n % len(tup)  \n",
    "    rotated_tuple = tup[n:] + tup[:n] \n",
    "    return rotated_tuple\n",
    "\n",
    "my_tuple = (1, 2, 3, 4, 5)\n",
    "n_positions = 2\n",
    "result = rotate_tuple_left(my_tuple, n_positions)\n",
    "print(result)"
   ]
  },
  {
   "cell_type": "markdown",
   "id": "e68b3b64-f425-494e-8605-c4cf1c6e3a04",
   "metadata": {},
   "source": [
    "### 40. Rotate a tuple to the right by `n` positions."
   ]
  },
  {
   "cell_type": "code",
   "execution_count": 94,
   "id": "9647a3ac-49ce-470d-9a54-446c29129fc6",
   "metadata": {},
   "outputs": [
    {
     "name": "stdout",
     "output_type": "stream",
     "text": [
      "(4, 5, 1, 2, 3)\n"
     ]
    }
   ],
   "source": [
    "def rotate_tuple_right(tup, n):\n",
    "    n = n % len(tup)  \n",
    "    rotated_tuple = tup[-n:] + tup[:-n]  \n",
    "    return rotated_tuple\n",
    "\n",
    "\n",
    "my_tuple = (1, 2, 3, 4, 5)\n",
    "n_positions = 2\n",
    "result = rotate_tuple_right(my_tuple, n_positions)\n",
    "print(result)"
   ]
  },
  {
   "cell_type": "markdown",
   "id": "1385e669-0cb9-4180-9ed2-787a64246fda",
   "metadata": {},
   "source": [
    "### 41. Create a tuple of the first 5 Fibonacci numbers."
   ]
  },
  {
   "cell_type": "code",
   "execution_count": 16,
   "id": "60ae6878-50b6-4218-b8c7-5470243a0b87",
   "metadata": {},
   "outputs": [
    {
     "name": "stdout",
     "output_type": "stream",
     "text": [
      "First 5 Fibonacci Numbers : (0, 1, 1, 2, 3)\n"
     ]
    }
   ],
   "source": [
    "fib1, fib2 = 0, 1\n",
    "fib_numbers = []\n",
    "for i in range(5) :\n",
    "    fib_numbers.append(fib1)\n",
    "    fib1, fib2 = fib2, fib1 + fib2\n",
    "fib_numbers = tuple(fib_numbers)\n",
    "print(\"First 5 Fibonacci Numbers :\" ,fib_numbers)"
   ]
  },
  {
   "cell_type": "markdown",
   "id": "a1b3b83b-2fc2-47a0-a13a-5b8ebd6c0878",
   "metadata": {},
   "source": [
    "### 42. Create a tuple from user input."
   ]
  },
  {
   "cell_type": "code",
   "execution_count": 26,
   "id": "65f50375-eb38-428e-9876-2f04e2f5ff6e",
   "metadata": {},
   "outputs": [
    {
     "name": "stdin",
     "output_type": "stream",
     "text": [
      "Enter Elements Seperated by Commas : 1,2,3,4,5\n"
     ]
    },
    {
     "name": "stdout",
     "output_type": "stream",
     "text": [
      "User Tuple : ('1', '2', '3', '4', '5')\n"
     ]
    }
   ],
   "source": [
    "input_str = input(\"Enter Elements Seperated by Commas :\")\n",
    "input_list = input_str.split(',')\n",
    "user_tuple = tuple(input_list)\n",
    "print(\"User Tuple :\" ,user_tuple)"
   ]
  },
  {
   "cell_type": "markdown",
   "id": "3b127d8e-d92f-49c4-a720-ea312e763d54",
   "metadata": {},
   "source": [
    "### 43. Swap two elements in a tuple."
   ]
  },
  {
   "cell_type": "code",
   "execution_count": 7,
   "id": "b4dae14a-a131-48de-a8f5-fe252d64c9f0",
   "metadata": {},
   "outputs": [
    {
     "name": "stdout",
     "output_type": "stream",
     "text": [
      "Swapped tuple : ('a', 'd', 'c', 'b', 'e')\n"
     ]
    }
   ],
   "source": [
    "tup = ('a', 'b', 'c', 'd', 'e')\n",
    "List = list(tup)\n",
    "List[1], List[3] = List[3], List[1]\n",
    "tup = tuple(List)\n",
    "print(\"Swapped tuple :\", tup)"
   ]
  },
  {
   "cell_type": "markdown",
   "id": "226aa806-1fb0-43b1-8563-14e98a287ecd",
   "metadata": {},
   "source": [
    "### 44. Reverse the elements of a tuple."
   ]
  },
  {
   "cell_type": "code",
   "execution_count": 10,
   "id": "82e96b4b-d560-41e6-9edd-7b0c311d37f4",
   "metadata": {},
   "outputs": [
    {
     "name": "stdout",
     "output_type": "stream",
     "text": [
      "Reversed Tuple : (5, 4, 3, 2, 1)\n"
     ]
    }
   ],
   "source": [
    "Tuple = (1, 2, 3, 4, 5)\n",
    "reversed_tuple = Tuple[::-1]\n",
    "print(\"Reversed Tuple :\" ,reversed_tuple)"
   ]
  },
  {
   "cell_type": "markdown",
   "id": "497c09a4-7ae2-415f-a439-6720dadb2d85",
   "metadata": {},
   "source": [
    "### 45. Create a tuple of the first `n` powers of 2."
   ]
  },
  {
   "cell_type": "code",
   "execution_count": 13,
   "id": "07d418ec-94c5-4e99-acb8-c4231d7fe3ca",
   "metadata": {},
   "outputs": [
    {
     "name": "stdout",
     "output_type": "stream",
     "text": [
      "Tuple of the First 5 Powers of 2 : (1, 2, 4, 8, 16)\n"
     ]
    }
   ],
   "source": [
    "n = 5\n",
    "powers_of_2_tuple = tuple(2 ** i for i in range(n))\n",
    "print(\"Tuple of the First\", n, \"Powers of 2 :\" ,powers_of_2_tuple)"
   ]
  },
  {
   "cell_type": "markdown",
   "id": "30bce542-d0eb-4b70-b77f-bfe0d8ca140c",
   "metadata": {},
   "source": [
    "### 46. Find the longest string in a tuple of strings."
   ]
  },
  {
   "cell_type": "code",
   "execution_count": 15,
   "id": "02df7b8c-358b-4be6-9f85-b3971c0860e6",
   "metadata": {},
   "outputs": [
    {
     "name": "stdout",
     "output_type": "stream",
     "text": [
      "Longest String : Grapefruit\n"
     ]
    }
   ],
   "source": [
    "string_tuple = (\"Lemon\", \"Grapefruit\", \"Bergamot\", \"Neroli\", \"Lotus\", \"Pineapple\", \"Patchouli\", \"Sandlewood\", \"Musk\")\n",
    "longest_string = max(string_tuple, key = len)\n",
    "print(\"Longest String :\" ,longest_string)"
   ]
  },
  {
   "cell_type": "markdown",
   "id": "69efc112-74c7-41f6-8c4d-96f591af4b9c",
   "metadata": {},
   "source": [
    "### 47. Find the shortest string in a tuple of strings."
   ]
  },
  {
   "cell_type": "code",
   "execution_count": 16,
   "id": "766feddb-a5a8-4bba-94ab-ce1dedaa4ee3",
   "metadata": {},
   "outputs": [
    {
     "name": "stdout",
     "output_type": "stream",
     "text": [
      "Shortest String : Musk\n"
     ]
    }
   ],
   "source": [
    "string_tuple = (\"Lemon\", \"Grapefruit\", \"Bergamot\", \"Neroli\", \"Lotus\", \"Pineapple\", \"Patchouli\", \"Sandlewood\", \"Musk\")\n",
    "shortest_string = min(string_tuple, key = len)\n",
    "print(\"Shortest String :\" ,shortest_string)"
   ]
  },
  {
   "cell_type": "markdown",
   "id": "04e0d55e-08c6-451f-b43b-931a2004120f",
   "metadata": {},
   "source": [
    "### 48. Create a tuple of the first `n` triangular numbers."
   ]
  },
  {
   "cell_type": "code",
   "execution_count": 1,
   "id": "29663fb4-ef05-420f-9a9b-85ec49cae526",
   "metadata": {},
   "outputs": [
    {
     "name": "stdout",
     "output_type": "stream",
     "text": [
      "Tuple of the First 5 Triangular Numbers : (1, 3, 6, 10, 15)\n"
     ]
    }
   ],
   "source": [
    "n = 5\n",
    "triangular_numbers_tuple = tuple(i * (i+1) // 2 for i in range(1, n +1))\n",
    "print(\"Tuple of the First\", n, \"Triangular Numbers :\" ,triangular_numbers_tuple)"
   ]
  },
  {
   "cell_type": "markdown",
   "id": "b9b6256e-374c-4abb-a7da-e8680fd38da1",
   "metadata": {},
   "source": [
    "### 49. Check if a tuple contains another tuple as a subsequence."
   ]
  },
  {
   "cell_type": "code",
   "execution_count": 2,
   "id": "c4574a50-04a1-492e-9bf4-a5319a83fb0b",
   "metadata": {},
   "outputs": [
    {
     "name": "stdout",
     "output_type": "stream",
     "text": [
      "Main tuple contains subsequence tuple: True\n"
     ]
    }
   ],
   "source": [
    "def contains_subsequence(main_tuple, sub_tuple):\n",
    "    sub_length = len(sub_tuple)\n",
    "    for i in range(len(main_tuple) - sub_length + 1):\n",
    "        if main_tuple[i:i+sub_length] == sub_tuple:\n",
    "            return True\n",
    "    return False\n",
    "\n",
    "main_tuple = (1, 2, 3, 4, 5, 6, 7, 8, 9)\n",
    "sub_tuple = (3, 4, 5)\n",
    "\n",
    "contains_subseq = contains_subsequence(main_tuple, sub_tuple)\n",
    "print(\"Main tuple contains subsequence tuple:\", contains_subseq)"
   ]
  },
  {
   "cell_type": "markdown",
   "id": "21d94e5f-120b-464f-8bcb-cb1f6e70035c",
   "metadata": {},
   "source": [
    "### 50. Create a tuple of alternating 1s and 0s of length `n`."
   ]
  },
  {
   "cell_type": "code",
   "execution_count": 1,
   "id": "75922540-72e8-480d-854f-e57026ee29fe",
   "metadata": {},
   "outputs": [
    {
     "name": "stdout",
     "output_type": "stream",
     "text": [
      "Tuple of Alternating 1s and 0s : (0, 1, 0, 1, 0, 1, 0, 1, 0, 1)\n"
     ]
    }
   ],
   "source": [
    "n = 10\n",
    "alternating_tuple = tuple(i % 2 for i in range(n))\n",
    "print(\"Tuple of Alternating 1s and 0s :\" ,alternating_tuple)"
   ]
  },
  {
   "cell_type": "markdown",
   "id": "559fd7e2-71d9-4448-ac29-7e8fa3151acc",
   "metadata": {},
   "source": [
    "# **Set Based Practice Problem :**\n",
    "---"
   ]
  },
  {
   "cell_type": "markdown",
   "id": "2c02c24d-04d2-4ce1-be37-944cb7d99e45",
   "metadata": {},
   "source": [
    "### 1. Create a set with integers from 1 to 5."
   ]
  },
  {
   "cell_type": "code",
   "execution_count": 3,
   "id": "6f4ae0cf-1a6d-4892-acca-59a5aba1c3fe",
   "metadata": {},
   "outputs": [
    {
     "name": "stdout",
     "output_type": "stream",
     "text": [
      "Set : {1, 2, 3, 4, 5}\n"
     ]
    }
   ],
   "source": [
    "Set = {1,2,3,4,5}\n",
    "print(\"Set :\" ,Set)"
   ]
  },
  {
   "cell_type": "markdown",
   "id": "f32b78a1-4c54-45c1-ad93-e59076c26f55",
   "metadata": {},
   "source": [
    "### 2. Add an element to a set."
   ]
  },
  {
   "cell_type": "code",
   "execution_count": 6,
   "id": "3098f143-bd1a-4ad8-868b-520ba22f79e9",
   "metadata": {},
   "outputs": [
    {
     "name": "stdout",
     "output_type": "stream",
     "text": [
      "Original Set : {1, 2, 3, 4, 5}\n",
      "Set After Adding Element : {1, 2, 3, 4, 5, 6}\n"
     ]
    }
   ],
   "source": [
    "Set = {1,2,3,4,5}\n",
    "print(\"Original Set :\" ,Set)\n",
    "element_to_add = 6\n",
    "Set.add(element_to_add)\n",
    "print(\"Set After Adding Element :\" ,Set)"
   ]
  },
  {
   "cell_type": "markdown",
   "id": "293acc82-3217-4b7b-9221-5e2afe21ab35",
   "metadata": {},
   "source": [
    "### 3. Remove an element from a set."
   ]
  },
  {
   "cell_type": "code",
   "execution_count": 7,
   "id": "8fdf8f84-a22f-4b2f-bb56-010e3c215a7d",
   "metadata": {},
   "outputs": [
    {
     "name": "stdout",
     "output_type": "stream",
     "text": [
      "Original Set : {1, 2, 3, 4, 5}\n",
      "Set After Removing 3 : {1, 2, 4, 5}\n"
     ]
    }
   ],
   "source": [
    "Set = {1,2,3,4,5}\n",
    "print(\"Original Set :\" ,Set)\n",
    "element_to_remove = 3\n",
    "Set.remove(3)\n",
    "print(\"Set After Removing\" ,element_to_remove, \":\" ,Set)"
   ]
  },
  {
   "cell_type": "markdown",
   "id": "47eaa7bc-804e-41d0-90bc-a848198344e6",
   "metadata": {},
   "source": [
    "### 4. Check if an element exists in a set."
   ]
  },
  {
   "cell_type": "code",
   "execution_count": 14,
   "id": "dea5b477-430c-4178-9155-7f99b53ab748",
   "metadata": {},
   "outputs": [
    {
     "name": "stdin",
     "output_type": "stream",
     "text": [
      "Enter the Element to Check 5\n"
     ]
    },
    {
     "name": "stdout",
     "output_type": "stream",
     "text": [
      "5 Exists in the Set\n"
     ]
    }
   ],
   "source": [
    "Set = {1,2,3,4,5,6,7,8,9,10}\n",
    "element_to_check = int(input(\"Enter the Element to Check\"))\n",
    "if element_to_check in Set :\n",
    "    print(f\"{element_to_check} Exists in the Set\")\n",
    "else :\n",
    "    print(f\"{element_to_check} Does not Exists in the Set\")"
   ]
  },
  {
   "cell_type": "markdown",
   "id": "6876d1a7-d82a-4741-b1e6-67a241b173ef",
   "metadata": {},
   "source": [
    "### 5. Find the length of a set without using the `len()` function."
   ]
  },
  {
   "cell_type": "code",
   "execution_count": 15,
   "id": "f9070e62-a762-496c-bb57-d409ad4cf100",
   "metadata": {},
   "outputs": [
    {
     "name": "stdout",
     "output_type": "stream",
     "text": [
      "Length of the Set : 10\n"
     ]
    }
   ],
   "source": [
    "Set = {1,2,3,4,5,6,7,8,9,10}\n",
    "count = 0\n",
    "for i in Set :\n",
    "    count += 1\n",
    "print(\"Length of the Set :\" ,count)"
   ]
  },
  {
   "cell_type": "markdown",
   "id": "6ef084ca-c5ff-4d64-bdfb-b06fbd5ec38e",
   "metadata": {},
   "source": [
    "### 6. Clear all elements from a set."
   ]
  },
  {
   "cell_type": "code",
   "execution_count": 17,
   "id": "e09535d0-b8f4-4bdc-bed4-f2431b0f7b79",
   "metadata": {},
   "outputs": [
    {
     "name": "stdout",
     "output_type": "stream",
     "text": [
      "Original Set : {1, 2, 3, 4, 5, 6, 7, 8, 9, 10}\n",
      "Set After Clearing All The Elements : set()\n"
     ]
    }
   ],
   "source": [
    "Set = {1,2,3,4,5,6,7,8,9,10}\n",
    "print(\"Original Set :\" ,Set)\n",
    "Set.clear()\n",
    "print(\"Set After Clearing All The Elements :\" ,Set)"
   ]
  },
  {
   "cell_type": "markdown",
   "id": "a7824407-59bd-45fa-8148-159803bc2493",
   "metadata": {},
   "source": [
    "### 7. Create a set of even numbers from 1 to 10."
   ]
  },
  {
   "cell_type": "code",
   "execution_count": 18,
   "id": "8c63d27c-3275-44c4-8325-0dfe50615bc8",
   "metadata": {},
   "outputs": [
    {
     "name": "stdout",
     "output_type": "stream",
     "text": [
      "Set of Even Numbers : {2, 4, 6, 8, 10}\n"
     ]
    }
   ],
   "source": [
    "even_numbers_set = set()\n",
    "for i in range(1,11) :\n",
    "    if i % 2 == 0 :\n",
    "        even_numbers_set.add(i)\n",
    "print(\"Set of Even Numbers :\" ,even_numbers_set)"
   ]
  },
  {
   "cell_type": "markdown",
   "id": "7f48cdc0-e4f9-4afb-ae14-cc2da787c48c",
   "metadata": {},
   "source": [
    "### 8. Create a set of odd numbers from 1 to 10."
   ]
  },
  {
   "cell_type": "code",
   "execution_count": 22,
   "id": "c78efa1b-c304-4595-9ff2-1beed07625ee",
   "metadata": {},
   "outputs": [
    {
     "name": "stdout",
     "output_type": "stream",
     "text": [
      "Set of Odd Numbers : {1, 3, 5, 7, 9}\n"
     ]
    }
   ],
   "source": [
    "odd_numbers_set = set()\n",
    "for i in range(1,11) :\n",
    "    if i % 2 != 0 :\n",
    "        odd_numbers_set.add(i)\n",
    "print(\"Set of Odd Numbers :\" ,odd_numbers_set)"
   ]
  },
  {
   "cell_type": "markdown",
   "id": "346793d0-1c58-4874-8e1b-dddbf9bcd084",
   "metadata": {},
   "source": [
    "### 9. Find the union of two sets."
   ]
  },
  {
   "cell_type": "code",
   "execution_count": 1,
   "id": "b28ff82e-07fa-44a7-8450-c55ef46c7068",
   "metadata": {},
   "outputs": [
    {
     "name": "stdout",
     "output_type": "stream",
     "text": [
      "Set 1 : {1, 2, 3, 4, 5}\n",
      "Set 2 : {4, 5, 6, 7, 8}\n",
      "Union of Set 1 and Set 2 : {1, 2, 3, 4, 5, 6, 7, 8}\n"
     ]
    }
   ],
   "source": [
    "set1 = {1,2,3,4,5}\n",
    "set2 = {4,5,6,7,8}\n",
    "unoin_result = set1.union(set2)\n",
    "print(\"Set 1 :\" ,set1)\n",
    "print(\"Set 2 :\" ,set2)\n",
    "print(\"Union of Set 1 and Set 2 :\" ,unoin_result)"
   ]
  },
  {
   "cell_type": "markdown",
   "id": "6fb44561-70b0-47f2-885e-f307cc97b9b5",
   "metadata": {},
   "source": [
    "### 10. Find the intersection of two sets."
   ]
  },
  {
   "cell_type": "code",
   "execution_count": 2,
   "id": "ebb5adb2-e050-4501-b548-bb52274f577a",
   "metadata": {},
   "outputs": [
    {
     "name": "stdout",
     "output_type": "stream",
     "text": [
      "Set 1 : {1, 2, 3, 4, 5}\n",
      "Set 2 : {4, 5, 6, 7, 8}\n",
      "Intersection of Set 1 and Set 2 : {4, 5}\n"
     ]
    }
   ],
   "source": [
    "set1 = {1,2,3,4,5}\n",
    "set2 = {4,5,6,7,8}\n",
    "intersection_result = set1.intersection(set2)\n",
    "print(\"Set 1 :\" ,set1)\n",
    "print(\"Set 2 :\" ,set2)\n",
    "print(\"Intersection of Set 1 and Set 2 :\" ,intersection_result)"
   ]
  },
  {
   "cell_type": "markdown",
   "id": "cef4da83-84f0-458d-b9e9-a67ce8375960",
   "metadata": {},
   "source": [
    "### 11. Find the difference between two sets."
   ]
  },
  {
   "cell_type": "code",
   "execution_count": 4,
   "id": "3826261b-8c8a-48d0-87ed-d99b6d1f3a1b",
   "metadata": {},
   "outputs": [
    {
     "name": "stdout",
     "output_type": "stream",
     "text": [
      "Set 1 : {1, 2, 3, 4, 5}\n",
      "Set 2 : {3, 4, 5, 6, 7}\n",
      "Difference : {1, 2}\n"
     ]
    }
   ],
   "source": [
    "set1 = {1,2,3,4,5}\n",
    "set2 = {3,4,5,6,7}\n",
    "difference_set = set1.difference(set2)\n",
    "print(\"Set 1 :\" ,set1)\n",
    "print(\"Set 2 :\" ,set2)\n",
    "print(\"Difference :\" ,difference_set)"
   ]
  },
  {
   "cell_type": "markdown",
   "id": "916e9ce3-9cbe-437b-b9cb-bdbcbda45a12",
   "metadata": {},
   "source": [
    "### 12. Check if a set is a subset of another set."
   ]
  },
  {
   "cell_type": "code",
   "execution_count": 6,
   "id": "0ce77cc2-e423-4034-bcaa-9f5e66225849",
   "metadata": {},
   "outputs": [
    {
     "name": "stdout",
     "output_type": "stream",
     "text": [
      "Is set1 a Subset of set2 : True\n"
     ]
    }
   ],
   "source": [
    "set1 = {1,2,3}\n",
    "set2 = {1,2,3,4,5}\n",
    "is_subset = set1.issubset(set2)\n",
    "print(\"Is set1 a Subset of set2 :\" ,is_subset)"
   ]
  },
  {
   "cell_type": "markdown",
   "id": "82a4fa7e-efa8-41a1-b871-958d0f56f28a",
   "metadata": {},
   "source": [
    "### 13. Check if a set is a superset of another set."
   ]
  },
  {
   "cell_type": "code",
   "execution_count": 8,
   "id": "ec1fea52-1f3c-41e3-8988-7bfe6ee00cea",
   "metadata": {},
   "outputs": [
    {
     "name": "stdout",
     "output_type": "stream",
     "text": [
      "Is set1 a Superset of set2 : True\n"
     ]
    }
   ],
   "source": [
    "set1 = {1,2,3,4,5}\n",
    "set2 = {1,2,3}\n",
    "is_superset = set1.issuperset(set2)\n",
    "print(\"Is set1 a Superset of set2 :\" ,is_superset)"
   ]
  },
  {
   "cell_type": "markdown",
   "id": "aeab8c31-d901-445f-b93e-dfa5d989e234",
   "metadata": {},
   "source": [
    "### 14. Create a set from a list."
   ]
  },
  {
   "cell_type": "code",
   "execution_count": 10,
   "id": "2d795ed4-0553-4879-a009-24f54daf7863",
   "metadata": {},
   "outputs": [
    {
     "name": "stdout",
     "output_type": "stream",
     "text": [
      "Original List : [1, 2, 3, 4, 5, 2, 1, 3, 4]\n",
      "Set from List : {1, 2, 3, 4, 5}\n"
     ]
    }
   ],
   "source": [
    "List = [1,2,3,4,5,2,1,3,4]\n",
    "Set = set(List)\n",
    "print(\"Original List :\" ,List)\n",
    "print(\"Set from List :\" ,Set)"
   ]
  },
  {
   "cell_type": "markdown",
   "id": "352de606-6934-4d6b-8687-dd6ca2ca7da9",
   "metadata": {},
   "source": [
    "### 15. Convert a set to a list."
   ]
  },
  {
   "cell_type": "code",
   "execution_count": 2,
   "id": "91cf1f7b-6f1f-45f8-9e5a-e9c070b24c90",
   "metadata": {},
   "outputs": [
    {
     "name": "stdout",
     "output_type": "stream",
     "text": [
      "Original Set : {1, 2, 3, 4, 5}\n",
      "List from Set : [1, 2, 3, 4, 5]\n"
     ]
    }
   ],
   "source": [
    "Set = {1,2,3,4,5,2,1,3,4}\n",
    "List = list(Set)\n",
    "print(\"Original Set :\" ,Set)\n",
    "print(\"List from Set :\" ,List)"
   ]
  },
  {
   "cell_type": "markdown",
   "id": "4b50032e-f8b3-42a7-bfc4-762c2fa11a64",
   "metadata": {},
   "source": [
    "### 16. Remove a random element from a set."
   ]
  },
  {
   "cell_type": "code",
   "execution_count": 15,
   "id": "6350d98a-5fc6-4e12-a35f-7a95309072c9",
   "metadata": {},
   "outputs": [
    {
     "name": "stdout",
     "output_type": "stream",
     "text": [
      "Original Set : {1, 2, 3, 4, 5, 6, 7, 8, 9, 10}\n",
      "Set After Removing 7 : {1, 2, 3, 4, 5, 6, 8, 9, 10}\n"
     ]
    }
   ],
   "source": [
    "import random\n",
    "Set = {1,2,3,4,5,6,7,8,9,10}\n",
    "print(\"Original Set :\" ,Set)\n",
    "random_element = random.choice(list(Set))\n",
    "Set.remove(random_element)\n",
    "print(\"Set After Removing\" ,random_element, \":\" ,Set)"
   ]
  },
  {
   "cell_type": "markdown",
   "id": "5039b0bf-f553-4774-9aa5-eef2475b6c53",
   "metadata": {},
   "source": [
    "### 17. Pop an element from a set."
   ]
  },
  {
   "cell_type": "code",
   "execution_count": 16,
   "id": "edba9e0b-c7c3-41e3-8446-d20e687d7a07",
   "metadata": {},
   "outputs": [
    {
     "name": "stdout",
     "output_type": "stream",
     "text": [
      "Original Set : {1, 2, 3, 4, 5, 6, 7, 8, 9, 10}\n",
      "Popped Element : 1\n",
      "Set After Popping : {2, 3, 4, 5, 6, 7, 8, 9, 10}\n"
     ]
    }
   ],
   "source": [
    "Set = {1,2,3,4,5,6,7,8,9,10}\n",
    "print(\"Original Set :\" ,Set)\n",
    "popped_element = Set.pop()\n",
    "print(\"Popped Element :\" ,popped_element)\n",
    "print(\"Set After Popping :\" ,Set)"
   ]
  },
  {
   "cell_type": "markdown",
   "id": "e631b73a-6a6d-4ddd-8b82-67c08c84a2d9",
   "metadata": {},
   "source": [
    "### 18. Check if two sets have no elements in common."
   ]
  },
  {
   "cell_type": "code",
   "execution_count": 18,
   "id": "7b3357c2-32df-431f-98ff-2721dc3b0ea2",
   "metadata": {},
   "outputs": [
    {
     "name": "stdout",
     "output_type": "stream",
     "text": [
      "The Two Sets Have Common Elements : {3, 4, 5, 6}\n"
     ]
    }
   ],
   "source": [
    "set1 = {1,2,3,4,5,6}\n",
    "set2 = {3,4,5,6,7}\n",
    "common_elements = set1.intersection(set2)\n",
    "if not common_elements :\n",
    "    print(\"The Two Sets Have No Elements In Commmon\")\n",
    "else :\n",
    "    print(\"The Two Sets Have Common Elements :\" ,common_elements)"
   ]
  },
  {
   "cell_type": "markdown",
   "id": "23b26527-3fc2-4c8f-afe2-25f56a0a5fff",
   "metadata": {},
   "source": [
    "### 19. Find the symmetric difference between two sets."
   ]
  },
  {
   "cell_type": "code",
   "execution_count": 19,
   "id": "19a4849d-5133-47ec-9cb2-8e114701a3d8",
   "metadata": {},
   "outputs": [
    {
     "name": "stdout",
     "output_type": "stream",
     "text": [
      "Symmetric Difference : {1, 2, 3, 7, 8, 9}\n"
     ]
    }
   ],
   "source": [
    "set1 = {1,2,3,4,5,6}\n",
    "set2 = {4,5,6,7,8,9}\n",
    "symmetric_difference = set1 ^ set2\n",
    "print(\"Symmetric Difference :\" ,symmetric_difference)"
   ]
  },
  {
   "cell_type": "markdown",
   "id": "bcc83cd9-5eac-4183-bd4d-0cdc44e57cd9",
   "metadata": {},
   "source": [
    "### 20. Update a set with elements from another set."
   ]
  },
  {
   "cell_type": "code",
   "execution_count": 20,
   "id": "df0e1044-3675-4235-9f12-e26df64fdd82",
   "metadata": {},
   "outputs": [
    {
     "name": "stdout",
     "output_type": "stream",
     "text": [
      "Set 1 : {1, 2, 3}\n",
      "Set 2 : {3, 4, 5}\n",
      "Updated Set 1 : {1, 2, 3, 4, 5}\n"
     ]
    }
   ],
   "source": [
    "set1 = {1,2,3}\n",
    "set2 = {3,4,5}\n",
    "print(\"Set 1 :\" ,set1)\n",
    "print(\"Set 2 :\" ,set2)\n",
    "set1.update(set2)\n",
    "print(\"Updated Set 1 :\" ,set1)"
   ]
  },
  {
   "cell_type": "markdown",
   "id": "a3e238bf-0d91-46fa-9a77-25e63fb5a7e4",
   "metadata": {},
   "source": [
    "### 21. Create a set of the first 5 prime numbers."
   ]
  },
  {
   "cell_type": "code",
   "execution_count": 20,
   "id": "ef5dfc1e-1e11-41a0-9c78-8d97b37da3fc",
   "metadata": {},
   "outputs": [
    {
     "name": "stdout",
     "output_type": "stream",
     "text": [
      "Set of the First 5 Prime Numbers : {2, 3, 5, 7, 11}\n"
     ]
    }
   ],
   "source": [
    "primes = []\n",
    "num = 2\n",
    "while len(primes) < 5 :\n",
    "    for i in primes :\n",
    "        if num % i == 0 :\n",
    "            break\n",
    "    else :\n",
    "        primes.append(num)\n",
    "    num += 1\n",
    "prime_numbers = set(primes)\n",
    "print(\"Set of the First 5 Prime Numbers :\" ,prime_numbers)"
   ]
  },
  {
   "cell_type": "markdown",
   "id": "658831b8-d2b1-41fe-80e1-56526f7fc8a8",
   "metadata": {},
   "source": [
    "### 22. Check if two sets are identical."
   ]
  },
  {
   "cell_type": "code",
   "execution_count": 21,
   "id": "2591ae05-90c7-4afa-bc82-f9968eeb68fb",
   "metadata": {},
   "outputs": [
    {
     "name": "stdout",
     "output_type": "stream",
     "text": [
      "The Sets are Identical\n"
     ]
    }
   ],
   "source": [
    "set1 = {1,2,3,4,5}\n",
    "set2 = {3,4,1,2,5}\n",
    "if set1 == set2 :\n",
    "    print(\"The Sets are Identical\")\n",
    "else :\n",
    "    print(\"The Sets are Not Identical\")"
   ]
  },
  {
   "cell_type": "markdown",
   "id": "f77b5dd6-5544-4ded-8ded-b9cdf106a12e",
   "metadata": {},
   "source": [
    "### 23. Create a frozen set."
   ]
  },
  {
   "cell_type": "code",
   "execution_count": 26,
   "id": "580bb987-1f5f-43b0-ba89-581cde14d1aa",
   "metadata": {},
   "outputs": [
    {
     "name": "stdout",
     "output_type": "stream",
     "text": [
      "Frozen Set : frozenset({1, 2, 3, 4, 5})\n"
     ]
    }
   ],
   "source": [
    "List = [1,2,3,4,5]\n",
    "frozen_set = frozenset(List)\n",
    "print(\"Frozen Set :\" ,frozen_set)"
   ]
  },
  {
   "cell_type": "markdown",
   "id": "ee27e9fc-2268-43b1-9770-bde26dcfa565",
   "metadata": {},
   "source": [
    "### 24. Check if a set is disjoint with another set."
   ]
  },
  {
   "cell_type": "code",
   "execution_count": 30,
   "id": "80c98d6c-74a1-4fb0-85e9-cddce9608c1f",
   "metadata": {},
   "outputs": [
    {
     "name": "stdout",
     "output_type": "stream",
     "text": [
      "Set 1 : {1, 2, 3}\n",
      "Set 2 : {4, 5, 6}\n",
      "Are the Sets Disjoint ? : True\n"
     ]
    }
   ],
   "source": [
    "set1 = {1,2,3}\n",
    "set2 = {4,5,6}\n",
    "disjoint = set1.isdisjoint(set2)\n",
    "print(\"Set 1 :\" ,set1)\n",
    "print(\"Set 2 :\" ,set2)\n",
    "print(\"Are the Sets Disjoint ? :\" ,disjoint)"
   ]
  },
  {
   "cell_type": "markdown",
   "id": "e91a1ad7-b3fe-43fd-8fb9-479310d3e6f5",
   "metadata": {},
   "source": [
    "### 25. Create a set of squares of numbers from 1 to 5."
   ]
  },
  {
   "cell_type": "code",
   "execution_count": 38,
   "id": "c8dced32-2020-4e6c-a8da-3fcd57c133f0",
   "metadata": {},
   "outputs": [
    {
     "name": "stdout",
     "output_type": "stream",
     "text": [
      "Squares Set : {1, 4, 9, 16, 25}\n"
     ]
    }
   ],
   "source": [
    "squares_set = set()\n",
    "for i in range(1,6) :\n",
    "    squares = i ** 2\n",
    "    squares_set.add(squares)\n",
    "print(\"Squares Set :\" ,squares_set)"
   ]
  },
  {
   "cell_type": "markdown",
   "id": "3d37297d-fc12-477b-973d-2d4c956b5d06",
   "metadata": {},
   "source": [
    "### 26. Filter out all even numbers from a set."
   ]
  },
  {
   "cell_type": "code",
   "execution_count": 3,
   "id": "0a1d47d8-ae32-4919-ab6d-feeb2314a0c5",
   "metadata": {},
   "outputs": [
    {
     "name": "stdout",
     "output_type": "stream",
     "text": [
      "Original Set : {1, 2, 3, 4, 5}\n",
      "Even Numbers Set : {2, 4}\n"
     ]
    }
   ],
   "source": [
    "Set = {1,2,3,4,5}\n",
    "even_num_set = set()\n",
    "for i in Set :\n",
    "    if i % 2 == 0 :\n",
    "        even_num_set.add(i)\n",
    "print(\"Original Set :\" ,Set)\n",
    "print(\"Even Numbers Set :\" ,even_num_set)"
   ]
  },
  {
   "cell_type": "markdown",
   "id": "58ab97b0-eb4f-4183-8fcf-ac83db2cbb3c",
   "metadata": {},
   "source": [
    "### 27. Multiply all elements in a set by 2."
   ]
  },
  {
   "cell_type": "code",
   "execution_count": 4,
   "id": "ee05ef2e-11f2-4142-92cb-60901fbbae31",
   "metadata": {},
   "outputs": [
    {
     "name": "stdout",
     "output_type": "stream",
     "text": [
      "Original Set : {1, 2, 3, 4, 5}\n",
      "Multiplied Set : {2, 4, 6, 8, 10}\n"
     ]
    }
   ],
   "source": [
    "Set = {1,2,3,4,5}\n",
    "multipled_set = set()\n",
    "for i in Set :\n",
    "    i = i * 2\n",
    "    multipled_set.add(i)\n",
    "print(\"Original Set :\" ,Set)\n",
    "print(\"Multiplied Set :\",multipled_set)"
   ]
  },
  {
   "cell_type": "markdown",
   "id": "8a2edce2-7d62-4d2b-9acd-7aed84a2d735",
   "metadata": {},
   "source": [
    "### 28. Create a set of random numbers."
   ]
  },
  {
   "cell_type": "code",
   "execution_count": null,
   "id": "ebb28d29-1519-48c5-85f6-7baf33c65149",
   "metadata": {},
   "outputs": [
    {
     "name": "stdout",
     "output_type": "stream",
     "text": [
      "Generated Set of Randomm Numbers : {96, 66, 67, 70, 6, 72, 43, 14, 15, 22}\n"
     ]
    }
   ],
   "source": [
    "import random\n",
    "random_numbers_set = {random.randint(1,100) for i in range(10)}\n",
    "print(\"Generated Set of Randomm Numbers :\" ,random_numbers_set)"
   ]
  },
  {
   "cell_type": "markdown",
   "id": "9e9f03cd-5bf7-4ab3-bed3-ca56cf96b69f",
   "metadata": {},
   "source": [
    "### 29. Check if a set is empty."
   ]
  },
  {
   "cell_type": "code",
   "execution_count": 38,
   "id": "3c472bef-cd3b-4e12-866d-4214d356be60",
   "metadata": {},
   "outputs": [
    {
     "name": "stdout",
     "output_type": "stream",
     "text": [
      "Set : {}\n",
      "The Set is Empty\n"
     ]
    }
   ],
   "source": [
    "Set = {}\n",
    "print(\"Set :\" ,Set)\n",
    "if len(Set) == 0 :\n",
    "    print(\"The Set is Empty\")\n",
    "else :\n",
    "    print(\"The Set is Not Empty\")"
   ]
  },
  {
   "cell_type": "markdown",
   "id": "29fe9439-bc0f-4606-9364-1b84020db1aa",
   "metadata": {},
   "source": [
    "### 30. Create a nested set (hint: use frozenset)."
   ]
  },
  {
   "cell_type": "code",
   "execution_count": 1,
   "id": "c33bf1c4-3c9d-4fc5-a982-e542c0f1502e",
   "metadata": {},
   "outputs": [
    {
     "name": "stdout",
     "output_type": "stream",
     "text": [
      "Nested Set : (frozenset({1, 2, 3, 4, 5}), frozenset({6, 7, 8, 9, 10}))\n"
     ]
    }
   ],
   "source": [
    "set1 = {1,2,3,4,5}\n",
    "set2 = {6,7,8,9,10}\n",
    "frozen_set1 = frozenset(set1)\n",
    "frozen_set2 = frozenset(set2)\n",
    "nested_set = (frozen_set1 , frozen_set2)\n",
    "print(\"Nested Set :\" ,nested_set)"
   ]
  },
  {
   "cell_type": "markdown",
   "id": "21cf7e2b-9b63-4add-8e68-597634a22faa",
   "metadata": {},
   "source": [
    "### 31. Remove an element from a set using the discard method."
   ]
  },
  {
   "cell_type": "code",
   "execution_count": 6,
   "id": "9c7fffb5-4506-44ec-bb38-ca9b9bd4ddba",
   "metadata": {},
   "outputs": [
    {
     "name": "stdout",
     "output_type": "stream",
     "text": [
      "Initial Set : {1, 2, 3, 4, 5}\n",
      "Set After Removing an Element : {1, 2, 3, 5}\n"
     ]
    }
   ],
   "source": [
    "Set = {1,2,3,4,5}\n",
    "print(\"Initial Set :\" ,Set)\n",
    "removed_element = Set.discard(4)\n",
    "print(\"Set After Removing an Element :\" ,Set)"
   ]
  },
  {
   "cell_type": "markdown",
   "id": "42519081-064a-4da8-b40c-7b3ef882aba7",
   "metadata": {},
   "source": [
    "### 32. Compare two sets."
   ]
  },
  {
   "cell_type": "code",
   "execution_count": 10,
   "id": "1bf9da40-1cb6-4069-98de-c3e24d6a11e6",
   "metadata": {},
   "outputs": [
    {
     "name": "stdout",
     "output_type": "stream",
     "text": [
      "Set 1: {1, 2, 3, 4, 5}\n",
      "Set 2: {4, 5, 6, 7, 8}\n",
      "Is set1 a subset of set2? False\n",
      "Is set2 a subset of set1? False\n",
      "Intersection: {4, 5}\n",
      "Union: {1, 2, 3, 4, 5, 6, 7, 8}\n",
      "Elements in set1 but not in set2: {1, 2, 3}\n",
      "Elements in set2 but not in set1: {8, 6, 7}\n"
     ]
    }
   ],
   "source": [
    "# Step 1: Define two sets\n",
    "set1 = {1, 2, 3, 4, 5}\n",
    "set2 = {4, 5, 6, 7, 8}\n",
    "\n",
    "# Step 2: Use set operations to compare the sets\n",
    "# Check if set1 is a subset of set2\n",
    "is_subset = set1.issubset(set2)\n",
    "\n",
    "# Check if set2 is a subset of set1\n",
    "is_superset = set1.issuperset(set2)\n",
    "\n",
    "# Find the intersection of the sets\n",
    "intersection = set1.intersection(set2)\n",
    "\n",
    "# Find the union of the sets\n",
    "union = set1.union(set2)\n",
    "\n",
    "# Find the elements that are in set1 but not in set2\n",
    "difference1 = set1.difference(set2)\n",
    "\n",
    "# Find the elements that are in set2 but not in set1\n",
    "difference2 = set2.difference(set1)\n",
    "\n",
    "# Step 3: Print the results\n",
    "print(\"Set 1:\", set1)\n",
    "print(\"Set 2:\", set2)\n",
    "print(\"Is set1 a subset of set2?\", is_subset)\n",
    "print(\"Is set2 a subset of set1?\", is_superset)\n",
    "print(\"Intersection:\", intersection)\n",
    "print(\"Union:\", union)\n",
    "print(\"Elements in set1 but not in set2:\", difference1)\n",
    "print(\"Elements in set2 but not in set1:\", difference2)"
   ]
  },
  {
   "cell_type": "markdown",
   "id": "ab1bf891-3240-4b40-981f-0a7905e88dda",
   "metadata": {},
   "source": [
    "### 33. Create a set from a string."
   ]
  },
  {
   "cell_type": "code",
   "execution_count": 11,
   "id": "42f7e0e3-81ad-4aef-94a3-3cfa20daafaf",
   "metadata": {},
   "outputs": [
    {
     "name": "stdout",
     "output_type": "stream",
     "text": [
      "String : Python\n",
      "Set from String : {'o', 'P', 'h', 't', 'n', 'y'}\n"
     ]
    }
   ],
   "source": [
    "String = \"Python\"\n",
    "Set = set(String)\n",
    "print(\"String :\" ,String)\n",
    "print(\"Set from String :\" ,Set)"
   ]
  },
  {
   "cell_type": "markdown",
   "id": "c0dae2ba-a073-4ac1-b24c-9f978beffd62",
   "metadata": {},
   "source": [
    "### 34. Convert a set of strings to a set of integers."
   ]
  },
  {
   "cell_type": "code",
   "execution_count": 13,
   "id": "5b909be1-2396-464c-ac2e-7ee58260acb1",
   "metadata": {},
   "outputs": [
    {
     "name": "stdout",
     "output_type": "stream",
     "text": [
      "Set of Strings : {'456', '789', '123'}\n",
      "Set of Integers : {456, 123, 789}\n"
     ]
    }
   ],
   "source": [
    "set_of_strings = {\"123\", \"456\" ,\"789\"}\n",
    "set_of_integers = {int(i)for i in set_of_strings}\n",
    "print(\"Set of Strings :\" ,set_of_strings)\n",
    "print(\"Set of Integers :\" ,set_of_integers)"
   ]
  },
  {
   "cell_type": "markdown",
   "id": "7970c2d7-6688-45d6-8336-188465aa905c",
   "metadata": {},
   "source": [
    "### 35. Convert a set of integers to a set of strings."
   ]
  },
  {
   "cell_type": "code",
   "execution_count": 18,
   "id": "0d148fe2-e2fb-445d-94b7-4329ce28180b",
   "metadata": {},
   "outputs": [
    {
     "name": "stdout",
     "output_type": "stream",
     "text": [
      "Set of Integers : {1, 2, 3, 4, 5}\n",
      "Set of Strings : {'3', '4', '5', '2', '1'}\n"
     ]
    }
   ],
   "source": [
    "set_of_integers = {1,2,3,4,5}\n",
    "set_of_strings = {str(i) for i in set_of_integers}\n",
    "print(\"Set of Integers :\" ,set_of_integers)\n",
    "print(\"Set of Strings :\" ,set_of_strings)"
   ]
  },
  {
   "cell_type": "markdown",
   "id": "de360495-17ca-4db3-8066-4d461e4c6c84",
   "metadata": {},
   "source": [
    "### 36. Create a set from a tuple."
   ]
  },
  {
   "cell_type": "code",
   "execution_count": 21,
   "id": "dd9b4f45-2561-4c39-bafc-82c7f0f99e7b",
   "metadata": {},
   "outputs": [
    {
     "name": "stdout",
     "output_type": "stream",
     "text": [
      "Tuple : (1, 2, 3, 4, 5)\n",
      "Set from Tuple : {1, 2, 3, 4, 5}\n"
     ]
    }
   ],
   "source": [
    "Tuple = (1,2,3,4,5)\n",
    "Set = set(Tuple)\n",
    "print(\"Tuple :\" ,Tuple)\n",
    "print(\"Set from Tuple :\" ,Set)"
   ]
  },
  {
   "cell_type": "markdown",
   "id": "b222d5e8-f84c-4bd2-a1a1-9b14a2844ba0",
   "metadata": {},
   "source": [
    "### 37. Convert a set to a tuple."
   ]
  },
  {
   "cell_type": "code",
   "execution_count": 25,
   "id": "b98084c5-84b6-4b5f-9161-cddbcc62530e",
   "metadata": {},
   "outputs": [
    {
     "name": "stdout",
     "output_type": "stream",
     "text": [
      "Original Set : {1, 2, 3, 4, 5}\n",
      "Converted Tuple : (1, 2, 3, 4, 5)\n"
     ]
    }
   ],
   "source": [
    "Set = {1,2,3,4,5}\n",
    "Tuple = tuple(Set)\n",
    "print(\"Original Set :\" ,Set)\n",
    "print(\"Converted Tuple :\" ,Tuple)"
   ]
  },
  {
   "cell_type": "markdown",
   "id": "41a76ddf-1d45-41a5-aee5-6d1f30e52356",
   "metadata": {},
   "source": [
    "### 38. Find the maximum value in a set."
   ]
  },
  {
   "cell_type": "code",
   "execution_count": 26,
   "id": "9de945eb-8356-429e-9bf3-b94fc5c0fe82",
   "metadata": {},
   "outputs": [
    {
     "name": "stdout",
     "output_type": "stream",
     "text": [
      "Set : {50, 20, 40, 10, 30}\n",
      "Maximum Value in a Set : 50\n"
     ]
    }
   ],
   "source": [
    "Set = {10,20,30,40,50}\n",
    "max_value = max(Set)\n",
    "print(\"Set :\" ,Set)\n",
    "print(\"Maximum Value in a Set :\" ,max_value)"
   ]
  },
  {
   "cell_type": "markdown",
   "id": "4bbfec6e-3363-4761-b2be-743828afacdb",
   "metadata": {},
   "source": [
    "### 39. Find the minimum value in a set."
   ]
  },
  {
   "cell_type": "code",
   "execution_count": 27,
   "id": "ca2c67a0-9516-42aa-8a41-2cd185087ee9",
   "metadata": {},
   "outputs": [
    {
     "name": "stdout",
     "output_type": "stream",
     "text": [
      "Set : {50, 20, 40, 10, 30}\n",
      "Minimum Value in a Set : 10\n"
     ]
    }
   ],
   "source": [
    "Set = {10,20,30,40,50}\n",
    "min_value = min(Set)\n",
    "print(\"Set :\" ,Set)\n",
    "print(\"Minimum Value in a Set :\" ,min_value)"
   ]
  },
  {
   "cell_type": "markdown",
   "id": "0c11768d-f034-467e-b480-3171d24b9404",
   "metadata": {},
   "source": [
    "### 40. Create a set from user input."
   ]
  },
  {
   "cell_type": "code",
   "execution_count": 6,
   "id": "c3dc944f-4720-4a2c-8523-c91413edb714",
   "metadata": {},
   "outputs": [
    {
     "name": "stdout",
     "output_type": "stream",
     "text": [
      "Enter Elements for the Set (Type 'done' to Finish) :\n"
     ]
    },
    {
     "name": "stdin",
     "output_type": "stream",
     "text": [
      "> Python\n",
      "> SQL\n",
      "> Machine Learning\n",
      "> Done\n"
     ]
    },
    {
     "name": "stdout",
     "output_type": "stream",
     "text": [
      "Final Set : {'Machine Learning', 'SQL', 'Python'}\n"
     ]
    }
   ],
   "source": [
    "user_set = set()\n",
    "print(\"Enter Elements for the Set (Type 'done' to Finish) :\")\n",
    "while True :\n",
    "    user_input = input(\">\")\n",
    "    if user_input.lower() == \"done\" :\n",
    "        break\n",
    "    user_set.add(user_input)\n",
    "print(\"Final Set :\" ,user_set)"
   ]
  },
  {
   "cell_type": "markdown",
   "id": "3ea3f63f-9f75-493b-8dcf-6e3ecd8834d3",
   "metadata": {},
   "source": [
    "### 41. Check if the intersection of two sets is empty."
   ]
  },
  {
   "cell_type": "code",
   "execution_count": 3,
   "id": "a2080b29-597a-45c6-9337-d8012d198468",
   "metadata": {},
   "outputs": [
    {
     "name": "stdout",
     "output_type": "stream",
     "text": [
      "Set 1 : {1, 2, 3, 4, 5}\n",
      "Set 2 : {4, 5, 6, 7, 8}\n",
      "The Intersection of Two Sets is Not Empty\n"
     ]
    }
   ],
   "source": [
    "set1 = {1,2,3,4,5}\n",
    "set2 = {4,5,6,7,8}\n",
    "print(\"Set 1 :\" ,set1)\n",
    "print(\"Set 2 :\" ,set2)\n",
    "intersection_result = set1.intersection(set2)\n",
    "if not intersection_result :\n",
    "    print(\"The Intersection of Two Sets is Empty\")\n",
    "else :\n",
    "    print(\"The Intersection of Two Sets is Not Empty\")"
   ]
  },
  {
   "cell_type": "markdown",
   "id": "d11c7d0c-e5d2-4e5f-8c1a-f0d859540625",
   "metadata": {},
   "source": [
    "### 42. Create a set of the first 5 Fibonacci numbers."
   ]
  },
  {
   "cell_type": "code",
   "execution_count": 10,
   "id": "8d6ffd31-f816-4542-a958-ba3e2aded9fc",
   "metadata": {},
   "outputs": [
    {
     "name": "stdout",
     "output_type": "stream",
     "text": [
      "Set of the first 5 fibonacci Numbers : {0, 1, 2, 3, 5}\n"
     ]
    }
   ],
   "source": [
    "fibonacci_set = set()\n",
    "a , b = 0  , 1\n",
    "for i in range(6) :\n",
    "    fibonacci_set.add(a)\n",
    "    a ,b = b , a + b\n",
    "print(\"Set of the first 5 fibonacci Numbers :\" ,fibonacci_set)"
   ]
  },
  {
   "cell_type": "markdown",
   "id": "d0d19ac7-b21d-4631-8e83-7b60eb45fdf5",
   "metadata": {},
   "source": [
    "### 43. Remove duplicates from a list using sets."
   ]
  },
  {
   "cell_type": "code",
   "execution_count": 13,
   "id": "e8f5b418-51c7-4ff3-a31a-e3539f025a08",
   "metadata": {},
   "outputs": [
    {
     "name": "stdout",
     "output_type": "stream",
     "text": [
      "List With Duplicates : [1, 2, 3, 4, 5, 1, 2, 3, 4, 5]\n",
      "List After Removing Duplicates : [1, 2, 3, 4, 5]\n"
     ]
    }
   ],
   "source": [
    "list_with_duplicates = [1,2,3,4,5,1,2,3,4,5]\n",
    "unique_set = set(list_with_duplicates)\n",
    "list_after_removing_duplicates = list(unique_set)\n",
    "print(\"List With Duplicates :\" ,list_with_duplicates)\n",
    "print(\"List After Removing Duplicates :\" ,list_after_removing_duplicates)"
   ]
  },
  {
   "cell_type": "markdown",
   "id": "ca1e8f19-1751-4399-be62-06250156b576",
   "metadata": {},
   "source": [
    "### 44. Check if two sets have the same elements, regardless of their count."
   ]
  },
  {
   "cell_type": "code",
   "execution_count": 27,
   "id": "60db217f-16af-4bcf-9550-c2424df5ae05",
   "metadata": {},
   "outputs": [
    {
     "name": "stdout",
     "output_type": "stream",
     "text": [
      "Set 1 : {1, 2, 3}\n",
      "Set 2 : {1, 2, 3}\n",
      "The Sets have the Same Elements\n"
     ]
    }
   ],
   "source": [
    "set1 = {1,2,3,3,2,1}\n",
    "set2 = {3,2,1}\n",
    "print(\"Set 1 :\" ,set1)\n",
    "print(\"Set 2 :\" ,set2)\n",
    "if set1 == set2 :\n",
    "    print(\"The Sets have the Same Elements\")\n",
    "else :\n",
    "      print(\"The Sets do not have the Same Elements\")"
   ]
  },
  {
   "cell_type": "markdown",
   "id": "1542e355-ea77-409e-aa1d-012a0e68fc9c",
   "metadata": {},
   "source": [
    "### 45. Create a set of the first `n` powers of 2."
   ]
  },
  {
   "cell_type": "code",
   "execution_count": 28,
   "id": "d88a86d8-412a-4898-8f63-811d42c9d5ff",
   "metadata": {},
   "outputs": [
    {
     "name": "stdout",
     "output_type": "stream",
     "text": [
      "First 5 Powers of 2 : {1, 2, 4, 8, 16}\n"
     ]
    }
   ],
   "source": [
    "n = 5\n",
    "powers_of_2_set = {2**i for i in range(n)}\n",
    "print(\"First\" , n , \"Powers of 2 :\" ,powers_of_2_set)"
   ]
  },
  {
   "cell_type": "markdown",
   "id": "a7712c29-f63b-4d4d-806b-3ebaceec4eb9",
   "metadata": {},
   "source": [
    "### 46. Find the common elements between a set and a list."
   ]
  },
  {
   "cell_type": "code",
   "execution_count": 34,
   "id": "0ede47f5-40b9-4ef0-9a81-c4f1ade38b61",
   "metadata": {},
   "outputs": [
    {
     "name": "stdout",
     "output_type": "stream",
     "text": [
      "Common Elements : {4, 5}\n"
     ]
    }
   ],
   "source": [
    "Set = {1,2,3,4,5}\n",
    "List = [4,5,6,7]\n",
    "list_to_set = set(List)\n",
    "common_elements = Set.intersection(list_to_set)\n",
    "print(\"Common Elements :\" ,common_elements)"
   ]
  },
  {
   "cell_type": "markdown",
   "id": "cf355f3a-5e73-4198-b4a7-02e5719a1f39",
   "metadata": {},
   "source": [
    "### 47. Create a set of the first `n` triangular numbers."
   ]
  },
  {
   "cell_type": "code",
   "execution_count": 42,
   "id": "6dff1aef-f004-40a9-8fb3-4e9b6cc74935",
   "metadata": {},
   "outputs": [
    {
     "name": "stdin",
     "output_type": "stream",
     "text": [
      "Enter the Value of n : 10\n"
     ]
    },
    {
     "name": "stdout",
     "output_type": "stream",
     "text": [
      "The Set of First 10 Triangular Numbers : {1, 3, 36, 6, 10, 45, 15, 21, 55, 28}\n"
     ]
    }
   ],
   "source": [
    "n = int(input(\"Enter the Value of n :\"))\n",
    "triangular_numbers = {i *(i+1) // 2 for i in range(1, n + 1)}\n",
    "print(f\"The Set of First {n} Triangular Numbers :\" ,triangular_numbers)"
   ]
  },
  {
   "cell_type": "markdown",
   "id": "0c81f7b4-93f2-481a-a5ee-9c05ebf43db6",
   "metadata": {},
   "source": [
    "### 48. Check if a set contains another set as a subset."
   ]
  },
  {
   "cell_type": "code",
   "execution_count": 45,
   "id": "265d1daf-46e9-4319-a778-a9bb8b86b73e",
   "metadata": {},
   "outputs": [
    {
     "name": "stdout",
     "output_type": "stream",
     "text": [
      "set1 : {1, 2, 3, 4, 5}\n",
      "set2 : {2, 3}\n",
      "set2 is a Subset of set1\n"
     ]
    }
   ],
   "source": [
    "set1 = {1,2,3,4,5}\n",
    "set2 = {2,3}\n",
    "print(\"set1 :\" ,set1)\n",
    "print(\"set2 :\" ,set2)\n",
    "subset = set2.issubset(set1)\n",
    "if subset :\n",
    "    print(\"set2 is a Subset of set1\")\n",
    "else :\n",
    "    print(\"set2 is not a Subset of set1\")"
   ]
  },
  {
   "cell_type": "markdown",
   "id": "30394670-166e-4c12-9688-e693c809046c",
   "metadata": {},
   "source": [
    "### 49. Create a set of alternating 1s and 0s of length `n`."
   ]
  },
  {
   "cell_type": "code",
   "execution_count": 5,
   "id": "6a6c52ef-0aa9-413d-865b-00347abfe774",
   "metadata": {},
   "outputs": [
    {
     "name": "stdin",
     "output_type": "stream",
     "text": [
      "Enter the Length : 5\n"
     ]
    },
    {
     "name": "stdout",
     "output_type": "stream",
     "text": [
      "Alternating Set : {0, 1}\n"
     ]
    }
   ],
   "source": [
    "n = int(input(\"Enter the Length :\"))\n",
    "alternating_set = {1 if i % 2 == 0 else 0 for i in range(n)}\n",
    "print(\"Alternating Set :\" ,alternating_set)"
   ]
  },
  {
   "cell_type": "markdown",
   "id": "9de6277e-2c82-4e41-8012-950c21d75efb",
   "metadata": {},
   "source": [
    "### 50. Merge multiple sets into one."
   ]
  },
  {
   "cell_type": "code",
   "execution_count": 6,
   "id": "6ca8142e-7f47-49c7-9450-9ef45d826ddc",
   "metadata": {},
   "outputs": [
    {
     "name": "stdout",
     "output_type": "stream",
     "text": [
      "Merged Set : {1, 2, 3, 4, 5, 6, 7, 8, 9}\n"
     ]
    }
   ],
   "source": [
    "set1 = {1,2,3}\n",
    "set2 = {4,5,6}\n",
    "set3 = {7,8,9}\n",
    "merged_set = set1.union(set2 , set3)\n",
    "print(\"Merged Set :\" ,merged_set)"
   ]
  },
  {
   "cell_type": "code",
   "execution_count": null,
   "id": "9f18bab3-c3ff-4be3-a93f-5a931a4dda9b",
   "metadata": {},
   "outputs": [],
   "source": []
  }
 ],
 "metadata": {
  "kernelspec": {
   "display_name": "Python 3 (ipykernel)",
   "language": "python",
   "name": "python3"
  },
  "language_info": {
   "codemirror_mode": {
    "name": "ipython",
    "version": 3
   },
   "file_extension": ".py",
   "mimetype": "text/x-python",
   "name": "python",
   "nbconvert_exporter": "python",
   "pygments_lexer": "ipython3",
   "version": "3.10.8"
  }
 },
 "nbformat": 4,
 "nbformat_minor": 5
}
